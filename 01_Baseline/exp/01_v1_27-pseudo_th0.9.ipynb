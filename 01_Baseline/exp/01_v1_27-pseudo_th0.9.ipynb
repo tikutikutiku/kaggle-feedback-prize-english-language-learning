{
 "cells": [
  {
   "cell_type": "code",
   "execution_count": 2,
   "metadata": {},
   "outputs": [],
   "source": [
    "VERSION = '01_v1_27'\n",
    "MODEL = 'microsoft/deberta-v3-base'\n",
    "#'microsoft/deberta-base'\n",
    "#'microsoft/deberta-v3-large'\n",
    "LR = 2e-5 #8e-6\n",
    "HEAD_LR = 2e-4 #2e-5 #8e-6 \n",
    "SEED = 100\n",
    "TRN_BS = 8\n",
    "VAL_BS = 8\n",
    "ACCUM_STEP = 1\n",
    "HIDDEN_DROP_PROB = 0\n",
    "P_DROP = 0\n",
    "RNN = 'none'\n",
    "WARMUP_RATIO = 0.1\n",
    "HEAD = 'simple'\n",
    "AUG = 'false'\n",
    "MIXUP_ALPHA = 0\n",
    "P_AUG = 0\n",
    "AUG_STOP_EPOCH = 0\n",
    "MSD = 'false'\n",
    "MULTI_LAYERS = 1\n",
    "EVAL_STEP = -1\n",
    "NUM_LABELS = 6\n",
    "NUM_LABELS_2 = -1\n",
    "FP16 = 'true'\n",
    "WD = 0.01\n",
    "FREEZE = 'false'\n",
    "MULTI_TASK = 'false' \n",
    "W_MT = 0 \n",
    "AWP = 'false'\n",
    "AWP_LR = 0\n",
    "AWP_EPS = 0\n",
    "AWP_START_EPOCH = -1\n",
    "#PRETRAINED_DETECTOR_PATH = f'../../input/tascj/result/deberta_base_fold0.pth'\n",
    "PRETRAINED_DETECTOR_PATH = 'none' #f'../../05_Detection/exp/result/05_v2_09/model_seed100_fold0_swa.pth'\n",
    "MASK_PROB = 0 #0.8\n",
    "MASK_RATIO = 0 #0.3\n",
    "SCHEDULER = 'cosine_hard'\n",
    "CP = 'false'\n",
    "WINDOW_SIZE = -1 #512\n",
    "INNER_LEN = -1 #384\n",
    "EDGE_LEN = -1 #64\n",
    "MAX_LEN = 512\n",
    "\n",
    "GRAD_CLIP = 1\n",
    "\n",
    "LOSS = 'smoothl1'#'mse'"
   ]
  },
  {
   "cell_type": "markdown",
   "metadata": {},
   "source": [
    "# Pseudo"
   ]
  },
  {
   "cell_type": "code",
   "execution_count": 3,
   "metadata": {
    "scrolled": false
   },
   "outputs": [
    {
     "name": "stdout",
     "output_type": "stream",
     "text": [
      "torch 1.10.1\n",
      "2022-09-18 21:07:55.783480: W tensorflow/stream_executor/platform/default/dso_loader.cc:59] Could not load dynamic library 'libcudart.so.10.1'; dlerror: libcudart.so.10.1: cannot open shared object file: No such file or directory; LD_LIBRARY_PATH: /usr/local/cuda-10.2/lib64:\n",
      "2022-09-18 21:07:55.783515: I tensorflow/stream_executor/cuda/cudart_stub.cc:29] Ignore above cudart dlerror if you do not have a GPU set up on your machine.\n",
      "test_df.shape =  (3351, 2)\n",
      "test_df.columns =  Index(['essay_id', 'full_text'], dtype='object')\n",
      "100%|█████████████████████████████████████████| 419/419 [02:52<00:00,  2.43it/s]\n",
      "essay_ids.shape =  (3351,)\n",
      "preds.shape =  (3351, 6)\n"
     ]
    }
   ],
   "source": [
    "FOLD = 0\n",
    "INPUT_PATH = '../../input/feedback-prize-english-language-learning/'\n",
    "FOLD_PATH = '../../00_EDA/00_v1_02/result/'\n",
    "\n",
    "UNLABELED_DATA_PATH = '../../00_EDA/00_v1_05/result/similar_df.csv'\n",
    "\n",
    "!python ../$VERSION/pseudo_label.py --model $MODEL --version $VERSION \\\n",
    "--fold_path $FOLD_PATH --fold $FOLD --seed $SEED --test_batch_size $VAL_BS \\\n",
    "--rnn $RNN --loss $LOSS --mt $MULTI_TASK --num_labels $NUM_LABELS --loss $LOSS \\\n",
    "--window_size $WINDOW_SIZE --inner_len $INNER_LEN --edge_len $EDGE_LEN --max_length $MAX_LEN  \\\n",
    "--unlabeled_data_path $UNLABELED_DATA_PATH"
   ]
  },
  {
   "cell_type": "code",
   "execution_count": null,
   "metadata": {},
   "outputs": [],
   "source": [
    "for FOLD in [1,2,3,4]:\n",
    "    !python ../$VERSION/pseudo_label.py --model $MODEL --version $VERSION \\\n",
    "    --fold_path $FOLD_PATH --fold $FOLD --seed $SEED --test_batch_size $VAL_BS \\\n",
    "    --rnn $RNN --loss $LOSS --mt $MULTI_TASK --num_labels $NUM_LABELS --loss $LOSS \\\n",
    "    --window_size $WINDOW_SIZE --inner_len $INNER_LEN --edge_len $EDGE_LEN --max_length $MAX_LEN  \\\n",
    "    --unlabeled_data_path $UNLABELED_DATA_PATH"
   ]
  },
  {
   "cell_type": "code",
   "execution_count": 4,
   "metadata": {},
   "outputs": [
    {
     "data": {
      "text/html": [
       "<div>\n",
       "<style scoped>\n",
       "    .dataframe tbody tr th:only-of-type {\n",
       "        vertical-align: middle;\n",
       "    }\n",
       "\n",
       "    .dataframe tbody tr th {\n",
       "        vertical-align: top;\n",
       "    }\n",
       "\n",
       "    .dataframe thead th {\n",
       "        text-align: right;\n",
       "    }\n",
       "</style>\n",
       "<table border=\"1\" class=\"dataframe\">\n",
       "  <thead>\n",
       "    <tr style=\"text-align: right;\">\n",
       "      <th></th>\n",
       "      <th>essay_id</th>\n",
       "      <th>full_text</th>\n",
       "      <th>text_id</th>\n",
       "      <th>cohesion</th>\n",
       "      <th>syntax</th>\n",
       "      <th>vocabulary</th>\n",
       "      <th>phraseology</th>\n",
       "      <th>grammar</th>\n",
       "      <th>conventions</th>\n",
       "    </tr>\n",
       "  </thead>\n",
       "  <tbody>\n",
       "    <tr>\n",
       "      <th>0</th>\n",
       "      <td>000E6DE9E817</td>\n",
       "      <td>Dear: Principal\\n\\nI am arguing against the po...</td>\n",
       "      <td>000E6DE9E817</td>\n",
       "      <td>3.022409</td>\n",
       "      <td>3.010984</td>\n",
       "      <td>3.240413</td>\n",
       "      <td>3.039336</td>\n",
       "      <td>2.951416</td>\n",
       "      <td>3.229907</td>\n",
       "    </tr>\n",
       "    <tr>\n",
       "      <th>1</th>\n",
       "      <td>0056F3D261D5</td>\n",
       "      <td>Millions of students from various cultures and...</td>\n",
       "      <td>0056F3D261D5</td>\n",
       "      <td>4.550495</td>\n",
       "      <td>4.445793</td>\n",
       "      <td>4.546539</td>\n",
       "      <td>4.551374</td>\n",
       "      <td>4.444950</td>\n",
       "      <td>4.447504</td>\n",
       "    </tr>\n",
       "  </tbody>\n",
       "</table>\n",
       "</div>"
      ],
      "text/plain": [
       "       essay_id                                          full_text  \\\n",
       "0  000E6DE9E817  Dear: Principal\\n\\nI am arguing against the po...   \n",
       "1  0056F3D261D5  Millions of students from various cultures and...   \n",
       "\n",
       "        text_id  cohesion    syntax  vocabulary  phraseology   grammar  \\\n",
       "0  000E6DE9E817  3.022409  3.010984    3.240413     3.039336  2.951416   \n",
       "1  0056F3D261D5  4.550495  4.445793    4.546539     4.551374  4.444950   \n",
       "\n",
       "   conventions  \n",
       "0     3.229907  \n",
       "1     4.447504  "
      ]
     },
     "execution_count": 4,
     "metadata": {},
     "output_type": "execute_result"
    }
   ],
   "source": [
    "import pandas as pd\n",
    "pseudo_fold0_df = pd.read_csv('result/01_v1_27/pseudo_fold0.csv')\n",
    "pseudo_fold0_df.head(2)"
   ]
  },
  {
   "cell_type": "code",
   "execution_count": 5,
   "metadata": {},
   "outputs": [
    {
     "data": {
      "image/png": "[encoded data removed]",
      "text/plain": [
       "<Figure size 432x288 with 1 Axes>"
      ]
     },
     "metadata": {
      "needs_background": "light"
     },
     "output_type": "display_data"
    }
   ],
   "source": [
    "cols = ['cohesion','syntax','vocabulary','phraseology','grammar','conventions']\n",
    "\n",
    "pseudo_fold0_df['mean'] = pseudo_fold0_df[cols].mean(axis=1)\n",
    "\n",
    "import matplotlib.pyplot as plt\n",
    "plt.hist(pseudo_fold0_df['mean'].values, bins=100);"
   ]
  },
  {
   "cell_type": "code",
   "execution_count": null,
   "metadata": {},
   "outputs": [],
   "source": []
  },
  {
   "cell_type": "code",
   "execution_count": null,
   "metadata": {},
   "outputs": [],
   "source": []
  }
 ],
 "metadata": {
  "kernelspec": {
   "display_name": "Python 3",
   "language": "python",
   "name": "python3"
  },
  "language_info": {
   "codemirror_mode": {
    "name": "ipython",
    "version": 3
   },
   "file_extension": ".py",
   "mimetype": "text/x-python",
   "name": "python",
   "nbconvert_exporter": "python",
   "pygments_lexer": "ipython3",
   "version": "3.7.8"
  }
 },
 "nbformat": 4,
 "nbformat_minor": 4
}
