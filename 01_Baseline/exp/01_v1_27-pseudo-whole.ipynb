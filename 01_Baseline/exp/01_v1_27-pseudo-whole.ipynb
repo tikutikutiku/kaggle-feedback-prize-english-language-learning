{
 "cells": [
  {
   "cell_type": "code",
   "execution_count": 1,
   "metadata": {},
   "outputs": [],
   "source": [
    "VERSION = '01_v1_27'\n",
    "MODEL = 'microsoft/deberta-v3-base'\n",
    "#'microsoft/deberta-base'\n",
    "#'microsoft/deberta-v3-large'\n",
    "LR = 2e-5 #8e-6\n",
    "HEAD_LR = 2e-4 #2e-5 #8e-6 \n",
    "SEED = 100\n",
    "TRN_BS = 8\n",
    "VAL_BS = 8\n",
    "ACCUM_STEP = 1\n",
    "HIDDEN_DROP_PROB = 0\n",
    "P_DROP = 0\n",
    "RNN = 'none'\n",
    "WARMUP_RATIO = 0.1\n",
    "HEAD = 'simple'\n",
    "AUG = 'false'\n",
    "MIXUP_ALPHA = 0\n",
    "P_AUG = 0\n",
    "AUG_STOP_EPOCH = 0\n",
    "MSD = 'false'\n",
    "MULTI_LAYERS = 1\n",
    "EVAL_STEP = -1\n",
    "NUM_LABELS = 6\n",
    "NUM_LABELS_2 = -1\n",
    "FP16 = 'true'\n",
    "WD = 0.01\n",
    "FREEZE = 'false'\n",
    "MULTI_TASK = 'false' \n",
    "W_MT = 0 \n",
    "AWP = 'false'\n",
    "AWP_LR = 0\n",
    "AWP_EPS = 0\n",
    "AWP_START_EPOCH = -1\n",
    "#PRETRAINED_DETECTOR_PATH = f'../../input/tascj/result/deberta_base_fold0.pth'\n",
    "PRETRAINED_DETECTOR_PATH = 'none' #f'../../05_Detection/exp/result/05_v2_09/model_seed100_fold0_swa.pth'\n",
    "MASK_PROB = 0 #0.8\n",
    "MASK_RATIO = 0 #0.3\n",
    "SCHEDULER = 'cosine_hard'\n",
    "CP = 'false'\n",
    "WINDOW_SIZE = -1 #512\n",
    "INNER_LEN = -1 #384\n",
    "EDGE_LEN = -1 #64\n",
    "MAX_LEN = 512\n",
    "\n",
    "GRAD_CLIP = 1\n",
    "\n",
    "LOSS = 'smoothl1'#'mse'"
   ]
  },
  {
   "cell_type": "markdown",
   "metadata": {},
   "source": [
    "# Pseudo"
   ]
  },
  {
   "cell_type": "code",
   "execution_count": 2,
   "metadata": {},
   "outputs": [],
   "source": [
    "INPUT_PATH = '../../input/feedback-prize-english-language-learning/'\n",
    "FOLD_PATH = '../../00_EDA/00_v1_02/result/'\n",
    "\n",
    "UNLABELED_DATA_PATH = '../../00_EDA/00_v1_07/result/similar_df.csv'"
   ]
  },
  {
   "cell_type": "code",
   "execution_count": 3,
   "metadata": {
    "scrolled": false
   },
   "outputs": [
    {
     "name": "stdout",
     "output_type": "stream",
     "text": [
      "torch 1.10.1\n",
      "2022-09-18 19:47:45.807512: W tensorflow/stream_executor/platform/default/dso_loader.cc:59] Could not load dynamic library 'libcudart.so.10.1'; dlerror: libcudart.so.10.1: cannot open shared object file: No such file or directory; LD_LIBRARY_PATH: /usr/local/cuda-10.2/lib64:\n",
      "2022-09-18 19:47:45.807535: I tensorflow/stream_executor/cuda/cudart_stub.cc:29] Ignore above cudart dlerror if you do not have a GPU set up on your machine.\n",
      "test_df.shape =  (15142, 2)\n",
      "test_df.columns =  Index(['essay_id', 'full_text'], dtype='object')\n",
      "100%|███████████████████████████████████████| 1893/1893 [12:39<00:00,  2.49it/s]\n",
      "essay_ids.shape =  (15142,)\n",
      "preds.shape =  (15142, 6)\n"
     ]
    }
   ],
   "source": [
    "FOLD = 0\n",
    "\n",
    "!python ../$VERSION/pseudo_label.py --model $MODEL --version $VERSION \\\n",
    "--fold_path $FOLD_PATH --fold $FOLD --seed $SEED --test_batch_size $VAL_BS \\\n",
    "--rnn $RNN --loss $LOSS --mt $MULTI_TASK --num_labels $NUM_LABELS --loss $LOSS \\\n",
    "--window_size $WINDOW_SIZE --inner_len $INNER_LEN --edge_len $EDGE_LEN --max_length $MAX_LEN  \\\n",
    "--unlabeled_data_path $UNLABELED_DATA_PATH"
   ]
  },
  {
   "cell_type": "code",
   "execution_count": null,
   "metadata": {},
   "outputs": [],
   "source": [
    "for FOLD in [1,2,3,4]:\n",
    "    !python ../$VERSION/pseudo_label.py --model $MODEL --version $VERSION \\\n",
    "    --fold_path $FOLD_PATH --fold $FOLD --seed $SEED --test_batch_size $VAL_BS \\\n",
    "    --rnn $RNN --loss $LOSS --mt $MULTI_TASK --num_labels $NUM_LABELS --loss $LOSS \\\n",
    "    --window_size $WINDOW_SIZE --inner_len $INNER_LEN --edge_len $EDGE_LEN --max_length $MAX_LEN  \\\n",
    "    --unlabeled_data_path $UNLABELED_DATA_PATH"
   ]
  },
  {
   "cell_type": "code",
   "execution_count": 4,
   "metadata": {},
   "outputs": [
    {
     "data": {
      "text/html": [
       "<div>\n",
       "<style scoped>\n",
       "    .dataframe tbody tr th:only-of-type {\n",
       "        vertical-align: middle;\n",
       "    }\n",
       "\n",
       "    .dataframe tbody tr th {\n",
       "        vertical-align: top;\n",
       "    }\n",
       "\n",
       "    .dataframe thead th {\n",
       "        text-align: right;\n",
       "    }\n",
       "</style>\n",
       "<table border=\"1\" class=\"dataframe\">\n",
       "  <thead>\n",
       "    <tr style=\"text-align: right;\">\n",
       "      <th></th>\n",
       "      <th>essay_id</th>\n",
       "      <th>full_text</th>\n",
       "      <th>text_id</th>\n",
       "      <th>cohesion</th>\n",
       "      <th>syntax</th>\n",
       "      <th>vocabulary</th>\n",
       "      <th>phraseology</th>\n",
       "      <th>grammar</th>\n",
       "      <th>conventions</th>\n",
       "    </tr>\n",
       "  </thead>\n",
       "  <tbody>\n",
       "    <tr>\n",
       "      <th>0</th>\n",
       "      <td>0000D23A521A</td>\n",
       "      <td>Some people belive that the so called \"face\" o...</td>\n",
       "      <td>0000D23A521A</td>\n",
       "      <td>0.139081</td>\n",
       "      <td>0.163955</td>\n",
       "      <td>0.181546</td>\n",
       "      <td>0.166915</td>\n",
       "      <td>0.210747</td>\n",
       "      <td>0.137757</td>\n",
       "    </tr>\n",
       "    <tr>\n",
       "      <th>1</th>\n",
       "      <td>00066EA9880D</td>\n",
       "      <td>Driverless cars are exaclty what you would exp...</td>\n",
       "      <td>00066EA9880D</td>\n",
       "      <td>0.141808</td>\n",
       "      <td>0.163681</td>\n",
       "      <td>0.199362</td>\n",
       "      <td>0.185111</td>\n",
       "      <td>0.185812</td>\n",
       "      <td>0.124227</td>\n",
       "    </tr>\n",
       "  </tbody>\n",
       "</table>\n",
       "</div>"
      ],
      "text/plain": [
       "       essay_id                                          full_text  \\\n",
       "0  0000D23A521A  Some people belive that the so called \"face\" o...   \n",
       "1  00066EA9880D  Driverless cars are exaclty what you would exp...   \n",
       "\n",
       "        text_id  cohesion    syntax  vocabulary  phraseology   grammar  \\\n",
       "0  0000D23A521A  0.139081  0.163955    0.181546     0.166915  0.210747   \n",
       "1  00066EA9880D  0.141808  0.163681    0.199362     0.185111  0.185812   \n",
       "\n",
       "   conventions  \n",
       "0     0.137757  \n",
       "1     0.124227  "
      ]
     },
     "execution_count": 4,
     "metadata": {},
     "output_type": "execute_result"
    }
   ],
   "source": [
    "import pandas as pd\n",
    "pd.read_csv('result/01_v1_27/pseudo_fold0.csv').head(2)"
   ]
  },
  {
   "cell_type": "code",
   "execution_count": null,
   "metadata": {},
   "outputs": [],
   "source": []
  },
  {
   "cell_type": "code",
   "execution_count": null,
   "metadata": {},
   "outputs": [],
   "source": []
  },
  {
   "cell_type": "code",
   "execution_count": null,
   "metadata": {},
   "outputs": [],
   "source": []
  }
 ],
 "metadata": {
  "kernelspec": {
   "display_name": "Python 3",
   "language": "python",
   "name": "python3"
  },
  "language_info": {
   "codemirror_mode": {
    "name": "ipython",
    "version": 3
   },
   "file_extension": ".py",
   "mimetype": "text/x-python",
   "name": "python",
   "nbconvert_exporter": "python",
   "pygments_lexer": "ipython3",
   "version": "3.7.8"
  }
 },
 "nbformat": 4,
 "nbformat_minor": 4
}
