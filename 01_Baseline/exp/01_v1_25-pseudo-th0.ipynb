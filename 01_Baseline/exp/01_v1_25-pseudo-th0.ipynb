{
 "cells": [
  {
   "cell_type": "code",
   "execution_count": 4,
   "metadata": {},
   "outputs": [],
   "source": [
    "VERSION = '01_v1_25'\n",
    "MODEL = 'microsoft/deberta-large'\n",
    "#'microsoft/deberta-v3-base'\n",
    "#'microsoft/deberta-base'\n",
    "#'microsoft/deberta-v3-large'\n",
    "SEED = 100\n",
    "VAL_BS = 6 #8\n",
    "RNN = 'none'\n",
    "HEAD = 'simple'\n",
    "MULTI_LAYERS = 1\n",
    "EVAL_STEP = -1\n",
    "NUM_LABELS = 6\n",
    "NUM_LABELS_2 = -1\n",
    "FP16 = 'true'\n",
    "WD = 0.01\n",
    "FREEZE = 'false'\n",
    "MULTI_TASK = 'false' \n",
    "W_MT = 0 \n",
    "AWP = 'false'\n",
    "AWP_LR = 0\n",
    "AWP_EPS = 0\n",
    "AWP_START_EPOCH = -1\n",
    "#PRETRAINED_DETECTOR_PATH = f'../../input/tascj/result/deberta_base_fold0.pth'\n",
    "PRETRAINED_DETECTOR_PATH = 'none' #f'../../05_Detection/exp/result/05_v2_09/model_seed100_fold0_swa.pth'\n",
    "CP = 'false'\n",
    "WINDOW_SIZE = -1 #512\n",
    "INNER_LEN = -1 #384\n",
    "EDGE_LEN = -1 #64\n",
    "MAX_LEN = 512\n",
    "\n",
    "LOSS = 'smoothl1'#'mse'"
   ]
  },
  {
   "cell_type": "markdown",
   "metadata": {},
   "source": [
    "# Pseudo"
   ]
  },
  {
   "cell_type": "code",
   "execution_count": 5,
   "metadata": {},
   "outputs": [],
   "source": [
    "INPUT_PATH = '../../input/feedback-prize-english-language-learning/'\n",
    "FOLD_PATH = '../../00_EDA/00_v1_02/result/'\n",
    "\n",
    "UNLABELED_DATA_PATH = '../../00_EDA/00_v1_07/result/similar_df.csv'"
   ]
  },
  {
   "cell_type": "code",
   "execution_count": 6,
   "metadata": {
    "scrolled": false
   },
   "outputs": [
    {
     "name": "stdout",
     "output_type": "stream",
     "text": [
      "torch 1.10.1\n",
      "2022-10-01 23:10:02.756995: W tensorflow/stream_executor/platform/default/dso_loader.cc:59] Could not load dynamic library 'libcudart.so.10.1'; dlerror: libcudart.so.10.1: cannot open shared object file: No such file or directory; LD_LIBRARY_PATH: /usr/local/cuda-10.2/lib64:\n",
      "2022-10-01 23:10:02.757017: I tensorflow/stream_executor/cuda/cudart_stub.cc:29] Ignore above cudart dlerror if you do not have a GPU set up on your machine.\n",
      "test_df.shape =  (15142, 2)\n",
      "test_df.columns =  Index(['essay_id', 'full_text'], dtype='object')\n",
      " 11%|████▎                                   | 271/2524 [03:30<29:09,  1.29it/s]\n",
      "Traceback (most recent call last):\n",
      "  File \"../01_v1_25/pseudo_label.py\", line 142, in <module>\n",
      "    output = model.test_step(batch)\n",
      "  File \"/home/takesako/programming/kaggle/kaggle-feedback-prize-english-language-learning/01_Baseline/01_v1_25/models.py\", line 406, in test_step\n",
      "    logits = self.forward_logits(**input_data)\n",
      "  File \"/home/takesako/programming/kaggle/kaggle-feedback-prize-english-language-learning/01_Baseline/01_v1_25/models.py\", line 245, in forward_logits\n",
      "    attention_mask=attention_mask).last_hidden_state\n",
      "  File \"/home/takesako/anaconda3/lib/python3.7/site-packages/torch/nn/modules/module.py\", line 1102, in _call_impl\n",
      "    return forward_call(*input, **kwargs)\n",
      "  File \"/home/takesako/anaconda3/lib/python3.7/site-packages/transformers/models/deberta/modeling_deberta.py\", line 959, in forward\n",
      "    return_dict=return_dict,\n",
      "  File \"/home/takesako/anaconda3/lib/python3.7/site-packages/torch/nn/modules/module.py\", line 1102, in _call_impl\n",
      "    return forward_call(*input, **kwargs)\n",
      "  File \"/home/takesako/anaconda3/lib/python3.7/site-packages/transformers/models/deberta/modeling_deberta.py\", line 453, in forward\n",
      "    output_attentions=output_attentions,\n",
      "  File \"/home/takesako/anaconda3/lib/python3.7/site-packages/torch/nn/modules/module.py\", line 1102, in _call_impl\n",
      "    return forward_call(*input, **kwargs)\n",
      "  File \"/home/takesako/anaconda3/lib/python3.7/site-packages/transformers/models/deberta/modeling_deberta.py\", line 358, in forward\n",
      "    rel_embeddings=rel_embeddings,\n",
      "  File \"/home/takesako/anaconda3/lib/python3.7/site-packages/torch/nn/modules/module.py\", line 1102, in _call_impl\n",
      "    return forward_call(*input, **kwargs)\n",
      "  File \"/home/takesako/anaconda3/lib/python3.7/site-packages/transformers/models/deberta/modeling_deberta.py\", line 291, in forward\n",
      "    rel_embeddings=rel_embeddings,\n",
      "  File \"/home/takesako/anaconda3/lib/python3.7/site-packages/torch/nn/modules/module.py\", line 1102, in _call_impl\n",
      "    return forward_call(*input, **kwargs)\n",
      "  File \"/home/takesako/anaconda3/lib/python3.7/site-packages/transformers/models/deberta/modeling_deberta.py\", line 638, in forward\n",
      "    rel_att = self.disentangled_att_bias(query_layer, key_layer, relative_pos, rel_embeddings, scale_factor)\n",
      "  File \"/home/takesako/anaconda3/lib/python3.7/site-packages/transformers/models/deberta/modeling_deberta.py\", line 687, in disentangled_att_bias\n",
      "    c2p_att = torch.gather(c2p_att, dim=-1, index=c2p_dynamic_expand(c2p_pos, query_layer, relative_pos))\n",
      "RuntimeError: CUDA out of memory. Tried to allocate 13.89 GiB (GPU 0; 23.65 GiB total capacity; 19.33 GiB already allocated; 2.30 GiB free; 19.67 GiB reserved in total by PyTorch) If reserved memory is >> allocated memory try setting max_split_size_mb to avoid fragmentation.  See documentation for Memory Management and PYTORCH_CUDA_ALLOC_CONF\n"
     ]
    }
   ],
   "source": [
    "FOLD = 0\n",
    "\n",
    "!python ../$VERSION/pseudo_label.py --model $MODEL --version $VERSION \\\n",
    "--fold_path $FOLD_PATH --fold $FOLD --seed $SEED --test_batch_size $VAL_BS \\\n",
    "--rnn $RNN --loss $LOSS --mt $MULTI_TASK --num_labels $NUM_LABELS --loss $LOSS \\\n",
    "--window_size $WINDOW_SIZE --inner_len $INNER_LEN --edge_len $EDGE_LEN --max_length $MAX_LEN  \\\n",
    "--unlabeled_data_path $UNLABELED_DATA_PATH"
   ]
  },
  {
   "cell_type": "code",
   "execution_count": null,
   "metadata": {},
   "outputs": [],
   "source": [
    "for FOLD in [1,2,3,4]:\n",
    "    !python ../$VERSION/pseudo_label.py --model $MODEL --version $VERSION \\\n",
    "    --fold_path $FOLD_PATH --fold $FOLD --seed $SEED --test_batch_size $VAL_BS \\\n",
    "    --rnn $RNN --loss $LOSS --mt $MULTI_TASK --num_labels $NUM_LABELS --loss $LOSS \\\n",
    "    --window_size $WINDOW_SIZE --inner_len $INNER_LEN --edge_len $EDGE_LEN --max_length $MAX_LEN  \\\n",
    "    --unlabeled_data_path $UNLABELED_DATA_PATH"
   ]
  },
  {
   "cell_type": "code",
   "execution_count": null,
   "metadata": {},
   "outputs": [],
   "source": []
  }
 ],
 "metadata": {
  "kernelspec": {
   "display_name": "Python 3",
   "language": "python",
   "name": "python3"
  },
  "language_info": {
   "codemirror_mode": {
    "name": "ipython",
    "version": 3
   },
   "file_extension": ".py",
   "mimetype": "text/x-python",
   "name": "python",
   "nbconvert_exporter": "python",
   "pygments_lexer": "ipython3",
   "version": "3.7.8"
  }
 },
 "nbformat": 4,
 "nbformat_minor": 4
}
