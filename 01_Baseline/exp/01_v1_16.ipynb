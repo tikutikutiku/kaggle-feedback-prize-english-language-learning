{
 "cells": [
  {
   "cell_type": "code",
   "execution_count": 1,
   "metadata": {},
   "outputs": [],
   "source": [
    "VERSION = '01_v1_16'\n",
    "MODEL = 'microsoft/deberta-v3-large'\n",
    "#'microsoft/deberta-v3-base'\n",
    "#'microsoft/deberta-base'\n",
    "LR = 1e-5\n",
    "HEAD_LR = 1e-5 \n",
    "SEED = 100\n",
    "TRN_BS = 8\n",
    "VAL_BS = 8\n",
    "ACCUM_STEP = 1\n",
    "HIDDEN_DROP_PROB = 0\n",
    "P_DROP = 0\n",
    "RNN = 'none'\n",
    "WARMUP_RATIO = 0.1\n",
    "HEAD = 'simple'\n",
    "AUG = 'false'\n",
    "MIXUP_ALPHA = 0\n",
    "P_AUG = 0\n",
    "AUG_STOP_EPOCH = 0\n",
    "MSD = 'false'\n",
    "MULTI_LAYERS = 1\n",
    "EVAL_STEP = -1\n",
    "NUM_LABELS = 6\n",
    "NUM_LABELS_2 = -1\n",
    "FP16 = 'true'\n",
    "WD = 0.01\n",
    "FREEZE = 'false'\n",
    "MULTI_TASK = 'false' \n",
    "W_MT = 0 \n",
    "AWP = 'false'\n",
    "AWP_LR = 0\n",
    "AWP_EPS = 0\n",
    "AWP_START_EPOCH = -1\n",
    "#PRETRAINED_DETECTOR_PATH = f'../../input/tascj/result/deberta_base_fold0.pth'\n",
    "PRETRAINED_DETECTOR_PATH = 'none' #f'../../05_Detection/exp/result/05_v2_09/model_seed100_fold0_swa.pth'\n",
    "MASK_PROB = 0 #0.8\n",
    "MASK_RATIO = 0 #0.3\n",
    "SCHEDULER = 'cosine_hard'\n",
    "CP = 'false'\n",
    "WINDOW_SIZE = -1 #512\n",
    "INNER_LEN = -1 #384\n",
    "EDGE_LEN = -1 #64\n",
    "MAX_LEN = 512\n",
    "\n",
    "GRAD_CLIP = 1\n",
    "\n",
    "LOSS = 'smoothl1'#'mse'"
   ]
  },
  {
   "cell_type": "code",
   "execution_count": 2,
   "metadata": {
    "scrolled": false
   },
   "outputs": [
    {
     "name": "stdout",
     "output_type": "stream",
     "text": [
      "torch 1.10.1\n",
      "args.mode =  train\n",
      "train_df.shape =  (3911, 8)\n",
      "load folds...\n",
      "trn_df.shape =  (3128, 8)\n",
      "val_df.shape =  (783, 8)\n",
      "2022-09-03 14:12:10.527328: W tensorflow/stream_executor/platform/default/dso_loader.cc:59] Could not load dynamic library 'libcudart.so.10.1'; dlerror: libcudart.so.10.1: cannot open shared object file: No such file or directory; LD_LIBRARY_PATH: /usr/local/cuda-10.2/lib64:\n",
      "2022-09-03 14:12:10.527353: I tensorflow/stream_executor/cuda/cudart_stub.cc:29] Ignore above cudart dlerror if you do not have a GPU set up on your machine.\n",
      "self.warmup_ratio =  0.1\n",
      "self.num_train_steps =  1955\n",
      "num_warmup_steps =  195\n",
      "lr :  [0.0, 0.0, 0.0]\n",
      "100%|█████████████████████████████| 391/391 [04:27<00:00,  1.46it/s, loss=0.619]\n",
      "100%|███████████████████████████████████████████| 98/98 [00:51<00:00,  1.91it/s]\n",
      "epoch 1: trn_loss = 0.6186, val_loss = 0.1077, trn_score = 1.4231, val_score = 0.4647\n",
      "lr :  [4.1122340187284845e-06, 4.1122340187284845e-06, 4.1122340187284845e-06]\n",
      "100%|█████████████████████████████| 391/391 [04:31<00:00,  1.44it/s, loss=0.109]\n",
      "100%|███████████████████████████████████████████| 98/98 [00:51<00:00,  1.92it/s]\n",
      "epoch 2: trn_loss = 0.1090, val_loss = 0.1058, trn_score = 0.4679, val_score = 0.4603\n",
      "lr :  [2.4871289844663454e-06, 2.4871289844663454e-06, 2.4871289844663454e-06]\n",
      "100%|█████████████████████████████| 391/391 [04:29<00:00,  1.45it/s, loss=0.104]\n",
      "100%|███████████████████████████████████████████| 98/98 [00:51<00:00,  1.92it/s]\n",
      "epoch 3: trn_loss = 0.1039, val_loss = 0.1042, trn_score = 0.4568, val_score = 0.4570\n",
      "lr :  [1.1634110262918729e-06, 1.1634110262918729e-06, 1.1634110262918729e-06]\n",
      "100%|█████████████████████████████| 391/391 [04:30<00:00,  1.45it/s, loss=0.101]\n",
      "100%|███████████████████████████████████████████| 98/98 [00:51<00:00,  1.91it/s]\n",
      "epoch 4: trn_loss = 0.1013, val_loss = 0.1034, trn_score = 0.4509, val_score = 0.4551\n",
      "lr :  [2.9984336066654963e-07, 2.9984336066654963e-07, 2.9984336066654963e-07]\n",
      "100%|████████████████████████████| 391/391 [04:30<00:00,  1.44it/s, loss=0.0981]\n",
      "100%|███████████████████████████████████████████| 98/98 [00:51<00:00,  1.89it/s]\n",
      "epoch 5: trn_loss = 0.0981, val_loss = 0.1026, trn_score = 0.4436, val_score = 0.4533\n",
      "\n"
     ]
    }
   ],
   "source": [
    "FOLD = 0\n",
    "INPUT_PATH = '../../input/feedback-prize-english-language-learning/'\n",
    "FOLD_PATH = '../../00_EDA/00_v1_02/result/'\n",
    "MODE = 'train'\n",
    "EPOCHS = 5\n",
    "STOP_EPOCH = 5\n",
    "RESTART = 1\n",
    "NUM_CYCLES = EPOCHS\n",
    "PRETRAIN_PATH = 'none' #f'result/{VERSION}/model_seed{SEED}_fold{FOLD}_epoch{EPOCHS}_pseudo.pth'\n",
    "\n",
    "!python ../$VERSION/train.py --model $MODEL --version $VERSION --fold_path $FOLD_PATH --fold $FOLD --seed $SEED \\\n",
    "--lr $LR --head_lr $HEAD_LR --trn_batch_size $TRN_BS --val_batch_size $VAL_BS \\\n",
    "--epochs $EPOCHS --hidden_drop_prob $HIDDEN_DROP_PROB --p_drop $P_DROP \\\n",
    "--accumulate_grad_batches $ACCUM_STEP --rnn $RNN --warmup_ratio $WARMUP_RATIO --loss $LOSS --aug $AUG --head $HEAD \\\n",
    "--mixup_alpha $MIXUP_ALPHA --p_aug $P_AUG --aug_stop_epoch $AUG_STOP_EPOCH \\\n",
    "--msd $MSD --multi_layers $MULTI_LAYERS --eval_step $EVAL_STEP --stop_epoch $STOP_EPOCH \\\n",
    "--num_labels $NUM_LABELS --num_labels_2 $NUM_LABELS_2 \\\n",
    "--restart_epoch $RESTART --fp16 $FP16 --weight_decay $WD --freeze_layers $FREEZE \\\n",
    "--mt $MULTI_TASK --w_mt $W_MT \\\n",
    "--awp $AWP --awp_lr $AWP_LR --awp_eps $AWP_EPS --awp_start_epoch $AWP_START_EPOCH \\\n",
    "--pretrained_detector_path $PRETRAINED_DETECTOR_PATH --mask_prob $MASK_PROB --mask_ratio $MASK_RATIO \\\n",
    "--scheduler $SCHEDULER --num_cycles $NUM_CYCLES --check_pointing $CP \\\n",
    "--window_size $WINDOW_SIZE --inner_len $INNER_LEN --edge_len $EDGE_LEN \\\n",
    "--gradient_clip_val $GRAD_CLIP \\\n",
    "--input_path $INPUT_PATH --mode $MODE --pretrain_path $PRETRAIN_PATH --max_length $MAX_LEN"
   ]
  },
  {
   "cell_type": "code",
   "execution_count": 3,
   "metadata": {},
   "outputs": [
    {
     "name": "stdout",
     "output_type": "stream",
     "text": [
      "torch 1.10.1\n",
      "args.mode =  train\n",
      "train_df.shape =  (3911, 8)\n",
      "load folds...\n",
      "trn_df.shape =  (3129, 8)\n",
      "val_df.shape =  (782, 8)\n",
      "2022-09-03 14:39:26.205427: W tensorflow/stream_executor/platform/default/dso_loader.cc:59] Could not load dynamic library 'libcudart.so.10.1'; dlerror: libcudart.so.10.1: cannot open shared object file: No such file or directory; LD_LIBRARY_PATH: /usr/local/cuda-10.2/lib64:\n",
      "2022-09-03 14:39:26.205450: I tensorflow/stream_executor/cuda/cudart_stub.cc:29] Ignore above cudart dlerror if you do not have a GPU set up on your machine.\n",
      "self.warmup_ratio =  0.1\n",
      "self.num_train_steps =  1955\n",
      "num_warmup_steps =  195\n",
      "lr :  [0.0, 0.0, 0.0]\n",
      "100%|██████████████████████████████| 391/391 [04:33<00:00,  1.43it/s, loss=0.72]\n",
      "100%|███████████████████████████████████████████| 98/98 [00:51<00:00,  1.91it/s]\n",
      "epoch 1: trn_loss = 0.7200, val_loss = 0.1092, trn_score = 1.5793, val_score = 0.4687\n",
      "lr :  [4.1122340187284845e-06, 4.1122340187284845e-06, 4.1122340187284845e-06]\n",
      "100%|██████████████████████████████| 391/391 [04:30<00:00,  1.44it/s, loss=0.11]\n",
      "100%|███████████████████████████████████████████| 98/98 [00:51<00:00,  1.92it/s]\n",
      "epoch 2: trn_loss = 0.1103, val_loss = 0.1131, trn_score = 0.4707, val_score = 0.4764\n",
      "lr :  [2.4871289844663454e-06, 2.4871289844663454e-06, 2.4871289844663454e-06]\n",
      "100%|█████████████████████████████| 391/391 [04:30<00:00,  1.44it/s, loss=0.107]\n",
      "100%|███████████████████████████████████████████| 98/98 [00:51<00:00,  1.92it/s]\n",
      "epoch 3: trn_loss = 0.1070, val_loss = 0.1019, trn_score = 0.4635, val_score = 0.4523\n",
      "lr :  [1.1634110262918729e-06, 1.1634110262918729e-06, 1.1634110262918729e-06]\n",
      "100%|█████████████████████████████| 391/391 [04:30<00:00,  1.45it/s, loss=0.105]\n",
      "100%|███████████████████████████████████████████| 98/98 [00:51<00:00,  1.92it/s]\n",
      "epoch 4: trn_loss = 0.1050, val_loss = 0.1014, trn_score = 0.4590, val_score = 0.4513\n",
      "lr :  [2.9984336066654963e-07, 2.9984336066654963e-07, 2.9984336066654963e-07]\n",
      "100%|█████████████████████████████| 391/391 [04:30<00:00,  1.45it/s, loss=0.102]\n",
      "100%|███████████████████████████████████████████| 98/98 [00:51<00:00,  1.92it/s]\n",
      "epoch 5: trn_loss = 0.1018, val_loss = 0.1009, trn_score = 0.4520, val_score = 0.4499\n",
      "\n"
     ]
    }
   ],
   "source": [
    "FOLD = 1\n",
    "INPUT_PATH = '../../input/feedback-prize-english-language-learning/'\n",
    "FOLD_PATH = '../../00_EDA/00_v1_02/result/'\n",
    "MODE = 'train'\n",
    "EPOCHS = 5\n",
    "STOP_EPOCH = 5\n",
    "RESTART = 1\n",
    "NUM_CYCLES = EPOCHS\n",
    "PRETRAIN_PATH = 'none' #f'result/{VERSION}/model_seed{SEED}_fold{FOLD}_epoch{EPOCHS}_pseudo.pth'\n",
    "\n",
    "!python ../$VERSION/train.py --model $MODEL --version $VERSION --fold_path $FOLD_PATH --fold $FOLD --seed $SEED \\\n",
    "--lr $LR --head_lr $HEAD_LR --trn_batch_size $TRN_BS --val_batch_size $VAL_BS \\\n",
    "--epochs $EPOCHS --hidden_drop_prob $HIDDEN_DROP_PROB --p_drop $P_DROP \\\n",
    "--accumulate_grad_batches $ACCUM_STEP --rnn $RNN --warmup_ratio $WARMUP_RATIO --loss $LOSS --aug $AUG --head $HEAD \\\n",
    "--mixup_alpha $MIXUP_ALPHA --p_aug $P_AUG --aug_stop_epoch $AUG_STOP_EPOCH \\\n",
    "--msd $MSD --multi_layers $MULTI_LAYERS --eval_step $EVAL_STEP --stop_epoch $STOP_EPOCH \\\n",
    "--num_labels $NUM_LABELS --num_labels_2 $NUM_LABELS_2 \\\n",
    "--restart_epoch $RESTART --fp16 $FP16 --weight_decay $WD --freeze_layers $FREEZE \\\n",
    "--mt $MULTI_TASK --w_mt $W_MT \\\n",
    "--awp $AWP --awp_lr $AWP_LR --awp_eps $AWP_EPS --awp_start_epoch $AWP_START_EPOCH \\\n",
    "--pretrained_detector_path $PRETRAINED_DETECTOR_PATH --mask_prob $MASK_PROB --mask_ratio $MASK_RATIO \\\n",
    "--scheduler $SCHEDULER --num_cycles $NUM_CYCLES --check_pointing $CP \\\n",
    "--window_size $WINDOW_SIZE --inner_len $INNER_LEN --edge_len $EDGE_LEN \\\n",
    "--gradient_clip_val $GRAD_CLIP \\\n",
    "--input_path $INPUT_PATH --mode $MODE --pretrain_path $PRETRAIN_PATH --max_length $MAX_LEN"
   ]
  },
  {
   "cell_type": "code",
   "execution_count": 4,
   "metadata": {},
   "outputs": [
    {
     "name": "stdout",
     "output_type": "stream",
     "text": [
      "torch 1.10.1\n",
      "args.mode =  train\n",
      "train_df.shape =  (3911, 8)\n",
      "load folds...\n",
      "trn_df.shape =  (3129, 8)\n",
      "val_df.shape =  (782, 8)\n",
      "2022-09-03 15:06:44.833161: W tensorflow/stream_executor/platform/default/dso_loader.cc:59] Could not load dynamic library 'libcudart.so.10.1'; dlerror: libcudart.so.10.1: cannot open shared object file: No such file or directory; LD_LIBRARY_PATH: /usr/local/cuda-10.2/lib64:\n",
      "2022-09-03 15:06:44.833183: I tensorflow/stream_executor/cuda/cudart_stub.cc:29] Ignore above cudart dlerror if you do not have a GPU set up on your machine.\n",
      "self.warmup_ratio =  0.1\n",
      "self.num_train_steps =  1955\n",
      "num_warmup_steps =  195\n",
      "lr :  [0.0, 0.0, 0.0]\n",
      "100%|█████████████████████████████| 391/391 [04:34<00:00,  1.43it/s, loss=0.644]\n",
      "100%|███████████████████████████████████████████| 98/98 [00:51<00:00,  1.91it/s]\n",
      "epoch 1: trn_loss = 0.6438, val_loss = 0.1138, trn_score = 1.4382, val_score = 0.4787\n",
      "lr :  [4.1122340187284845e-06, 4.1122340187284845e-06, 4.1122340187284845e-06]\n",
      "100%|█████████████████████████████| 391/391 [04:31<00:00,  1.44it/s, loss=0.109]\n",
      "100%|███████████████████████████████████████████| 98/98 [00:51<00:00,  1.91it/s]\n",
      "epoch 2: trn_loss = 0.1092, val_loss = 0.1067, trn_score = 0.4684, val_score = 0.4629\n",
      "lr :  [2.4871289844663454e-06, 2.4871289844663454e-06, 2.4871289844663454e-06]\n",
      "100%|█████████████████████████████| 391/391 [04:30<00:00,  1.44it/s, loss=0.104]\n",
      "100%|███████████████████████████████████████████| 98/98 [00:51<00:00,  1.91it/s]\n",
      "epoch 3: trn_loss = 0.1037, val_loss = 0.1015, trn_score = 0.4560, val_score = 0.4514\n",
      "lr :  [1.1634110262918729e-06, 1.1634110262918729e-06, 1.1634110262918729e-06]\n",
      "100%|███████████████████████████████| 391/391 [04:31<00:00,  1.44it/s, loss=0.1]\n",
      "100%|███████████████████████████████████████████| 98/98 [00:51<00:00,  1.91it/s]\n",
      "epoch 4: trn_loss = 0.1005, val_loss = 0.1010, trn_score = 0.4489, val_score = 0.4502\n",
      "lr :  [2.9984336066654963e-07, 2.9984336066654963e-07, 2.9984336066654963e-07]\n",
      "100%|████████████████████████████| 391/391 [04:30<00:00,  1.44it/s, loss=0.0974]\n",
      "100%|███████████████████████████████████████████| 98/98 [00:51<00:00,  1.91it/s]\n",
      "epoch 5: trn_loss = 0.0974, val_loss = 0.1006, trn_score = 0.4419, val_score = 0.4493\n",
      "\n"
     ]
    }
   ],
   "source": [
    "FOLD = 2\n",
    "INPUT_PATH = '../../input/feedback-prize-english-language-learning/'\n",
    "FOLD_PATH = '../../00_EDA/00_v1_02/result/'\n",
    "MODE = 'train'\n",
    "EPOCHS = 5\n",
    "STOP_EPOCH = 5\n",
    "RESTART = 1\n",
    "NUM_CYCLES = EPOCHS\n",
    "PRETRAIN_PATH = 'none' #f'result/{VERSION}/model_seed{SEED}_fold{FOLD}_epoch{EPOCHS}_pseudo.pth'\n",
    "\n",
    "!python ../$VERSION/train.py --model $MODEL --version $VERSION --fold_path $FOLD_PATH --fold $FOLD --seed $SEED \\\n",
    "--lr $LR --head_lr $HEAD_LR --trn_batch_size $TRN_BS --val_batch_size $VAL_BS \\\n",
    "--epochs $EPOCHS --hidden_drop_prob $HIDDEN_DROP_PROB --p_drop $P_DROP \\\n",
    "--accumulate_grad_batches $ACCUM_STEP --rnn $RNN --warmup_ratio $WARMUP_RATIO --loss $LOSS --aug $AUG --head $HEAD \\\n",
    "--mixup_alpha $MIXUP_ALPHA --p_aug $P_AUG --aug_stop_epoch $AUG_STOP_EPOCH \\\n",
    "--msd $MSD --multi_layers $MULTI_LAYERS --eval_step $EVAL_STEP --stop_epoch $STOP_EPOCH \\\n",
    "--num_labels $NUM_LABELS --num_labels_2 $NUM_LABELS_2 \\\n",
    "--restart_epoch $RESTART --fp16 $FP16 --weight_decay $WD --freeze_layers $FREEZE \\\n",
    "--mt $MULTI_TASK --w_mt $W_MT \\\n",
    "--awp $AWP --awp_lr $AWP_LR --awp_eps $AWP_EPS --awp_start_epoch $AWP_START_EPOCH \\\n",
    "--pretrained_detector_path $PRETRAINED_DETECTOR_PATH --mask_prob $MASK_PROB --mask_ratio $MASK_RATIO \\\n",
    "--scheduler $SCHEDULER --num_cycles $NUM_CYCLES --check_pointing $CP \\\n",
    "--window_size $WINDOW_SIZE --inner_len $INNER_LEN --edge_len $EDGE_LEN \\\n",
    "--gradient_clip_val $GRAD_CLIP \\\n",
    "--input_path $INPUT_PATH --mode $MODE --pretrain_path $PRETRAIN_PATH --max_length $MAX_LEN"
   ]
  },
  {
   "cell_type": "code",
   "execution_count": 5,
   "metadata": {},
   "outputs": [
    {
     "name": "stdout",
     "output_type": "stream",
     "text": [
      "torch 1.10.1\n",
      "args.mode =  train\n",
      "train_df.shape =  (3911, 8)\n",
      "load folds...\n",
      "trn_df.shape =  (3129, 8)\n",
      "val_df.shape =  (782, 8)\n",
      "2022-09-03 15:34:06.830127: W tensorflow/stream_executor/platform/default/dso_loader.cc:59] Could not load dynamic library 'libcudart.so.10.1'; dlerror: libcudart.so.10.1: cannot open shared object file: No such file or directory; LD_LIBRARY_PATH: /usr/local/cuda-10.2/lib64:\n",
      "2022-09-03 15:34:06.830148: I tensorflow/stream_executor/cuda/cudart_stub.cc:29] Ignore above cudart dlerror if you do not have a GPU set up on your machine.\n",
      "self.warmup_ratio =  0.1\n",
      "self.num_train_steps =  1955\n",
      "num_warmup_steps =  195\n",
      "lr :  [0.0, 0.0, 0.0]\n",
      "100%|█████████████████████████████| 391/391 [04:35<00:00,  1.42it/s, loss=0.595]\n",
      "100%|███████████████████████████████████████████| 98/98 [00:51<00:00,  1.90it/s]\n",
      "epoch 1: trn_loss = 0.5953, val_loss = 0.1130, trn_score = 1.3653, val_score = 0.4764\n",
      "lr :  [4.1122340187284845e-06, 4.1122340187284845e-06, 4.1122340187284845e-06]\n",
      "100%|█████████████████████████████| 391/391 [04:31<00:00,  1.44it/s, loss=0.111]\n",
      "100%|███████████████████████████████████████████| 98/98 [00:51<00:00,  1.92it/s]\n",
      "epoch 2: trn_loss = 0.1110, val_loss = 0.1088, trn_score = 0.4726, val_score = 0.4673\n",
      "lr :  [2.4871289844663454e-06, 2.4871289844663454e-06, 2.4871289844663454e-06]\n",
      "100%|█████████████████████████████| 391/391 [04:31<00:00,  1.44it/s, loss=0.105]\n",
      "100%|███████████████████████████████████████████| 98/98 [00:51<00:00,  1.91it/s]\n",
      "epoch 3: trn_loss = 0.1047, val_loss = 0.1066, trn_score = 0.4585, val_score = 0.4625\n",
      "lr :  [1.1634110262918729e-06, 1.1634110262918729e-06, 1.1634110262918729e-06]\n",
      "100%|█████████████████████████████| 391/391 [04:32<00:00,  1.44it/s, loss=0.101]\n",
      "100%|███████████████████████████████████████████| 98/98 [00:51<00:00,  1.91it/s]\n",
      "epoch 4: trn_loss = 0.1011, val_loss = 0.1083, trn_score = 0.4504, val_score = 0.4663\n",
      "lr :  [2.9984336066654963e-07, 2.9984336066654963e-07, 2.9984336066654963e-07]\n",
      "100%|████████████████████████████| 391/391 [04:31<00:00,  1.44it/s, loss=0.0989]\n",
      "100%|███████████████████████████████████████████| 98/98 [00:51<00:00,  1.91it/s]\n",
      "epoch 5: trn_loss = 0.0989, val_loss = 0.1064, trn_score = 0.4455, val_score = 0.4621\n",
      "\n"
     ]
    }
   ],
   "source": [
    "FOLD = 3\n",
    "INPUT_PATH = '../../input/feedback-prize-english-language-learning/'\n",
    "FOLD_PATH = '../../00_EDA/00_v1_02/result/'\n",
    "MODE = 'train'\n",
    "EPOCHS = 5\n",
    "STOP_EPOCH = 5\n",
    "RESTART = 1\n",
    "NUM_CYCLES = EPOCHS\n",
    "PRETRAIN_PATH = 'none' #f'result/{VERSION}/model_seed{SEED}_fold{FOLD}_epoch{EPOCHS}_pseudo.pth'\n",
    "\n",
    "!python ../$VERSION/train.py --model $MODEL --version $VERSION --fold_path $FOLD_PATH --fold $FOLD --seed $SEED \\\n",
    "--lr $LR --head_lr $HEAD_LR --trn_batch_size $TRN_BS --val_batch_size $VAL_BS \\\n",
    "--epochs $EPOCHS --hidden_drop_prob $HIDDEN_DROP_PROB --p_drop $P_DROP \\\n",
    "--accumulate_grad_batches $ACCUM_STEP --rnn $RNN --warmup_ratio $WARMUP_RATIO --loss $LOSS --aug $AUG --head $HEAD \\\n",
    "--mixup_alpha $MIXUP_ALPHA --p_aug $P_AUG --aug_stop_epoch $AUG_STOP_EPOCH \\\n",
    "--msd $MSD --multi_layers $MULTI_LAYERS --eval_step $EVAL_STEP --stop_epoch $STOP_EPOCH \\\n",
    "--num_labels $NUM_LABELS --num_labels_2 $NUM_LABELS_2 \\\n",
    "--restart_epoch $RESTART --fp16 $FP16 --weight_decay $WD --freeze_layers $FREEZE \\\n",
    "--mt $MULTI_TASK --w_mt $W_MT \\\n",
    "--awp $AWP --awp_lr $AWP_LR --awp_eps $AWP_EPS --awp_start_epoch $AWP_START_EPOCH \\\n",
    "--pretrained_detector_path $PRETRAINED_DETECTOR_PATH --mask_prob $MASK_PROB --mask_ratio $MASK_RATIO \\\n",
    "--scheduler $SCHEDULER --num_cycles $NUM_CYCLES --check_pointing $CP \\\n",
    "--window_size $WINDOW_SIZE --inner_len $INNER_LEN --edge_len $EDGE_LEN \\\n",
    "--gradient_clip_val $GRAD_CLIP \\\n",
    "--input_path $INPUT_PATH --mode $MODE --pretrain_path $PRETRAIN_PATH --max_length $MAX_LEN"
   ]
  },
  {
   "cell_type": "code",
   "execution_count": 6,
   "metadata": {},
   "outputs": [
    {
     "name": "stdout",
     "output_type": "stream",
     "text": [
      "torch 1.10.1\n",
      "args.mode =  train\n",
      "train_df.shape =  (3911, 8)\n",
      "load folds...\n",
      "trn_df.shape =  (3129, 8)\n",
      "val_df.shape =  (782, 8)\n",
      "2022-09-03 16:01:31.659014: W tensorflow/stream_executor/platform/default/dso_loader.cc:59] Could not load dynamic library 'libcudart.so.10.1'; dlerror: libcudart.so.10.1: cannot open shared object file: No such file or directory; LD_LIBRARY_PATH: /usr/local/cuda-10.2/lib64:\n",
      "2022-09-03 16:01:31.659036: I tensorflow/stream_executor/cuda/cudart_stub.cc:29] Ignore above cudart dlerror if you do not have a GPU set up on your machine.\n",
      "self.warmup_ratio =  0.1\n",
      "self.num_train_steps =  1955\n",
      "num_warmup_steps =  195\n",
      "lr :  [0.0, 0.0, 0.0]\n",
      "100%|█████████████████████████████| 391/391 [04:35<00:00,  1.42it/s, loss=0.722]\n",
      "100%|███████████████████████████████████████████| 98/98 [00:51<00:00,  1.89it/s]\n",
      "epoch 1: trn_loss = 0.7220, val_loss = 0.1102, trn_score = 1.5843, val_score = 0.4702\n",
      "lr :  [4.1122340187284845e-06, 4.1122340187284845e-06, 4.1122340187284845e-06]\n",
      "100%|█████████████████████████████| 391/391 [04:31<00:00,  1.44it/s, loss=0.109]\n",
      "100%|███████████████████████████████████████████| 98/98 [00:51<00:00,  1.91it/s]\n",
      "epoch 2: trn_loss = 0.1087, val_loss = 0.1057, trn_score = 0.4670, val_score = 0.4604\n",
      "lr :  [2.4871289844663454e-06, 2.4871289844663454e-06, 2.4871289844663454e-06]\n",
      "100%|█████████████████████████████| 391/391 [04:31<00:00,  1.44it/s, loss=0.104]\n",
      "100%|███████████████████████████████████████████| 98/98 [00:51<00:00,  1.91it/s]\n",
      "epoch 3: trn_loss = 0.1036, val_loss = 0.1072, trn_score = 0.4559, val_score = 0.4638\n",
      "lr :  [1.1634110262918729e-06, 1.1634110262918729e-06, 1.1634110262918729e-06]\n",
      "100%|█████████████████████████████| 391/391 [04:35<00:00,  1.42it/s, loss=0.102]\n",
      "100%|███████████████████████████████████████████| 98/98 [00:51<00:00,  1.89it/s]\n",
      "epoch 4: trn_loss = 0.1016, val_loss = 0.1039, trn_score = 0.4513, val_score = 0.4566\n",
      "lr :  [2.9984336066654963e-07, 2.9984336066654963e-07, 2.9984336066654963e-07]\n",
      "100%|████████████████████████████| 391/391 [04:34<00:00,  1.42it/s, loss=0.0984]\n",
      "100%|███████████████████████████████████████████| 98/98 [00:52<00:00,  1.87it/s]\n",
      "epoch 5: trn_loss = 0.0984, val_loss = 0.1036, trn_score = 0.4442, val_score = 0.4560\n",
      "\n"
     ]
    }
   ],
   "source": [
    "FOLD = 4\n",
    "INPUT_PATH = '../../input/feedback-prize-english-language-learning/'\n",
    "FOLD_PATH = '../../00_EDA/00_v1_02/result/'\n",
    "MODE = 'train'\n",
    "EPOCHS = 5\n",
    "STOP_EPOCH = 5\n",
    "RESTART = 1\n",
    "NUM_CYCLES = EPOCHS\n",
    "PRETRAIN_PATH = 'none' #f'result/{VERSION}/model_seed{SEED}_fold{FOLD}_epoch{EPOCHS}_pseudo.pth'\n",
    "\n",
    "!python ../$VERSION/train.py --model $MODEL --version $VERSION --fold_path $FOLD_PATH --fold $FOLD --seed $SEED \\\n",
    "--lr $LR --head_lr $HEAD_LR --trn_batch_size $TRN_BS --val_batch_size $VAL_BS \\\n",
    "--epochs $EPOCHS --hidden_drop_prob $HIDDEN_DROP_PROB --p_drop $P_DROP \\\n",
    "--accumulate_grad_batches $ACCUM_STEP --rnn $RNN --warmup_ratio $WARMUP_RATIO --loss $LOSS --aug $AUG --head $HEAD \\\n",
    "--mixup_alpha $MIXUP_ALPHA --p_aug $P_AUG --aug_stop_epoch $AUG_STOP_EPOCH \\\n",
    "--msd $MSD --multi_layers $MULTI_LAYERS --eval_step $EVAL_STEP --stop_epoch $STOP_EPOCH \\\n",
    "--num_labels $NUM_LABELS --num_labels_2 $NUM_LABELS_2 \\\n",
    "--restart_epoch $RESTART --fp16 $FP16 --weight_decay $WD --freeze_layers $FREEZE \\\n",
    "--mt $MULTI_TASK --w_mt $W_MT \\\n",
    "--awp $AWP --awp_lr $AWP_LR --awp_eps $AWP_EPS --awp_start_epoch $AWP_START_EPOCH \\\n",
    "--pretrained_detector_path $PRETRAINED_DETECTOR_PATH --mask_prob $MASK_PROB --mask_ratio $MASK_RATIO \\\n",
    "--scheduler $SCHEDULER --num_cycles $NUM_CYCLES --check_pointing $CP \\\n",
    "--window_size $WINDOW_SIZE --inner_len $INNER_LEN --edge_len $EDGE_LEN \\\n",
    "--gradient_clip_val $GRAD_CLIP \\\n",
    "--input_path $INPUT_PATH --mode $MODE --pretrain_path $PRETRAIN_PATH --max_length $MAX_LEN"
   ]
  },
  {
   "cell_type": "markdown",
   "metadata": {},
   "source": [
    "# SWA"
   ]
  },
  {
   "cell_type": "code",
   "execution_count": 3,
   "metadata": {},
   "outputs": [],
   "source": [
    "!python ../$VERSION/swa.py --work_dir ./result/$VERSION/ --fold 0 --seed $SEED --epochs '5'\n",
    "!python ../$VERSION/swa.py --work_dir ./result/$VERSION/ --fold 1 --seed $SEED --epochs '5'\n",
    "!python ../$VERSION/swa.py --work_dir ./result/$VERSION/ --fold 2 --seed $SEED --epochs '5'\n",
    "!python ../$VERSION/swa.py --work_dir ./result/$VERSION/ --fold 3 --seed $SEED --epochs '5'\n",
    "!python ../$VERSION/swa.py --work_dir ./result/$VERSION/ --fold 4 --seed $SEED --epochs '5'"
   ]
  },
  {
   "cell_type": "code",
   "execution_count": 4,
   "metadata": {
    "scrolled": false
   },
   "outputs": [
    {
     "name": "stdout",
     "output_type": "stream",
     "text": [
      "torch 1.10.1\n",
      "2022-09-03 19:44:27.251339: W tensorflow/stream_executor/platform/default/dso_loader.cc:59] Could not load dynamic library 'libcudart.so.10.1'; dlerror: libcudart.so.10.1: cannot open shared object file: No such file or directory; LD_LIBRARY_PATH: /usr/local/cuda-10.2/lib64:\n",
      "2022-09-03 19:44:27.251362: I tensorflow/stream_executor/cuda/cudart_stub.cc:29] Ignore above cudart dlerror if you do not have a GPU set up on your machine.\n",
      "train_df.shape =  (3911, 8)\n",
      "load folds...\n",
      "trn_df.shape =  (3128, 8)\n",
      "val_df.shape =  (783, 8)\n",
      "100%|███████████████████████████████████████████| 98/98 [00:43<00:00,  2.27it/s]\n",
      "val_loss=0.1026, val_score=0.4533\n",
      "essay_ids.shape =  (783,)\n",
      "preds.shape =  (783, 6)\n",
      "labels.shape =  (783, 6)\n",
      "losses.shape =  (783, 6)\n"
     ]
    }
   ],
   "source": [
    "FOLD = 0\n",
    "INPUT_PATH = '../../input/feedback-prize-english-language-learning/'\n",
    "FOLD_PATH = '../../00_EDA/00_v1_02/result/'\n",
    "WEIGHT_PATH = f'./result/{VERSION}/model_seed{SEED}_fold{FOLD}_swa.pth'\n",
    "\n",
    "!python ../$VERSION/validation.py --model $MODEL --version $VERSION \\\n",
    "--fold_path $FOLD_PATH --fold $FOLD --seed $SEED --val_batch_size $VAL_BS \\\n",
    "--rnn $RNN --loss $LOSS --mt $MULTI_TASK --num_labels $NUM_LABELS --loss $LOSS --weight_path $WEIGHT_PATH \\\n",
    "--window_size $WINDOW_SIZE --inner_len $INNER_LEN --edge_len $EDGE_LEN --max_length $MAX_LEN"
   ]
  },
  {
   "cell_type": "code",
   "execution_count": 5,
   "metadata": {},
   "outputs": [
    {
     "name": "stdout",
     "output_type": "stream",
     "text": [
      "torch 1.10.1\n",
      "2022-09-03 19:45:29.537340: W tensorflow/stream_executor/platform/default/dso_loader.cc:59] Could not load dynamic library 'libcudart.so.10.1'; dlerror: libcudart.so.10.1: cannot open shared object file: No such file or directory; LD_LIBRARY_PATH: /usr/local/cuda-10.2/lib64:\n",
      "2022-09-03 19:45:29.537363: I tensorflow/stream_executor/cuda/cudart_stub.cc:29] Ignore above cudart dlerror if you do not have a GPU set up on your machine.\n",
      "train_df.shape =  (3911, 8)\n",
      "load folds...\n",
      "trn_df.shape =  (3129, 8)\n",
      "val_df.shape =  (782, 8)\n",
      "100%|███████████████████████████████████████████| 98/98 [00:43<00:00,  2.26it/s]\n",
      "val_loss=0.1009, val_score=0.4499\n",
      "essay_ids.shape =  (782,)\n",
      "preds.shape =  (782, 6)\n",
      "labels.shape =  (782, 6)\n",
      "losses.shape =  (782, 6)\n"
     ]
    }
   ],
   "source": [
    "FOLD = 1\n",
    "INPUT_PATH = '../../input/feedback-prize-english-language-learning/'\n",
    "FOLD_PATH = '../../00_EDA/00_v1_02/result/'\n",
    "WEIGHT_PATH = f'./result/{VERSION}/model_seed{SEED}_fold{FOLD}_swa.pth'\n",
    "\n",
    "!python ../$VERSION/validation.py --model $MODEL --version $VERSION \\\n",
    "--fold_path $FOLD_PATH --fold $FOLD --seed $SEED --val_batch_size $VAL_BS \\\n",
    "--rnn $RNN --loss $LOSS --mt $MULTI_TASK --num_labels $NUM_LABELS --loss $LOSS --weight_path $WEIGHT_PATH \\\n",
    "--window_size $WINDOW_SIZE --inner_len $INNER_LEN --edge_len $EDGE_LEN --max_length $MAX_LEN"
   ]
  },
  {
   "cell_type": "code",
   "execution_count": 6,
   "metadata": {},
   "outputs": [
    {
     "name": "stdout",
     "output_type": "stream",
     "text": [
      "torch 1.10.1\n",
      "2022-09-03 19:46:31.316788: W tensorflow/stream_executor/platform/default/dso_loader.cc:59] Could not load dynamic library 'libcudart.so.10.1'; dlerror: libcudart.so.10.1: cannot open shared object file: No such file or directory; LD_LIBRARY_PATH: /usr/local/cuda-10.2/lib64:\n",
      "2022-09-03 19:46:31.316812: I tensorflow/stream_executor/cuda/cudart_stub.cc:29] Ignore above cudart dlerror if you do not have a GPU set up on your machine.\n",
      "train_df.shape =  (3911, 8)\n",
      "load folds...\n",
      "trn_df.shape =  (3129, 8)\n",
      "val_df.shape =  (782, 8)\n",
      "100%|███████████████████████████████████████████| 98/98 [00:44<00:00,  2.21it/s]\n",
      "val_loss=0.1006, val_score=0.4493\n",
      "essay_ids.shape =  (782,)\n",
      "preds.shape =  (782, 6)\n",
      "labels.shape =  (782, 6)\n",
      "losses.shape =  (782, 6)\n"
     ]
    }
   ],
   "source": [
    "FOLD = 2\n",
    "INPUT_PATH = '../../input/feedback-prize-english-language-learning/'\n",
    "FOLD_PATH = '../../00_EDA/00_v1_02/result/'\n",
    "WEIGHT_PATH = f'./result/{VERSION}/model_seed{SEED}_fold{FOLD}_swa.pth'\n",
    "\n",
    "!python ../$VERSION/validation.py --model $MODEL --version $VERSION \\\n",
    "--fold_path $FOLD_PATH --fold $FOLD --seed $SEED --val_batch_size $VAL_BS \\\n",
    "--rnn $RNN --loss $LOSS --mt $MULTI_TASK --num_labels $NUM_LABELS --loss $LOSS --weight_path $WEIGHT_PATH \\\n",
    "--window_size $WINDOW_SIZE --inner_len $INNER_LEN --edge_len $EDGE_LEN --max_length $MAX_LEN"
   ]
  },
  {
   "cell_type": "code",
   "execution_count": 7,
   "metadata": {},
   "outputs": [
    {
     "name": "stdout",
     "output_type": "stream",
     "text": [
      "torch 1.10.1\n",
      "2022-09-03 19:47:34.414253: W tensorflow/stream_executor/platform/default/dso_loader.cc:59] Could not load dynamic library 'libcudart.so.10.1'; dlerror: libcudart.so.10.1: cannot open shared object file: No such file or directory; LD_LIBRARY_PATH: /usr/local/cuda-10.2/lib64:\n",
      "2022-09-03 19:47:34.414276: I tensorflow/stream_executor/cuda/cudart_stub.cc:29] Ignore above cudart dlerror if you do not have a GPU set up on your machine.\n",
      "train_df.shape =  (3911, 8)\n",
      "load folds...\n",
      "trn_df.shape =  (3129, 8)\n",
      "val_df.shape =  (782, 8)\n",
      "100%|███████████████████████████████████████████| 98/98 [00:44<00:00,  2.21it/s]\n",
      "val_loss=0.1064, val_score=0.4621\n",
      "essay_ids.shape =  (782,)\n",
      "preds.shape =  (782, 6)\n",
      "labels.shape =  (782, 6)\n",
      "losses.shape =  (782, 6)\n"
     ]
    }
   ],
   "source": [
    "FOLD = 3\n",
    "INPUT_PATH = '../../input/feedback-prize-english-language-learning/'\n",
    "FOLD_PATH = '../../00_EDA/00_v1_02/result/'\n",
    "WEIGHT_PATH = f'./result/{VERSION}/model_seed{SEED}_fold{FOLD}_swa.pth'\n",
    "\n",
    "!python ../$VERSION/validation.py --model $MODEL --version $VERSION \\\n",
    "--fold_path $FOLD_PATH --fold $FOLD --seed $SEED --val_batch_size $VAL_BS \\\n",
    "--rnn $RNN --loss $LOSS --mt $MULTI_TASK --num_labels $NUM_LABELS --loss $LOSS --weight_path $WEIGHT_PATH \\\n",
    "--window_size $WINDOW_SIZE --inner_len $INNER_LEN --edge_len $EDGE_LEN --max_length $MAX_LEN"
   ]
  },
  {
   "cell_type": "code",
   "execution_count": 8,
   "metadata": {},
   "outputs": [
    {
     "name": "stdout",
     "output_type": "stream",
     "text": [
      "torch 1.10.1\n",
      "2022-09-03 19:48:37.258392: W tensorflow/stream_executor/platform/default/dso_loader.cc:59] Could not load dynamic library 'libcudart.so.10.1'; dlerror: libcudart.so.10.1: cannot open shared object file: No such file or directory; LD_LIBRARY_PATH: /usr/local/cuda-10.2/lib64:\n",
      "2022-09-03 19:48:37.258416: I tensorflow/stream_executor/cuda/cudart_stub.cc:29] Ignore above cudart dlerror if you do not have a GPU set up on your machine.\n",
      "train_df.shape =  (3911, 8)\n",
      "load folds...\n",
      "trn_df.shape =  (3129, 8)\n",
      "val_df.shape =  (782, 8)\n",
      "100%|███████████████████████████████████████████| 98/98 [00:44<00:00,  2.18it/s]\n",
      "val_loss=0.1036, val_score=0.4560\n",
      "essay_ids.shape =  (782,)\n",
      "preds.shape =  (782, 6)\n",
      "labels.shape =  (782, 6)\n",
      "losses.shape =  (782, 6)\n"
     ]
    }
   ],
   "source": [
    "FOLD = 4\n",
    "INPUT_PATH = '../../input/feedback-prize-english-language-learning/'\n",
    "FOLD_PATH = '../../00_EDA/00_v1_02/result/'\n",
    "WEIGHT_PATH = f'./result/{VERSION}/model_seed{SEED}_fold{FOLD}_swa.pth'\n",
    "\n",
    "!python ../$VERSION/validation.py --model $MODEL --version $VERSION \\\n",
    "--fold_path $FOLD_PATH --fold $FOLD --seed $SEED --val_batch_size $VAL_BS \\\n",
    "--rnn $RNN --loss $LOSS --mt $MULTI_TASK --num_labels $NUM_LABELS --loss $LOSS --weight_path $WEIGHT_PATH \\\n",
    "--window_size $WINDOW_SIZE --inner_len $INNER_LEN --edge_len $EDGE_LEN --max_length $MAX_LEN"
   ]
  },
  {
   "cell_type": "code",
   "execution_count": 9,
   "metadata": {},
   "outputs": [],
   "source": [
    "import pandas as pd\n",
    "\n",
    "preds = []\n",
    "for fold in range(5):\n",
    "    tmp_df = pd.read_csv(f'./result/{VERSION}/pred_fold{fold}.csv')\n",
    "    preds.append(tmp_df)\n",
    "    \n",
    "pred_df = pd.concat(preds, axis=0).reset_index(drop=True)\n",
    "train_df = pd.read_csv('../../input/feedback-prize-english-language-learning/train.csv')\n",
    "\n",
    "oof_df = train_df[['text_id']].merge(pred_df, on='text_id', how='left')\n",
    "oof_df.to_csv(f'./result/{VERSION}/oof_df.csv', index=False)"
   ]
  },
  {
   "cell_type": "code",
   "execution_count": 10,
   "metadata": {},
   "outputs": [
    {
     "data": {
      "text/plain": [
       "((3911, 13),\n",
       " text_id             0\n",
       " cohesion            0\n",
       " syntax              0\n",
       " vocabulary          0\n",
       " phraseology         0\n",
       " grammar             0\n",
       " conventions         0\n",
       " loss_cohesion       0\n",
       " loss_syntax         0\n",
       " loss_vocabulary     0\n",
       " loss_phraseology    0\n",
       " loss_grammar        0\n",
       " loss_conventions    0\n",
       " dtype: int64)"
      ]
     },
     "execution_count": 10,
     "metadata": {},
     "output_type": "execute_result"
    }
   ],
   "source": [
    "oof_df.shape, oof_df.isnull().sum()"
   ]
  },
  {
   "cell_type": "code",
   "execution_count": null,
   "metadata": {},
   "outputs": [],
   "source": []
  }
 ],
 "metadata": {
  "kernelspec": {
   "display_name": "Python 3",
   "language": "python",
   "name": "python3"
  },
  "language_info": {
   "codemirror_mode": {
    "name": "ipython",
    "version": 3
   },
   "file_extension": ".py",
   "mimetype": "text/x-python",
   "name": "python",
   "nbconvert_exporter": "python",
   "pygments_lexer": "ipython3",
   "version": "3.7.8"
  }
 },
 "nbformat": 4,
 "nbformat_minor": 4
}
