{
 "cells": [
  {
   "cell_type": "code",
   "execution_count": 13,
   "metadata": {},
   "outputs": [],
   "source": [
    "import pandas as pd\n",
    "\n",
    "pred_df = pd.read_csv('pred_fold0.csv').rename(columns={'essay_id':'text_id'})\n",
    "kaggle_df = pd.read_csv('raw_pred_fb3-01-v1-13-deberta-v3-base_fold0.csv')"
   ]
  },
  {
   "cell_type": "code",
   "execution_count": 14,
   "metadata": {},
   "outputs": [
    {
     "data": {
      "text/plain": [
       "((783, 13), (3911, 7))"
      ]
     },
     "execution_count": 14,
     "metadata": {},
     "output_type": "execute_result"
    }
   ],
   "source": [
    "pred_df.shape, kaggle_df.shape"
   ]
  },
  {
   "cell_type": "code",
   "execution_count": 10,
   "metadata": {},
   "outputs": [
    {
     "data": {
      "text/html": [
       "<div>\n",
       "<style scoped>\n",
       "    .dataframe tbody tr th:only-of-type {\n",
       "        vertical-align: middle;\n",
       "    }\n",
       "\n",
       "    .dataframe tbody tr th {\n",
       "        vertical-align: top;\n",
       "    }\n",
       "\n",
       "    .dataframe thead th {\n",
       "        text-align: right;\n",
       "    }\n",
       "</style>\n",
       "<table border=\"1\" class=\"dataframe\">\n",
       "  <thead>\n",
       "    <tr style=\"text-align: right;\">\n",
       "      <th></th>\n",
       "      <th>text_id</th>\n",
       "      <th>cohesion</th>\n",
       "      <th>syntax</th>\n",
       "      <th>vocabulary</th>\n",
       "      <th>phraseology</th>\n",
       "      <th>grammar</th>\n",
       "      <th>conventions</th>\n",
       "      <th>loss_cohesion</th>\n",
       "      <th>loss_syntax</th>\n",
       "      <th>loss_vocabulary</th>\n",
       "      <th>loss_phraseology</th>\n",
       "      <th>loss_grammar</th>\n",
       "      <th>loss_conventions</th>\n",
       "    </tr>\n",
       "  </thead>\n",
       "  <tbody>\n",
       "    <tr>\n",
       "      <th>0</th>\n",
       "      <td>00ED2563D0B1</td>\n",
       "      <td>3.5</td>\n",
       "      <td>3.0</td>\n",
       "      <td>3.5</td>\n",
       "      <td>3.5</td>\n",
       "      <td>3.5</td>\n",
       "      <td>4.0</td>\n",
       "      <td>0.010207</td>\n",
       "      <td>0.178605</td>\n",
       "      <td>0.066137</td>\n",
       "      <td>0.049161</td>\n",
       "      <td>0.012953</td>\n",
       "      <td>0.099138</td>\n",
       "    </tr>\n",
       "    <tr>\n",
       "      <th>1</th>\n",
       "      <td>017802562E71</td>\n",
       "      <td>3.0</td>\n",
       "      <td>2.0</td>\n",
       "      <td>3.5</td>\n",
       "      <td>2.5</td>\n",
       "      <td>2.5</td>\n",
       "      <td>2.5</td>\n",
       "      <td>0.012450</td>\n",
       "      <td>0.525942</td>\n",
       "      <td>0.012461</td>\n",
       "      <td>0.233775</td>\n",
       "      <td>0.114894</td>\n",
       "      <td>0.221028</td>\n",
       "    </tr>\n",
       "  </tbody>\n",
       "</table>\n",
       "</div>"
      ],
      "text/plain": [
       "        text_id  cohesion  syntax  vocabulary  phraseology  grammar  \\\n",
       "0  00ED2563D0B1       3.5     3.0         3.5          3.5      3.5   \n",
       "1  017802562E71       3.0     2.0         3.5          2.5      2.5   \n",
       "\n",
       "   conventions  loss_cohesion  loss_syntax  loss_vocabulary  loss_phraseology  \\\n",
       "0          4.0       0.010207     0.178605         0.066137          0.049161   \n",
       "1          2.5       0.012450     0.525942         0.012461          0.233775   \n",
       "\n",
       "   loss_grammar  loss_conventions  \n",
       "0      0.012953          0.099138  \n",
       "1      0.114894          0.221028  "
      ]
     },
     "execution_count": 10,
     "metadata": {},
     "output_type": "execute_result"
    }
   ],
   "source": [
    "pred_df.head(2)"
   ]
  },
  {
   "cell_type": "code",
   "execution_count": 11,
   "metadata": {},
   "outputs": [
    {
     "data": {
      "text/html": [
       "<div>\n",
       "<style scoped>\n",
       "    .dataframe tbody tr th:only-of-type {\n",
       "        vertical-align: middle;\n",
       "    }\n",
       "\n",
       "    .dataframe tbody tr th {\n",
       "        vertical-align: top;\n",
       "    }\n",
       "\n",
       "    .dataframe thead th {\n",
       "        text-align: right;\n",
       "    }\n",
       "</style>\n",
       "<table border=\"1\" class=\"dataframe\">\n",
       "  <thead>\n",
       "    <tr style=\"text-align: right;\">\n",
       "      <th></th>\n",
       "      <th>text_id</th>\n",
       "      <th>cohesion</th>\n",
       "      <th>syntax</th>\n",
       "      <th>vocabulary</th>\n",
       "      <th>phraseology</th>\n",
       "      <th>grammar</th>\n",
       "      <th>conventions</th>\n",
       "    </tr>\n",
       "  </thead>\n",
       "  <tbody>\n",
       "    <tr>\n",
       "      <th>0</th>\n",
       "      <td>0016926B079C</td>\n",
       "      <td>2.912195</td>\n",
       "      <td>2.967958</td>\n",
       "      <td>3.161198</td>\n",
       "      <td>3.255209</td>\n",
       "      <td>3.166423</td>\n",
       "      <td>2.906779</td>\n",
       "    </tr>\n",
       "    <tr>\n",
       "      <th>1</th>\n",
       "      <td>0022683E9EA5</td>\n",
       "      <td>2.760352</td>\n",
       "      <td>2.599220</td>\n",
       "      <td>2.885575</td>\n",
       "      <td>2.707316</td>\n",
       "      <td>2.524825</td>\n",
       "      <td>2.662661</td>\n",
       "    </tr>\n",
       "  </tbody>\n",
       "</table>\n",
       "</div>"
      ],
      "text/plain": [
       "        text_id  cohesion    syntax  vocabulary  phraseology   grammar  \\\n",
       "0  0016926B079C  2.912195  2.967958    3.161198     3.255209  3.166423   \n",
       "1  0022683E9EA5  2.760352  2.599220    2.885575     2.707316  2.524825   \n",
       "\n",
       "   conventions  \n",
       "0     2.906779  \n",
       "1     2.662661  "
      ]
     },
     "execution_count": 11,
     "metadata": {},
     "output_type": "execute_result"
    }
   ],
   "source": [
    "kaggle_df.head(2)"
   ]
  },
  {
   "cell_type": "code",
   "execution_count": 15,
   "metadata": {},
   "outputs": [
    {
     "data": {
      "text/plain": [
       "(783, 7)"
      ]
     },
     "execution_count": 15,
     "metadata": {},
     "output_type": "execute_result"
    }
   ],
   "source": [
    "kaggle_df = pred_df[['text_id']].merge(kaggle_df, on='text_id', how='left')\n",
    "kaggle_df.shape"
   ]
  },
  {
   "cell_type": "code",
   "execution_count": 16,
   "metadata": {},
   "outputs": [],
   "source": [
    "import numpy as np\n",
    "\n",
    "def calc_metric(pred, gt):\n",
    "    '''\n",
    "    pred : (num_data, num_labels)\n",
    "    gt : (num_data, num_labels)\n",
    "    '''\n",
    "    score = np.sqrt(np.mean((pred - gt)**2, axis=0))\n",
    "    score = score.mean()\n",
    "    return score"
   ]
  },
  {
   "cell_type": "code",
   "execution_count": 18,
   "metadata": {},
   "outputs": [
    {
     "name": "stdout",
     "output_type": "stream",
     "text": [
      "score = 0.4523\n"
     ]
    }
   ],
   "source": [
    "TARGET_COLS = ['cohesion','syntax','vocabulary','phraseology','grammar','conventions']\n",
    "\n",
    "score = calc_metric(pred=kaggle_df[TARGET_COLS].values, gt=pred_df[TARGET_COLS].values)\n",
    "print('score = {:.4f}'.format(score))"
   ]
  },
  {
   "cell_type": "code",
   "execution_count": null,
   "metadata": {},
   "outputs": [],
   "source": []
  }
 ],
 "metadata": {
  "kernelspec": {
   "display_name": "Python 3",
   "language": "python",
   "name": "python3"
  },
  "language_info": {
   "codemirror_mode": {
    "name": "ipython",
    "version": 3
   },
   "file_extension": ".py",
   "mimetype": "text/x-python",
   "name": "python",
   "nbconvert_exporter": "python",
   "pygments_lexer": "ipython3",
   "version": "3.7.8"
  }
 },
 "nbformat": 4,
 "nbformat_minor": 4
}
