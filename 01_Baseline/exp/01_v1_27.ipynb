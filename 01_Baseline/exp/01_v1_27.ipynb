{
 "cells": [
  {
   "cell_type": "code",
   "execution_count": 2,
   "metadata": {},
   "outputs": [],
   "source": [
    "VERSION = '01_v1_27'\n",
    "MODEL = 'microsoft/deberta-v3-base'\n",
    "#'microsoft/deberta-base'\n",
    "#'microsoft/deberta-v3-large'\n",
    "LR = 2e-5 #8e-6\n",
    "HEAD_LR = 2e-4 #2e-5 #8e-6 \n",
    "SEED = 100\n",
    "TRN_BS = 8\n",
    "VAL_BS = 8\n",
    "ACCUM_STEP = 1\n",
    "HIDDEN_DROP_PROB = 0\n",
    "P_DROP = 0\n",
    "RNN = 'none'\n",
    "WARMUP_RATIO = 0.1\n",
    "HEAD = 'simple'\n",
    "AUG = 'false'\n",
    "MIXUP_ALPHA = 0\n",
    "P_AUG = 0\n",
    "AUG_STOP_EPOCH = 0\n",
    "MSD = 'false'\n",
    "MULTI_LAYERS = 1\n",
    "EVAL_STEP = -1\n",
    "NUM_LABELS = 6\n",
    "NUM_LABELS_2 = -1\n",
    "FP16 = 'true'\n",
    "WD = 0.01\n",
    "FREEZE = 'false'\n",
    "MULTI_TASK = 'false' \n",
    "W_MT = 0 \n",
    "AWP = 'false'\n",
    "AWP_LR = 0\n",
    "AWP_EPS = 0\n",
    "AWP_START_EPOCH = -1\n",
    "#PRETRAINED_DETECTOR_PATH = f'../../input/tascj/result/deberta_base_fold0.pth'\n",
    "PRETRAINED_DETECTOR_PATH = 'none' #f'../../05_Detection/exp/result/05_v2_09/model_seed100_fold0_swa.pth'\n",
    "MASK_PROB = 0 #0.8\n",
    "MASK_RATIO = 0 #0.3\n",
    "SCHEDULER = 'cosine_hard'\n",
    "CP = 'false'\n",
    "WINDOW_SIZE = -1 #512\n",
    "INNER_LEN = -1 #384\n",
    "EDGE_LEN = -1 #64\n",
    "MAX_LEN = 512\n",
    "\n",
    "GRAD_CLIP = 1\n",
    "\n",
    "LOSS = 'smoothl1'#'mse'"
   ]
  },
  {
   "cell_type": "code",
   "execution_count": 2,
   "metadata": {
    "scrolled": false
   },
   "outputs": [
    {
     "name": "stdout",
     "output_type": "stream",
     "text": [
      "torch 1.10.1\n",
      "args.mode =  train\n",
      "train_df.shape =  (3911, 8)\n",
      "load folds...\n",
      "trn_df.shape =  (3128, 8)\n",
      "val_df.shape =  (783, 8)\n",
      "2022-09-15 09:30:18.680166: W tensorflow/stream_executor/platform/default/dso_loader.cc:59] Could not load dynamic library 'libcudart.so.10.1'; dlerror: libcudart.so.10.1: cannot open shared object file: No such file or directory; LD_LIBRARY_PATH: /usr/local/cuda-10.2/lib64:\n",
      "2022-09-15 09:30:18.680187: I tensorflow/stream_executor/cuda/cudart_stub.cc:29] Ignore above cudart dlerror if you do not have a GPU set up on your machine.\n",
      "self.warmup_ratio =  0.1\n",
      "self.num_train_steps =  1955\n",
      "num_warmup_steps =  195\n",
      "lr :  [0.0, 0.0, 0.0]\n",
      "100%|█████████████████████████████| 391/391 [01:43<00:00,  3.77it/s, loss=0.471]\n",
      "100%|███████████████████████████████████████████| 98/98 [00:22<00:00,  4.45it/s]\n",
      "epoch 1: trn_loss = 0.4706, val_loss = 0.1097, trn_score = 1.1968, val_score = 0.4689\n",
      "lr :  [8.224468037456969e-06, 8.224468037456969e-06, 8.224468037456969e-05]\n",
      "100%|█████████████████████████████| 391/391 [01:45<00:00,  3.70it/s, loss=0.109]\n",
      "100%|███████████████████████████████████████████| 98/98 [00:22<00:00,  4.44it/s]\n",
      "epoch 2: trn_loss = 0.1091, val_loss = 0.1080, trn_score = 0.4683, val_score = 0.4650\n",
      "lr :  [4.974257968932691e-06, 4.974257968932691e-06, 4.974257968932691e-05]\n",
      "100%|█████████████████████████████| 391/391 [01:46<00:00,  3.68it/s, loss=0.103]\n",
      "100%|███████████████████████████████████████████| 98/98 [00:22<00:00,  4.41it/s]\n",
      "epoch 3: trn_loss = 0.1027, val_loss = 0.1033, trn_score = 0.4541, val_score = 0.4545\n",
      "lr :  [2.3268220525837457e-06, 2.3268220525837457e-06, 2.3268220525837457e-05]\n",
      "100%|████████████████████████████| 391/391 [01:46<00:00,  3.69it/s, loss=0.0974]\n",
      "100%|███████████████████████████████████████████| 98/98 [00:22<00:00,  4.43it/s]\n",
      "epoch 4: trn_loss = 0.0974, val_loss = 0.1051, trn_score = 0.4421, val_score = 0.4588\n",
      "lr :  [5.996867213330993e-07, 5.996867213330993e-07, 5.996867213330992e-06]\n",
      "100%|████████████████████████████| 391/391 [01:45<00:00,  3.70it/s, loss=0.0956]\n",
      "100%|███████████████████████████████████████████| 98/98 [00:22<00:00,  4.39it/s]\n",
      "epoch 5: trn_loss = 0.0956, val_loss = 0.1023, trn_score = 0.4379, val_score = 0.4527\n",
      "\n"
     ]
    }
   ],
   "source": [
    "FOLD = 0\n",
    "INPUT_PATH = '../../input/feedback-prize-english-language-learning/'\n",
    "FOLD_PATH = '../../00_EDA/00_v1_02/result/'\n",
    "MODE = 'train'\n",
    "EPOCHS = 5\n",
    "STOP_EPOCH = 5\n",
    "RESTART = 1\n",
    "NUM_CYCLES = EPOCHS\n",
    "PRETRAIN_PATH = 'none' #f'result/{VERSION}/model_seed{SEED}_fold{FOLD}_epoch{EPOCHS}_pseudo.pth'\n",
    "\n",
    "!python ../$VERSION/train.py --model $MODEL --version $VERSION --fold_path $FOLD_PATH --fold $FOLD --seed $SEED \\\n",
    "--lr $LR --head_lr $HEAD_LR --trn_batch_size $TRN_BS --val_batch_size $VAL_BS \\\n",
    "--epochs $EPOCHS --hidden_drop_prob $HIDDEN_DROP_PROB --p_drop $P_DROP \\\n",
    "--accumulate_grad_batches $ACCUM_STEP --rnn $RNN --warmup_ratio $WARMUP_RATIO --loss $LOSS --aug $AUG --head $HEAD \\\n",
    "--mixup_alpha $MIXUP_ALPHA --p_aug $P_AUG --aug_stop_epoch $AUG_STOP_EPOCH \\\n",
    "--msd $MSD --multi_layers $MULTI_LAYERS --eval_step $EVAL_STEP --stop_epoch $STOP_EPOCH \\\n",
    "--num_labels $NUM_LABELS --num_labels_2 $NUM_LABELS_2 \\\n",
    "--restart_epoch $RESTART --fp16 $FP16 --weight_decay $WD --freeze_layers $FREEZE \\\n",
    "--mt $MULTI_TASK --w_mt $W_MT \\\n",
    "--awp $AWP --awp_lr $AWP_LR --awp_eps $AWP_EPS --awp_start_epoch $AWP_START_EPOCH \\\n",
    "--pretrained_detector_path $PRETRAINED_DETECTOR_PATH --mask_prob $MASK_PROB --mask_ratio $MASK_RATIO \\\n",
    "--scheduler $SCHEDULER --num_cycles $NUM_CYCLES --check_pointing $CP \\\n",
    "--window_size $WINDOW_SIZE --inner_len $INNER_LEN --edge_len $EDGE_LEN \\\n",
    "--gradient_clip_val $GRAD_CLIP \\\n",
    "--input_path $INPUT_PATH --mode $MODE --pretrain_path $PRETRAIN_PATH --max_length $MAX_LEN"
   ]
  },
  {
   "cell_type": "code",
   "execution_count": 3,
   "metadata": {},
   "outputs": [
    {
     "name": "stdout",
     "output_type": "stream",
     "text": [
      "torch 1.10.1\n",
      "args.mode =  train\n",
      "train_df.shape =  (3911, 8)\n",
      "load folds...\n",
      "trn_df.shape =  (3129, 8)\n",
      "val_df.shape =  (782, 8)\n",
      "2022-09-15 09:41:17.489514: W tensorflow/stream_executor/platform/default/dso_loader.cc:59] Could not load dynamic library 'libcudart.so.10.1'; dlerror: libcudart.so.10.1: cannot open shared object file: No such file or directory; LD_LIBRARY_PATH: /usr/local/cuda-10.2/lib64:\n",
      "2022-09-15 09:41:17.489534: I tensorflow/stream_executor/cuda/cudart_stub.cc:29] Ignore above cudart dlerror if you do not have a GPU set up on your machine.\n",
      "self.warmup_ratio =  0.1\n",
      "self.num_train_steps =  1955\n",
      "num_warmup_steps =  195\n",
      "lr :  [0.0, 0.0, 0.0]\n",
      "100%|██████████████████████████████| 391/391 [01:44<00:00,  3.74it/s, loss=0.48]\n",
      "100%|███████████████████████████████████████████| 98/98 [00:21<00:00,  4.51it/s]\n",
      "epoch 1: trn_loss = 0.4796, val_loss = 0.1082, trn_score = 1.2102, val_score = 0.4661\n",
      "lr :  [8.224468037456969e-06, 8.224468037456969e-06, 8.224468037456969e-05]\n",
      "100%|██████████████████████████████| 391/391 [01:45<00:00,  3.71it/s, loss=0.11]\n",
      "100%|███████████████████████████████████████████| 98/98 [00:21<00:00,  4.58it/s]\n",
      "epoch 2: trn_loss = 0.1097, val_loss = 0.1055, trn_score = 0.4695, val_score = 0.4603\n",
      "lr :  [4.974257968932691e-06, 4.974257968932691e-06, 4.974257968932691e-05]\n",
      "100%|█████████████████████████████| 391/391 [01:44<00:00,  3.75it/s, loss=0.103]\n",
      "100%|███████████████████████████████████████████| 98/98 [00:21<00:00,  4.59it/s]\n",
      "epoch 3: trn_loss = 0.1030, val_loss = 0.1054, trn_score = 0.4547, val_score = 0.4600\n",
      "lr :  [2.3268220525837457e-06, 2.3268220525837457e-06, 2.3268220525837457e-05]\n",
      "100%|████████████████████████████| 391/391 [01:43<00:00,  3.76it/s, loss=0.0979]\n",
      "100%|███████████████████████████████████████████| 98/98 [00:21<00:00,  4.61it/s]\n",
      "epoch 4: trn_loss = 0.0979, val_loss = 0.1013, trn_score = 0.4430, val_score = 0.4507\n",
      "lr :  [5.996867213330993e-07, 5.996867213330993e-07, 5.996867213330992e-06]\n",
      "100%|█████████████████████████████| 391/391 [01:43<00:00,  3.78it/s, loss=0.095]\n",
      "100%|███████████████████████████████████████████| 98/98 [00:21<00:00,  4.57it/s]\n",
      "epoch 5: trn_loss = 0.0950, val_loss = 0.1022, trn_score = 0.4362, val_score = 0.4528\n",
      "\n"
     ]
    }
   ],
   "source": [
    "FOLD = 1\n",
    "INPUT_PATH = '../../input/feedback-prize-english-language-learning/'\n",
    "FOLD_PATH = '../../00_EDA/00_v1_02/result/'\n",
    "MODE = 'train'\n",
    "EPOCHS = 5\n",
    "STOP_EPOCH = 5\n",
    "RESTART = 1\n",
    "NUM_CYCLES = EPOCHS\n",
    "PRETRAIN_PATH = 'none' #f'result/{VERSION}/model_seed{SEED}_fold{FOLD}_epoch{EPOCHS}_pseudo.pth'\n",
    "\n",
    "!python ../$VERSION/train.py --model $MODEL --version $VERSION --fold_path $FOLD_PATH --fold $FOLD --seed $SEED \\\n",
    "--lr $LR --head_lr $HEAD_LR --trn_batch_size $TRN_BS --val_batch_size $VAL_BS \\\n",
    "--epochs $EPOCHS --hidden_drop_prob $HIDDEN_DROP_PROB --p_drop $P_DROP \\\n",
    "--accumulate_grad_batches $ACCUM_STEP --rnn $RNN --warmup_ratio $WARMUP_RATIO --loss $LOSS --aug $AUG --head $HEAD \\\n",
    "--mixup_alpha $MIXUP_ALPHA --p_aug $P_AUG --aug_stop_epoch $AUG_STOP_EPOCH \\\n",
    "--msd $MSD --multi_layers $MULTI_LAYERS --eval_step $EVAL_STEP --stop_epoch $STOP_EPOCH \\\n",
    "--num_labels $NUM_LABELS --num_labels_2 $NUM_LABELS_2 \\\n",
    "--restart_epoch $RESTART --fp16 $FP16 --weight_decay $WD --freeze_layers $FREEZE \\\n",
    "--mt $MULTI_TASK --w_mt $W_MT \\\n",
    "--awp $AWP --awp_lr $AWP_LR --awp_eps $AWP_EPS --awp_start_epoch $AWP_START_EPOCH \\\n",
    "--pretrained_detector_path $PRETRAINED_DETECTOR_PATH --mask_prob $MASK_PROB --mask_ratio $MASK_RATIO \\\n",
    "--scheduler $SCHEDULER --num_cycles $NUM_CYCLES --check_pointing $CP \\\n",
    "--window_size $WINDOW_SIZE --inner_len $INNER_LEN --edge_len $EDGE_LEN \\\n",
    "--gradient_clip_val $GRAD_CLIP \\\n",
    "--input_path $INPUT_PATH --mode $MODE --pretrain_path $PRETRAIN_PATH --max_length $MAX_LEN"
   ]
  },
  {
   "cell_type": "code",
   "execution_count": 4,
   "metadata": {},
   "outputs": [
    {
     "name": "stdout",
     "output_type": "stream",
     "text": [
      "torch 1.10.1\n",
      "args.mode =  train\n",
      "train_df.shape =  (3911, 8)\n",
      "load folds...\n",
      "trn_df.shape =  (3129, 8)\n",
      "val_df.shape =  (782, 8)\n",
      "2022-09-15 09:52:06.926796: W tensorflow/stream_executor/platform/default/dso_loader.cc:59] Could not load dynamic library 'libcudart.so.10.1'; dlerror: libcudart.so.10.1: cannot open shared object file: No such file or directory; LD_LIBRARY_PATH: /usr/local/cuda-10.2/lib64:\n",
      "2022-09-15 09:52:06.926818: I tensorflow/stream_executor/cuda/cudart_stub.cc:29] Ignore above cudart dlerror if you do not have a GPU set up on your machine.\n",
      "self.warmup_ratio =  0.1\n",
      "self.num_train_steps =  1955\n",
      "num_warmup_steps =  195\n",
      "lr :  [0.0, 0.0, 0.0]\n",
      "100%|█████████████████████████████| 391/391 [01:44<00:00,  3.73it/s, loss=0.483]\n",
      "100%|███████████████████████████████████████████| 98/98 [00:21<00:00,  4.51it/s]\n",
      "epoch 1: trn_loss = 0.4829, val_loss = 0.1116, trn_score = 1.2161, val_score = 0.4735\n",
      "lr :  [8.224468037456969e-06, 8.224468037456969e-06, 8.224468037456969e-05]\n",
      "100%|█████████████████████████████| 391/391 [01:45<00:00,  3.72it/s, loss=0.111]\n",
      "100%|███████████████████████████████████████████| 98/98 [00:21<00:00,  4.58it/s]\n",
      "epoch 2: trn_loss = 0.1113, val_loss = 0.1027, trn_score = 0.4730, val_score = 0.4541\n",
      "lr :  [4.974257968932691e-06, 4.974257968932691e-06, 4.974257968932691e-05]\n",
      "100%|█████████████████████████████| 391/391 [01:44<00:00,  3.76it/s, loss=0.104]\n",
      "100%|███████████████████████████████████████████| 98/98 [00:21<00:00,  4.61it/s]\n",
      "epoch 3: trn_loss = 0.1043, val_loss = 0.1003, trn_score = 0.4574, val_score = 0.4486\n",
      "lr :  [2.3268220525837457e-06, 2.3268220525837457e-06, 2.3268220525837457e-05]\n",
      "100%|████████████████████████████| 391/391 [01:43<00:00,  3.76it/s, loss=0.0991]\n",
      "100%|███████████████████████████████████████████| 98/98 [00:21<00:00,  4.64it/s]\n",
      "epoch 4: trn_loss = 0.0991, val_loss = 0.1030, trn_score = 0.4458, val_score = 0.4548\n",
      "lr :  [5.996867213330993e-07, 5.996867213330993e-07, 5.996867213330992e-06]\n",
      "100%|████████████████████████████| 391/391 [01:43<00:00,  3.77it/s, loss=0.0964]\n",
      "100%|███████████████████████████████████████████| 98/98 [00:20<00:00,  4.69it/s]\n",
      "epoch 5: trn_loss = 0.0964, val_loss = 0.0992, trn_score = 0.4396, val_score = 0.4461\n",
      "\n"
     ]
    }
   ],
   "source": [
    "FOLD = 2\n",
    "INPUT_PATH = '../../input/feedback-prize-english-language-learning/'\n",
    "FOLD_PATH = '../../00_EDA/00_v1_02/result/'\n",
    "MODE = 'train'\n",
    "EPOCHS = 5\n",
    "STOP_EPOCH = 5\n",
    "RESTART = 1\n",
    "NUM_CYCLES = EPOCHS\n",
    "PRETRAIN_PATH = 'none' #f'result/{VERSION}/model_seed{SEED}_fold{FOLD}_epoch{EPOCHS}_pseudo.pth'\n",
    "\n",
    "!python ../$VERSION/train.py --model $MODEL --version $VERSION --fold_path $FOLD_PATH --fold $FOLD --seed $SEED \\\n",
    "--lr $LR --head_lr $HEAD_LR --trn_batch_size $TRN_BS --val_batch_size $VAL_BS \\\n",
    "--epochs $EPOCHS --hidden_drop_prob $HIDDEN_DROP_PROB --p_drop $P_DROP \\\n",
    "--accumulate_grad_batches $ACCUM_STEP --rnn $RNN --warmup_ratio $WARMUP_RATIO --loss $LOSS --aug $AUG --head $HEAD \\\n",
    "--mixup_alpha $MIXUP_ALPHA --p_aug $P_AUG --aug_stop_epoch $AUG_STOP_EPOCH \\\n",
    "--msd $MSD --multi_layers $MULTI_LAYERS --eval_step $EVAL_STEP --stop_epoch $STOP_EPOCH \\\n",
    "--num_labels $NUM_LABELS --num_labels_2 $NUM_LABELS_2 \\\n",
    "--restart_epoch $RESTART --fp16 $FP16 --weight_decay $WD --freeze_layers $FREEZE \\\n",
    "--mt $MULTI_TASK --w_mt $W_MT \\\n",
    "--awp $AWP --awp_lr $AWP_LR --awp_eps $AWP_EPS --awp_start_epoch $AWP_START_EPOCH \\\n",
    "--pretrained_detector_path $PRETRAINED_DETECTOR_PATH --mask_prob $MASK_PROB --mask_ratio $MASK_RATIO \\\n",
    "--scheduler $SCHEDULER --num_cycles $NUM_CYCLES --check_pointing $CP \\\n",
    "--window_size $WINDOW_SIZE --inner_len $INNER_LEN --edge_len $EDGE_LEN \\\n",
    "--gradient_clip_val $GRAD_CLIP \\\n",
    "--input_path $INPUT_PATH --mode $MODE --pretrain_path $PRETRAIN_PATH --max_length $MAX_LEN"
   ]
  },
  {
   "cell_type": "code",
   "execution_count": 5,
   "metadata": {},
   "outputs": [
    {
     "name": "stdout",
     "output_type": "stream",
     "text": [
      "torch 1.10.1\n",
      "args.mode =  train\n",
      "train_df.shape =  (3911, 8)\n",
      "load folds...\n",
      "trn_df.shape =  (3129, 8)\n",
      "val_df.shape =  (782, 8)\n",
      "2022-09-15 10:02:54.948951: W tensorflow/stream_executor/platform/default/dso_loader.cc:59] Could not load dynamic library 'libcudart.so.10.1'; dlerror: libcudart.so.10.1: cannot open shared object file: No such file or directory; LD_LIBRARY_PATH: /usr/local/cuda-10.2/lib64:\n",
      "2022-09-15 10:02:54.948972: I tensorflow/stream_executor/cuda/cudart_stub.cc:29] Ignore above cudart dlerror if you do not have a GPU set up on your machine.\n",
      "self.warmup_ratio =  0.1\n",
      "self.num_train_steps =  1955\n",
      "num_warmup_steps =  195\n",
      "lr :  [0.0, 0.0, 0.0]\n",
      "100%|█████████████████████████████| 391/391 [01:43<00:00,  3.77it/s, loss=0.489]\n",
      "100%|███████████████████████████████████████████| 98/98 [00:21<00:00,  4.57it/s]\n",
      "epoch 1: trn_loss = 0.4891, val_loss = 0.1131, trn_score = 1.2577, val_score = 0.4766\n",
      "lr :  [8.224468037456969e-06, 8.224468037456969e-06, 8.224468037456969e-05]\n",
      "100%|█████████████████████████████| 391/391 [01:44<00:00,  3.76it/s, loss=0.108]\n",
      "100%|███████████████████████████████████████████| 98/98 [00:21<00:00,  4.64it/s]\n",
      "epoch 2: trn_loss = 0.1085, val_loss = 0.1084, trn_score = 0.4669, val_score = 0.4664\n",
      "lr :  [4.974257968932691e-06, 4.974257968932691e-06, 4.974257968932691e-05]\n",
      "100%|███████████████████████████████| 391/391 [01:42<00:00,  3.80it/s, loss=0.1]\n",
      "100%|███████████████████████████████████████████| 98/98 [00:21<00:00,  4.64it/s]\n",
      "epoch 3: trn_loss = 0.1003, val_loss = 0.1059, trn_score = 0.4484, val_score = 0.4609\n",
      "lr :  [2.3268220525837457e-06, 2.3268220525837457e-06, 2.3268220525837457e-05]\n",
      "100%|████████████████████████████| 391/391 [01:42<00:00,  3.80it/s, loss=0.0958]\n",
      "100%|███████████████████████████████████████████| 98/98 [00:21<00:00,  4.66it/s]\n",
      "epoch 4: trn_loss = 0.0958, val_loss = 0.1057, trn_score = 0.4381, val_score = 0.4604\n",
      "lr :  [5.996867213330993e-07, 5.996867213330993e-07, 5.996867213330992e-06]\n",
      "100%|████████████████████████████| 391/391 [01:42<00:00,  3.81it/s, loss=0.0908]\n",
      "100%|███████████████████████████████████████████| 98/98 [00:21<00:00,  4.65it/s]\n",
      "epoch 5: trn_loss = 0.0908, val_loss = 0.1059, trn_score = 0.4265, val_score = 0.4610\n",
      "\n"
     ]
    }
   ],
   "source": [
    "FOLD = 3\n",
    "INPUT_PATH = '../../input/feedback-prize-english-language-learning/'\n",
    "FOLD_PATH = '../../00_EDA/00_v1_02/result/'\n",
    "MODE = 'train'\n",
    "EPOCHS = 5\n",
    "STOP_EPOCH = 5\n",
    "RESTART = 1\n",
    "NUM_CYCLES = EPOCHS\n",
    "PRETRAIN_PATH = 'none' #f'result/{VERSION}/model_seed{SEED}_fold{FOLD}_epoch{EPOCHS}_pseudo.pth'\n",
    "\n",
    "!python ../$VERSION/train.py --model $MODEL --version $VERSION --fold_path $FOLD_PATH --fold $FOLD --seed $SEED \\\n",
    "--lr $LR --head_lr $HEAD_LR --trn_batch_size $TRN_BS --val_batch_size $VAL_BS \\\n",
    "--epochs $EPOCHS --hidden_drop_prob $HIDDEN_DROP_PROB --p_drop $P_DROP \\\n",
    "--accumulate_grad_batches $ACCUM_STEP --rnn $RNN --warmup_ratio $WARMUP_RATIO --loss $LOSS --aug $AUG --head $HEAD \\\n",
    "--mixup_alpha $MIXUP_ALPHA --p_aug $P_AUG --aug_stop_epoch $AUG_STOP_EPOCH \\\n",
    "--msd $MSD --multi_layers $MULTI_LAYERS --eval_step $EVAL_STEP --stop_epoch $STOP_EPOCH \\\n",
    "--num_labels $NUM_LABELS --num_labels_2 $NUM_LABELS_2 \\\n",
    "--restart_epoch $RESTART --fp16 $FP16 --weight_decay $WD --freeze_layers $FREEZE \\\n",
    "--mt $MULTI_TASK --w_mt $W_MT \\\n",
    "--awp $AWP --awp_lr $AWP_LR --awp_eps $AWP_EPS --awp_start_epoch $AWP_START_EPOCH \\\n",
    "--pretrained_detector_path $PRETRAINED_DETECTOR_PATH --mask_prob $MASK_PROB --mask_ratio $MASK_RATIO \\\n",
    "--scheduler $SCHEDULER --num_cycles $NUM_CYCLES --check_pointing $CP \\\n",
    "--window_size $WINDOW_SIZE --inner_len $INNER_LEN --edge_len $EDGE_LEN \\\n",
    "--gradient_clip_val $GRAD_CLIP \\\n",
    "--input_path $INPUT_PATH --mode $MODE --pretrain_path $PRETRAIN_PATH --max_length $MAX_LEN"
   ]
  },
  {
   "cell_type": "code",
   "execution_count": 6,
   "metadata": {},
   "outputs": [
    {
     "name": "stdout",
     "output_type": "stream",
     "text": [
      "torch 1.10.1\n",
      "args.mode =  train\n",
      "train_df.shape =  (3911, 8)\n",
      "load folds...\n",
      "trn_df.shape =  (3129, 8)\n",
      "val_df.shape =  (782, 8)\n",
      "2022-09-15 10:13:36.868978: W tensorflow/stream_executor/platform/default/dso_loader.cc:59] Could not load dynamic library 'libcudart.so.10.1'; dlerror: libcudart.so.10.1: cannot open shared object file: No such file or directory; LD_LIBRARY_PATH: /usr/local/cuda-10.2/lib64:\n",
      "2022-09-15 10:13:36.868999: I tensorflow/stream_executor/cuda/cudart_stub.cc:29] Ignore above cudart dlerror if you do not have a GPU set up on your machine.\n",
      "self.warmup_ratio =  0.1\n",
      "self.num_train_steps =  1955\n",
      "num_warmup_steps =  195\n",
      "lr :  [0.0, 0.0, 0.0]\n",
      "100%|█████████████████████████████| 391/391 [01:43<00:00,  3.76it/s, loss=0.443]\n",
      "100%|███████████████████████████████████████████| 98/98 [00:21<00:00,  4.54it/s]\n",
      "epoch 1: trn_loss = 0.4432, val_loss = 0.1086, trn_score = 1.1457, val_score = 0.4670\n",
      "lr :  [8.224468037456969e-06, 8.224468037456969e-06, 8.224468037456969e-05]\n",
      "100%|█████████████████████████████| 391/391 [01:44<00:00,  3.75it/s, loss=0.108]\n",
      "100%|███████████████████████████████████████████| 98/98 [00:21<00:00,  4.63it/s]\n",
      "epoch 2: trn_loss = 0.1081, val_loss = 0.1073, trn_score = 0.4657, val_score = 0.4638\n",
      "lr :  [4.974257968932691e-06, 4.974257968932691e-06, 4.974257968932691e-05]\n",
      "100%|█████████████████████████████| 391/391 [01:43<00:00,  3.79it/s, loss=0.102]\n",
      "100%|███████████████████████████████████████████| 98/98 [00:21<00:00,  4.65it/s]\n",
      "epoch 3: trn_loss = 0.1025, val_loss = 0.1077, trn_score = 0.4533, val_score = 0.4652\n",
      "lr :  [2.3268220525837457e-06, 2.3268220525837457e-06, 2.3268220525837457e-05]\n",
      "100%|████████████████████████████| 391/391 [01:42<00:00,  3.80it/s, loss=0.0992]\n",
      "100%|███████████████████████████████████████████| 98/98 [00:21<00:00,  4.66it/s]\n",
      "epoch 4: trn_loss = 0.0992, val_loss = 0.1060, trn_score = 0.4460, val_score = 0.4612\n",
      "lr :  [5.996867213330993e-07, 5.996867213330993e-07, 5.996867213330992e-06]\n",
      "100%|████████████████████████████| 391/391 [01:42<00:00,  3.80it/s, loss=0.0953]\n",
      "100%|███████████████████████████████████████████| 98/98 [00:21<00:00,  4.65it/s]\n",
      "epoch 5: trn_loss = 0.0953, val_loss = 0.1060, trn_score = 0.4370, val_score = 0.4612\n",
      "\n"
     ]
    }
   ],
   "source": [
    "FOLD = 4\n",
    "INPUT_PATH = '../../input/feedback-prize-english-language-learning/'\n",
    "FOLD_PATH = '../../00_EDA/00_v1_02/result/'\n",
    "MODE = 'train'\n",
    "EPOCHS = 5\n",
    "STOP_EPOCH = 5\n",
    "RESTART = 1\n",
    "NUM_CYCLES = EPOCHS\n",
    "PRETRAIN_PATH = 'none' #f'result/{VERSION}/model_seed{SEED}_fold{FOLD}_epoch{EPOCHS}_pseudo.pth'\n",
    "\n",
    "!python ../$VERSION/train.py --model $MODEL --version $VERSION --fold_path $FOLD_PATH --fold $FOLD --seed $SEED \\\n",
    "--lr $LR --head_lr $HEAD_LR --trn_batch_size $TRN_BS --val_batch_size $VAL_BS \\\n",
    "--epochs $EPOCHS --hidden_drop_prob $HIDDEN_DROP_PROB --p_drop $P_DROP \\\n",
    "--accumulate_grad_batches $ACCUM_STEP --rnn $RNN --warmup_ratio $WARMUP_RATIO --loss $LOSS --aug $AUG --head $HEAD \\\n",
    "--mixup_alpha $MIXUP_ALPHA --p_aug $P_AUG --aug_stop_epoch $AUG_STOP_EPOCH \\\n",
    "--msd $MSD --multi_layers $MULTI_LAYERS --eval_step $EVAL_STEP --stop_epoch $STOP_EPOCH \\\n",
    "--num_labels $NUM_LABELS --num_labels_2 $NUM_LABELS_2 \\\n",
    "--restart_epoch $RESTART --fp16 $FP16 --weight_decay $WD --freeze_layers $FREEZE \\\n",
    "--mt $MULTI_TASK --w_mt $W_MT \\\n",
    "--awp $AWP --awp_lr $AWP_LR --awp_eps $AWP_EPS --awp_start_epoch $AWP_START_EPOCH \\\n",
    "--pretrained_detector_path $PRETRAINED_DETECTOR_PATH --mask_prob $MASK_PROB --mask_ratio $MASK_RATIO \\\n",
    "--scheduler $SCHEDULER --num_cycles $NUM_CYCLES --check_pointing $CP \\\n",
    "--window_size $WINDOW_SIZE --inner_len $INNER_LEN --edge_len $EDGE_LEN \\\n",
    "--gradient_clip_val $GRAD_CLIP \\\n",
    "--input_path $INPUT_PATH --mode $MODE --pretrain_path $PRETRAIN_PATH --max_length $MAX_LEN"
   ]
  },
  {
   "cell_type": "markdown",
   "metadata": {},
   "source": [
    "# OOF"
   ]
  },
  {
   "cell_type": "code",
   "execution_count": 18,
   "metadata": {
    "scrolled": false
   },
   "outputs": [
    {
     "name": "stdout",
     "output_type": "stream",
     "text": [
      "torch 1.10.1\n",
      "2022-09-19 09:18:54.173125: W tensorflow/stream_executor/platform/default/dso_loader.cc:59] Could not load dynamic library 'libcudart.so.10.1'; dlerror: libcudart.so.10.1: cannot open shared object file: No such file or directory; LD_LIBRARY_PATH: /usr/local/cuda-10.2/lib64:\n",
      "2022-09-19 09:18:54.173148: I tensorflow/stream_executor/cuda/cudart_stub.cc:29] Ignore above cudart dlerror if you do not have a GPU set up on your machine.\n",
      "train_df.shape =  (3911, 8)\n",
      "load folds...\n",
      "trn_df.shape =  (3128, 8)\n",
      "val_df.shape =  (783, 8)\n",
      "100%|███████████████████████████████████████████| 98/98 [00:16<00:00,  5.97it/s]\n",
      "val_loss=0.1023, val_score=0.4527\n",
      "essay_ids.shape =  (783,)\n",
      "preds.shape =  (783, 6)\n",
      "labels.shape =  (783, 6)\n",
      "losses.shape =  (783, 6)\n",
      "embeds.shape =  (783, 768)\n"
     ]
    }
   ],
   "source": [
    "FOLD = 0\n",
    "INPUT_PATH = '../../input/feedback-prize-english-language-learning/'\n",
    "FOLD_PATH = '../../00_EDA/00_v1_02/result/'\n",
    "WEIGHT_PATH = f'./result/{VERSION}/model_seed{SEED}_fold{FOLD}.pth'\n",
    "\n",
    "!python ../$VERSION/validation.py --model $MODEL --version $VERSION \\\n",
    "--fold_path $FOLD_PATH --fold $FOLD --seed $SEED --val_batch_size $VAL_BS \\\n",
    "--rnn $RNN --loss $LOSS --mt $MULTI_TASK --num_labels $NUM_LABELS --loss $LOSS --weight_path $WEIGHT_PATH \\\n",
    "--window_size $WINDOW_SIZE --inner_len $INNER_LEN --edge_len $EDGE_LEN --max_length $MAX_LEN"
   ]
  },
  {
   "cell_type": "code",
   "execution_count": 27,
   "metadata": {},
   "outputs": [
    {
     "name": "stdout",
     "output_type": "stream",
     "text": [
      "torch 1.10.1\n",
      "2022-09-19 09:24:12.988715: W tensorflow/stream_executor/platform/default/dso_loader.cc:59] Could not load dynamic library 'libcudart.so.10.1'; dlerror: libcudart.so.10.1: cannot open shared object file: No such file or directory; LD_LIBRARY_PATH: /usr/local/cuda-10.2/lib64:\n",
      "2022-09-19 09:24:12.988741: I tensorflow/stream_executor/cuda/cudart_stub.cc:29] Ignore above cudart dlerror if you do not have a GPU set up on your machine.\n",
      "train_df.shape =  (3911, 8)\n",
      "load folds...\n",
      "trn_df.shape =  (3129, 8)\n",
      "val_df.shape =  (782, 8)\n",
      "100%|███████████████████████████████████████████| 98/98 [00:16<00:00,  6.02it/s]\n",
      "val_loss=0.1013, val_score=0.4507\n",
      "essay_ids.shape =  (782,)\n",
      "preds.shape =  (782, 6)\n",
      "labels.shape =  (782, 6)\n",
      "losses.shape =  (782, 6)\n",
      "embeds.shape =  (782, 768)\n"
     ]
    }
   ],
   "source": [
    "FOLD = 1\n",
    "INPUT_PATH = '../../input/feedback-prize-english-language-learning/'\n",
    "FOLD_PATH = '../../00_EDA/00_v1_02/result/'\n",
    "WEIGHT_PATH = f'./result/{VERSION}/model_seed{SEED}_fold{FOLD}.pth'\n",
    "\n",
    "!python ../$VERSION/validation.py --model $MODEL --version $VERSION \\\n",
    "--fold_path $FOLD_PATH --fold $FOLD --seed $SEED --val_batch_size $VAL_BS \\\n",
    "--rnn $RNN --loss $LOSS --mt $MULTI_TASK --num_labels $NUM_LABELS --loss $LOSS --weight_path $WEIGHT_PATH \\\n",
    "--window_size $WINDOW_SIZE --inner_len $INNER_LEN --edge_len $EDGE_LEN --max_length $MAX_LEN"
   ]
  },
  {
   "cell_type": "code",
   "execution_count": 28,
   "metadata": {},
   "outputs": [
    {
     "name": "stdout",
     "output_type": "stream",
     "text": [
      "torch 1.10.1\n",
      "2022-09-19 09:24:46.405398: W tensorflow/stream_executor/platform/default/dso_loader.cc:59] Could not load dynamic library 'libcudart.so.10.1'; dlerror: libcudart.so.10.1: cannot open shared object file: No such file or directory; LD_LIBRARY_PATH: /usr/local/cuda-10.2/lib64:\n",
      "2022-09-19 09:24:46.405421: I tensorflow/stream_executor/cuda/cudart_stub.cc:29] Ignore above cudart dlerror if you do not have a GPU set up on your machine.\n",
      "train_df.shape =  (3911, 8)\n",
      "load folds...\n",
      "trn_df.shape =  (3129, 8)\n",
      "val_df.shape =  (782, 8)\n",
      "100%|███████████████████████████████████████████| 98/98 [00:16<00:00,  5.95it/s]\n",
      "val_loss=0.0992, val_score=0.4461\n",
      "essay_ids.shape =  (782,)\n",
      "preds.shape =  (782, 6)\n",
      "labels.shape =  (782, 6)\n",
      "losses.shape =  (782, 6)\n",
      "embeds.shape =  (782, 768)\n"
     ]
    }
   ],
   "source": [
    "FOLD = 2\n",
    "INPUT_PATH = '../../input/feedback-prize-english-language-learning/'\n",
    "FOLD_PATH = '../../00_EDA/00_v1_02/result/'\n",
    "WEIGHT_PATH = f'./result/{VERSION}/model_seed{SEED}_fold{FOLD}.pth'\n",
    "\n",
    "!python ../$VERSION/validation.py --model $MODEL --version $VERSION \\\n",
    "--fold_path $FOLD_PATH --fold $FOLD --seed $SEED --val_batch_size $VAL_BS \\\n",
    "--rnn $RNN --loss $LOSS --mt $MULTI_TASK --num_labels $NUM_LABELS --loss $LOSS --weight_path $WEIGHT_PATH \\\n",
    "--window_size $WINDOW_SIZE --inner_len $INNER_LEN --edge_len $EDGE_LEN --max_length $MAX_LEN"
   ]
  },
  {
   "cell_type": "code",
   "execution_count": 29,
   "metadata": {},
   "outputs": [
    {
     "name": "stdout",
     "output_type": "stream",
     "text": [
      "torch 1.10.1\n",
      "2022-09-19 09:25:19.880967: W tensorflow/stream_executor/platform/default/dso_loader.cc:59] Could not load dynamic library 'libcudart.so.10.1'; dlerror: libcudart.so.10.1: cannot open shared object file: No such file or directory; LD_LIBRARY_PATH: /usr/local/cuda-10.2/lib64:\n",
      "2022-09-19 09:25:19.880988: I tensorflow/stream_executor/cuda/cudart_stub.cc:29] Ignore above cudart dlerror if you do not have a GPU set up on your machine.\n",
      "train_df.shape =  (3911, 8)\n",
      "load folds...\n",
      "trn_df.shape =  (3129, 8)\n",
      "val_df.shape =  (782, 8)\n",
      "100%|███████████████████████████████████████████| 98/98 [00:16<00:00,  5.92it/s]\n",
      "val_loss=0.1057, val_score=0.4604\n",
      "essay_ids.shape =  (782,)\n",
      "preds.shape =  (782, 6)\n",
      "labels.shape =  (782, 6)\n",
      "losses.shape =  (782, 6)\n",
      "embeds.shape =  (782, 768)\n"
     ]
    }
   ],
   "source": [
    "FOLD = 3\n",
    "INPUT_PATH = '../../input/feedback-prize-english-language-learning/'\n",
    "FOLD_PATH = '../../00_EDA/00_v1_02/result/'\n",
    "WEIGHT_PATH = f'./result/{VERSION}/model_seed{SEED}_fold{FOLD}.pth'\n",
    "\n",
    "!python ../$VERSION/validation.py --model $MODEL --version $VERSION \\\n",
    "--fold_path $FOLD_PATH --fold $FOLD --seed $SEED --val_batch_size $VAL_BS \\\n",
    "--rnn $RNN --loss $LOSS --mt $MULTI_TASK --num_labels $NUM_LABELS --loss $LOSS --weight_path $WEIGHT_PATH \\\n",
    "--window_size $WINDOW_SIZE --inner_len $INNER_LEN --edge_len $EDGE_LEN --max_length $MAX_LEN"
   ]
  },
  {
   "cell_type": "code",
   "execution_count": 30,
   "metadata": {},
   "outputs": [
    {
     "name": "stdout",
     "output_type": "stream",
     "text": [
      "torch 1.10.1\n",
      "2022-09-19 09:25:53.523943: W tensorflow/stream_executor/platform/default/dso_loader.cc:59] Could not load dynamic library 'libcudart.so.10.1'; dlerror: libcudart.so.10.1: cannot open shared object file: No such file or directory; LD_LIBRARY_PATH: /usr/local/cuda-10.2/lib64:\n",
      "2022-09-19 09:25:53.523967: I tensorflow/stream_executor/cuda/cudart_stub.cc:29] Ignore above cudart dlerror if you do not have a GPU set up on your machine.\n",
      "train_df.shape =  (3911, 8)\n",
      "load folds...\n",
      "trn_df.shape =  (3129, 8)\n",
      "val_df.shape =  (782, 8)\n",
      "100%|███████████████████████████████████████████| 98/98 [00:16<00:00,  5.89it/s]\n",
      "val_loss=0.1060, val_score=0.4612\n",
      "essay_ids.shape =  (782,)\n",
      "preds.shape =  (782, 6)\n",
      "labels.shape =  (782, 6)\n",
      "losses.shape =  (782, 6)\n",
      "embeds.shape =  (782, 768)\n"
     ]
    }
   ],
   "source": [
    "FOLD = 4\n",
    "INPUT_PATH = '../../input/feedback-prize-english-language-learning/'\n",
    "FOLD_PATH = '../../00_EDA/00_v1_02/result/'\n",
    "WEIGHT_PATH = f'./result/{VERSION}/model_seed{SEED}_fold{FOLD}.pth'\n",
    "\n",
    "!python ../$VERSION/validation.py --model $MODEL --version $VERSION \\\n",
    "--fold_path $FOLD_PATH --fold $FOLD --seed $SEED --val_batch_size $VAL_BS \\\n",
    "--rnn $RNN --loss $LOSS --mt $MULTI_TASK --num_labels $NUM_LABELS --loss $LOSS --weight_path $WEIGHT_PATH \\\n",
    "--window_size $WINDOW_SIZE --inner_len $INNER_LEN --edge_len $EDGE_LEN --max_length $MAX_LEN"
   ]
  },
  {
   "cell_type": "code",
   "execution_count": 53,
   "metadata": {},
   "outputs": [],
   "source": [
    "import pandas as pd\n",
    "\n",
    "preds = []\n",
    "for fold in range(5):\n",
    "    tmp_df = pd.read_csv(f'./result/{VERSION}/pred_fold{fold}.csv')\n",
    "    embeds = np.load(f'./result/{VERSION}/embeds_fold{fold}.npz')['arr_0']\n",
    "    tmp_df['embed'] = embeds.tolist()\n",
    "    preds.append(tmp_df)\n",
    "    \n",
    "pred_df = pd.concat(preds, axis=0).reset_index(drop=True)\n",
    "train_df = pd.read_csv('../../input/feedback-prize-english-language-learning/train.csv')\n",
    "\n",
    "oof_df = train_df[['text_id']].merge(pred_df, on='text_id', how='left')\n",
    "oof_df.to_csv(f'./result/{VERSION}/oof_df.csv', index=False)"
   ]
  },
  {
   "cell_type": "code",
   "execution_count": 54,
   "metadata": {},
   "outputs": [
    {
     "data": {
      "text/plain": [
       "((3911, 14),\n",
       " text_id             0\n",
       " cohesion            0\n",
       " syntax              0\n",
       " vocabulary          0\n",
       " phraseology         0\n",
       " grammar             0\n",
       " conventions         0\n",
       " loss_cohesion       0\n",
       " loss_syntax         0\n",
       " loss_vocabulary     0\n",
       " loss_phraseology    0\n",
       " loss_grammar        0\n",
       " loss_conventions    0\n",
       " embed               0\n",
       " dtype: int64)"
      ]
     },
     "execution_count": 54,
     "metadata": {},
     "output_type": "execute_result"
    }
   ],
   "source": [
    "oof_df.shape, oof_df.isnull().sum()"
   ]
  },
  {
   "cell_type": "code",
   "execution_count": 1,
   "metadata": {},
   "outputs": [],
   "source": [
    "import pandas as pd"
   ]
  },
  {
   "cell_type": "code",
   "execution_count": 4,
   "metadata": {},
   "outputs": [
    {
     "name": "stdout",
     "output_type": "stream",
     "text": [
      "(3911, 14)\n"
     ]
    },
    {
     "data": {
      "text/html": [
       "<div>\n",
       "<style scoped>\n",
       "    .dataframe tbody tr th:only-of-type {\n",
       "        vertical-align: middle;\n",
       "    }\n",
       "\n",
       "    .dataframe tbody tr th {\n",
       "        vertical-align: top;\n",
       "    }\n",
       "\n",
       "    .dataframe thead th {\n",
       "        text-align: right;\n",
       "    }\n",
       "</style>\n",
       "<table border=\"1\" class=\"dataframe\">\n",
       "  <thead>\n",
       "    <tr style=\"text-align: right;\">\n",
       "      <th></th>\n",
       "      <th>text_id</th>\n",
       "      <th>cohesion</th>\n",
       "      <th>syntax</th>\n",
       "      <th>vocabulary</th>\n",
       "      <th>phraseology</th>\n",
       "      <th>grammar</th>\n",
       "      <th>conventions</th>\n",
       "      <th>loss_cohesion</th>\n",
       "      <th>loss_syntax</th>\n",
       "      <th>loss_vocabulary</th>\n",
       "      <th>loss_phraseology</th>\n",
       "      <th>loss_grammar</th>\n",
       "      <th>loss_conventions</th>\n",
       "      <th>embed</th>\n",
       "    </tr>\n",
       "  </thead>\n",
       "  <tbody>\n",
       "    <tr>\n",
       "      <th>0</th>\n",
       "      <td>0016926B079C</td>\n",
       "      <td>2.885453</td>\n",
       "      <td>2.860759</td>\n",
       "      <td>3.071929</td>\n",
       "      <td>3.064982</td>\n",
       "      <td>3.006479</td>\n",
       "      <td>2.924507</td>\n",
       "      <td>0.188834</td>\n",
       "      <td>0.204315</td>\n",
       "      <td>0.002587</td>\n",
       "      <td>0.002111</td>\n",
       "      <td>0.493542</td>\n",
       "      <td>0.002850</td>\n",
       "      <td>[-0.0270579531788826, -0.0180321354418993, 0.0...</td>\n",
       "    </tr>\n",
       "    <tr>\n",
       "      <th>1</th>\n",
       "      <td>0022683E9EA5</td>\n",
       "      <td>2.521122</td>\n",
       "      <td>2.440580</td>\n",
       "      <td>2.711392</td>\n",
       "      <td>2.605251</td>\n",
       "      <td>2.526124</td>\n",
       "      <td>2.519839</td>\n",
       "      <td>0.000223</td>\n",
       "      <td>0.001765</td>\n",
       "      <td>0.041647</td>\n",
       "      <td>0.183164</td>\n",
       "      <td>0.138403</td>\n",
       "      <td>0.000197</td>\n",
       "      <td>[-0.030677301809191704, -0.02591944858431816, ...</td>\n",
       "    </tr>\n",
       "    <tr>\n",
       "      <th>2</th>\n",
       "      <td>00299B378633</td>\n",
       "      <td>2.843849</td>\n",
       "      <td>2.967711</td>\n",
       "      <td>2.917809</td>\n",
       "      <td>2.919311</td>\n",
       "      <td>2.964522</td>\n",
       "      <td>3.111421</td>\n",
       "      <td>0.012192</td>\n",
       "      <td>0.141666</td>\n",
       "      <td>0.003378</td>\n",
       "      <td>0.003255</td>\n",
       "      <td>0.000629</td>\n",
       "      <td>0.186918</td>\n",
       "      <td>[-0.013244109228253365, 0.017796043306589127, ...</td>\n",
       "    </tr>\n",
       "    <tr>\n",
       "      <th>3</th>\n",
       "      <td>003885A45F42</td>\n",
       "      <td>3.642689</td>\n",
       "      <td>3.595627</td>\n",
       "      <td>3.678757</td>\n",
       "      <td>3.687304</td>\n",
       "      <td>3.530980</td>\n",
       "      <td>3.870839</td>\n",
       "      <td>0.367491</td>\n",
       "      <td>0.408946</td>\n",
       "      <td>0.337220</td>\n",
       "      <td>0.330237</td>\n",
       "      <td>0.109990</td>\n",
       "      <td>0.629161</td>\n",
       "      <td>[0.003870806423947215, -0.009887448512017727, ...</td>\n",
       "    </tr>\n",
       "    <tr>\n",
       "      <th>4</th>\n",
       "      <td>0049B1DF5CCC</td>\n",
       "      <td>2.658665</td>\n",
       "      <td>2.453293</td>\n",
       "      <td>2.795006</td>\n",
       "      <td>2.667222</td>\n",
       "      <td>2.580845</td>\n",
       "      <td>2.258993</td>\n",
       "      <td>0.012587</td>\n",
       "      <td>0.149444</td>\n",
       "      <td>0.021011</td>\n",
       "      <td>0.055370</td>\n",
       "      <td>0.003268</td>\n",
       "      <td>0.029042</td>\n",
       "      <td>[0.00140256283339113, -0.006286734249442816, 0...</td>\n",
       "    </tr>\n",
       "  </tbody>\n",
       "</table>\n",
       "</div>"
      ],
      "text/plain": [
       "        text_id  cohesion    syntax  vocabulary  phraseology   grammar  \\\n",
       "0  0016926B079C  2.885453  2.860759    3.071929     3.064982  3.006479   \n",
       "1  0022683E9EA5  2.521122  2.440580    2.711392     2.605251  2.526124   \n",
       "2  00299B378633  2.843849  2.967711    2.917809     2.919311  2.964522   \n",
       "3  003885A45F42  3.642689  3.595627    3.678757     3.687304  3.530980   \n",
       "4  0049B1DF5CCC  2.658665  2.453293    2.795006     2.667222  2.580845   \n",
       "\n",
       "   conventions  loss_cohesion  loss_syntax  loss_vocabulary  loss_phraseology  \\\n",
       "0     2.924507       0.188834     0.204315         0.002587          0.002111   \n",
       "1     2.519839       0.000223     0.001765         0.041647          0.183164   \n",
       "2     3.111421       0.012192     0.141666         0.003378          0.003255   \n",
       "3     3.870839       0.367491     0.408946         0.337220          0.330237   \n",
       "4     2.258993       0.012587     0.149444         0.021011          0.055370   \n",
       "\n",
       "   loss_grammar  loss_conventions  \\\n",
       "0      0.493542          0.002850   \n",
       "1      0.138403          0.000197   \n",
       "2      0.000629          0.186918   \n",
       "3      0.109990          0.629161   \n",
       "4      0.003268          0.029042   \n",
       "\n",
       "                                               embed  \n",
       "0  [-0.0270579531788826, -0.0180321354418993, 0.0...  \n",
       "1  [-0.030677301809191704, -0.02591944858431816, ...  \n",
       "2  [-0.013244109228253365, 0.017796043306589127, ...  \n",
       "3  [0.003870806423947215, -0.009887448512017727, ...  \n",
       "4  [0.00140256283339113, -0.006286734249442816, 0...  "
      ]
     },
     "execution_count": 4,
     "metadata": {},
     "output_type": "execute_result"
    }
   ],
   "source": [
    "oof_df = pd.read_csv(f'./result/{VERSION}/oof_df.csv')\n",
    "print(oof_df.shape)\n",
    "oof_df.head()"
   ]
  },
  {
   "cell_type": "code",
   "execution_count": 7,
   "metadata": {},
   "outputs": [],
   "source": [
    "cols_loss = [col for col in oof_df.columns if col.startswith(\"loss_\")],"
   ]
  },
  {
   "cell_type": "code",
   "execution_count": 25,
   "metadata": {},
   "outputs": [
    {
     "data": {
      "text/html": [
       "<div>\n",
       "<style scoped>\n",
       "    .dataframe tbody tr th:only-of-type {\n",
       "        vertical-align: middle;\n",
       "    }\n",
       "\n",
       "    .dataframe tbody tr th {\n",
       "        vertical-align: top;\n",
       "    }\n",
       "\n",
       "    .dataframe thead th {\n",
       "        text-align: right;\n",
       "    }\n",
       "</style>\n",
       "<table border=\"1\" class=\"dataframe\">\n",
       "  <thead>\n",
       "    <tr style=\"text-align: right;\">\n",
       "      <th></th>\n",
       "      <th>loss_cohesion</th>\n",
       "      <th>loss_syntax</th>\n",
       "      <th>loss_vocabulary</th>\n",
       "      <th>loss_phraseology</th>\n",
       "      <th>loss_grammar</th>\n",
       "      <th>loss_conventions</th>\n",
       "    </tr>\n",
       "  </thead>\n",
       "  <tbody>\n",
       "    <tr>\n",
       "      <th>count</th>\n",
       "      <td>3.911000e+03</td>\n",
       "      <td>3.911000e+03</td>\n",
       "      <td>3.911000e+03</td>\n",
       "      <td>3.911000e+03</td>\n",
       "      <td>3.911000e+03</td>\n",
       "      <td>3.911000e+03</td>\n",
       "    </tr>\n",
       "    <tr>\n",
       "      <th>mean</th>\n",
       "      <td>1.180424e-01</td>\n",
       "      <td>1.002046e-01</td>\n",
       "      <td>8.559785e-02</td>\n",
       "      <td>1.025821e-01</td>\n",
       "      <td>1.120270e-01</td>\n",
       "      <td>9.902182e-02</td>\n",
       "    </tr>\n",
       "    <tr>\n",
       "      <th>std</th>\n",
       "      <td>1.533521e-01</td>\n",
       "      <td>1.377588e-01</td>\n",
       "      <td>1.204373e-01</td>\n",
       "      <td>1.393089e-01</td>\n",
       "      <td>1.527724e-01</td>\n",
       "      <td>1.352499e-01</td>\n",
       "    </tr>\n",
       "    <tr>\n",
       "      <th>min</th>\n",
       "      <td>2.946877e-09</td>\n",
       "      <td>3.680736e-08</td>\n",
       "      <td>5.628209e-09</td>\n",
       "      <td>1.238050e-10</td>\n",
       "      <td>2.312402e-08</td>\n",
       "      <td>7.185292e-10</td>\n",
       "    </tr>\n",
       "    <tr>\n",
       "      <th>25%</th>\n",
       "      <td>1.375596e-02</td>\n",
       "      <td>1.023129e-02</td>\n",
       "      <td>7.572662e-03</td>\n",
       "      <td>1.064769e-02</td>\n",
       "      <td>1.143239e-02</td>\n",
       "      <td>9.745467e-03</td>\n",
       "    </tr>\n",
       "    <tr>\n",
       "      <th>50%</th>\n",
       "      <td>5.942198e-02</td>\n",
       "      <td>4.544037e-02</td>\n",
       "      <td>3.798470e-02</td>\n",
       "      <td>4.763749e-02</td>\n",
       "      <td>5.141512e-02</td>\n",
       "      <td>4.622856e-02</td>\n",
       "    </tr>\n",
       "    <tr>\n",
       "      <th>75%</th>\n",
       "      <td>1.549287e-01</td>\n",
       "      <td>1.358499e-01</td>\n",
       "      <td>1.142515e-01</td>\n",
       "      <td>1.367661e-01</td>\n",
       "      <td>1.535119e-01</td>\n",
       "      <td>1.324257e-01</td>\n",
       "    </tr>\n",
       "    <tr>\n",
       "      <th>max</th>\n",
       "      <td>1.265694e+00</td>\n",
       "      <td>1.038922e+00</td>\n",
       "      <td>1.087172e+00</td>\n",
       "      <td>1.110006e+00</td>\n",
       "      <td>1.294092e+00</td>\n",
       "      <td>1.189970e+00</td>\n",
       "    </tr>\n",
       "  </tbody>\n",
       "</table>\n",
       "</div>"
      ],
      "text/plain": [
       "       loss_cohesion   loss_syntax  loss_vocabulary  loss_phraseology  \\\n",
       "count   3.911000e+03  3.911000e+03     3.911000e+03      3.911000e+03   \n",
       "mean    1.180424e-01  1.002046e-01     8.559785e-02      1.025821e-01   \n",
       "std     1.533521e-01  1.377588e-01     1.204373e-01      1.393089e-01   \n",
       "min     2.946877e-09  3.680736e-08     5.628209e-09      1.238050e-10   \n",
       "25%     1.375596e-02  1.023129e-02     7.572662e-03      1.064769e-02   \n",
       "50%     5.942198e-02  4.544037e-02     3.798470e-02      4.763749e-02   \n",
       "75%     1.549287e-01  1.358499e-01     1.142515e-01      1.367661e-01   \n",
       "max     1.265694e+00  1.038922e+00     1.087172e+00      1.110006e+00   \n",
       "\n",
       "       loss_grammar  loss_conventions  \n",
       "count  3.911000e+03      3.911000e+03  \n",
       "mean   1.120270e-01      9.902182e-02  \n",
       "std    1.527724e-01      1.352499e-01  \n",
       "min    2.312402e-08      7.185292e-10  \n",
       "25%    1.143239e-02      9.745467e-03  \n",
       "50%    5.141512e-02      4.622856e-02  \n",
       "75%    1.535119e-01      1.324257e-01  \n",
       "max    1.294092e+00      1.189970e+00  "
      ]
     },
     "execution_count": 25,
     "metadata": {},
     "output_type": "execute_result"
    }
   ],
   "source": [
    "oof_df[cols_loss].describe()"
   ]
  },
  {
   "cell_type": "code",
   "execution_count": 27,
   "metadata": {},
   "outputs": [
    {
     "name": "stdout",
     "output_type": "stream",
     "text": [
      "4\n",
      "4\n",
      "2\n",
      "2\n",
      "4\n",
      "3\n"
     ]
    }
   ],
   "source": [
    "for col in cols_loss:\n",
    "    print((oof_df[col]>1.0).sum())"
   ]
  },
  {
   "cell_type": "code",
   "execution_count": 26,
   "metadata": {
    "scrolled": false
   },
   "outputs": [
    {
     "data": {
      "image/png": "[encoded data removed]",
      "text/plain": [
       "<Figure size 432x216 with 1 Axes>"
      ]
     },
     "metadata": {
      "needs_background": "light"
     },
     "output_type": "display_data"
    },
    {
     "data": {
      "image/png": "[encoded data removed]",
      "text/plain": [
       "<Figure size 432x216 with 1 Axes>"
      ]
     },
     "metadata": {
      "needs_background": "light"
     },
     "output_type": "display_data"
    },
    {
     "data": {
      "image/png": "[encoded data removed]",
      "text/plain": [
       "<Figure size 432x216 with 1 Axes>"
      ]
     },
     "metadata": {
      "needs_background": "light"
     },
     "output_type": "display_data"
    },
    {
     "data": {
      "image/png": "[encoded data removed]",
      "text/plain": [
       "<Figure size 432x216 with 1 Axes>"
      ]
     },
     "metadata": {
      "needs_background": "light"
     },
     "output_type": "display_data"
    },
    {
     "data": {
      "image/png": "[encoded data removed]",
      "text/plain": [
       "<Figure size 432x216 with 1 Axes>"
      ]
     },
     "metadata": {
      "needs_background": "light"
     },
     "output_type": "display_data"
    },
    {
     "data": {
      "image/png": "[encoded data removed]",
      "text/plain": [
       "<Figure size 432x216 with 1 Axes>"
      ]
     },
     "metadata": {
      "needs_background": "light"
     },
     "output_type": "display_data"
    }
   ],
   "source": [
    "import matplotlib.pyplot as plt\n",
    "\n",
    "for i,col in enumerate(cols_loss):\n",
    "    plt.figure(figsize=(6,3))\n",
    "    plt.hist(oof_df[col].values, bins=100)\n",
    "    plt.title(col)\n",
    "    plt.show()\n",
    "    plt.close()"
   ]
  },
  {
   "cell_type": "code",
   "execution_count": null,
   "metadata": {},
   "outputs": [],
   "source": []
  },
  {
   "cell_type": "code",
   "execution_count": null,
   "metadata": {},
   "outputs": [],
   "source": []
  },
  {
   "cell_type": "code",
   "execution_count": null,
   "metadata": {},
   "outputs": [],
   "source": []
  },
  {
   "cell_type": "code",
   "execution_count": null,
   "metadata": {},
   "outputs": [],
   "source": []
  }
 ],
 "metadata": {
  "kernelspec": {
   "display_name": "Python 3",
   "language": "python",
   "name": "python3"
  },
  "language_info": {
   "codemirror_mode": {
    "name": "ipython",
    "version": 3
   },
   "file_extension": ".py",
   "mimetype": "text/x-python",
   "name": "python",
   "nbconvert_exporter": "python",
   "pygments_lexer": "ipython3",
   "version": "3.7.8"
  }
 },
 "nbformat": 4,
 "nbformat_minor": 4
}
