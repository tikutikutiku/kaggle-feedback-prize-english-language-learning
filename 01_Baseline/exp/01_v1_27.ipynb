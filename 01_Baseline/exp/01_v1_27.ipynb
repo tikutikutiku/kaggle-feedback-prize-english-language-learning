{
 "cells": [
  {
   "cell_type": "code",
   "execution_count": 1,
   "metadata": {},
   "outputs": [],
   "source": [
    "VERSION = '01_v1_27'\n",
    "MODEL = 'microsoft/deberta-v3-base'\n",
    "#'microsoft/deberta-base'\n",
    "#'microsoft/deberta-v3-large'\n",
    "LR = 2e-5 #8e-6\n",
    "HEAD_LR = 2e-4 #2e-5 #8e-6 \n",
    "SEED = 100\n",
    "TRN_BS = 8\n",
    "VAL_BS = 8\n",
    "ACCUM_STEP = 1\n",
    "HIDDEN_DROP_PROB = 0\n",
    "P_DROP = 0\n",
    "RNN = 'none'\n",
    "WARMUP_RATIO = 0.1\n",
    "HEAD = 'simple'\n",
    "AUG = 'false'\n",
    "MIXUP_ALPHA = 0\n",
    "P_AUG = 0\n",
    "AUG_STOP_EPOCH = 0\n",
    "MSD = 'false'\n",
    "MULTI_LAYERS = 1\n",
    "EVAL_STEP = -1\n",
    "NUM_LABELS = 6\n",
    "NUM_LABELS_2 = -1\n",
    "FP16 = 'true'\n",
    "WD = 0.01\n",
    "FREEZE = 'false'\n",
    "MULTI_TASK = 'false' \n",
    "W_MT = 0 \n",
    "AWP = 'false'\n",
    "AWP_LR = 0\n",
    "AWP_EPS = 0\n",
    "AWP_START_EPOCH = -1\n",
    "#PRETRAINED_DETECTOR_PATH = f'../../input/tascj/result/deberta_base_fold0.pth'\n",
    "PRETRAINED_DETECTOR_PATH = 'none' #f'../../05_Detection/exp/result/05_v2_09/model_seed100_fold0_swa.pth'\n",
    "MASK_PROB = 0 #0.8\n",
    "MASK_RATIO = 0 #0.3\n",
    "SCHEDULER = 'cosine_hard'\n",
    "CP = 'false'\n",
    "WINDOW_SIZE = -1 #512\n",
    "INNER_LEN = -1 #384\n",
    "EDGE_LEN = -1 #64\n",
    "MAX_LEN = 512\n",
    "\n",
    "GRAD_CLIP = 1\n",
    "\n",
    "LOSS = 'smoothl1'#'mse'"
   ]
  },
  {
   "cell_type": "code",
   "execution_count": 2,
   "metadata": {
    "scrolled": false
   },
   "outputs": [
    {
     "name": "stdout",
     "output_type": "stream",
     "text": [
      "torch 1.10.1\n",
      "args.mode =  train\n",
      "train_df.shape =  (3911, 8)\n",
      "load folds...\n",
      "trn_df.shape =  (3128, 8)\n",
      "val_df.shape =  (783, 8)\n",
      "2022-09-15 09:30:18.680166: W tensorflow/stream_executor/platform/default/dso_loader.cc:59] Could not load dynamic library 'libcudart.so.10.1'; dlerror: libcudart.so.10.1: cannot open shared object file: No such file or directory; LD_LIBRARY_PATH: /usr/local/cuda-10.2/lib64:\n",
      "2022-09-15 09:30:18.680187: I tensorflow/stream_executor/cuda/cudart_stub.cc:29] Ignore above cudart dlerror if you do not have a GPU set up on your machine.\n",
      "self.warmup_ratio =  0.1\n",
      "self.num_train_steps =  1955\n",
      "num_warmup_steps =  195\n",
      "lr :  [0.0, 0.0, 0.0]\n",
      "100%|█████████████████████████████| 391/391 [01:43<00:00,  3.77it/s, loss=0.471]\n",
      "100%|███████████████████████████████████████████| 98/98 [00:22<00:00,  4.45it/s]\n",
      "epoch 1: trn_loss = 0.4706, val_loss = 0.1097, trn_score = 1.1968, val_score = 0.4689\n",
      "lr :  [8.224468037456969e-06, 8.224468037456969e-06, 8.224468037456969e-05]\n",
      "100%|█████████████████████████████| 391/391 [01:45<00:00,  3.70it/s, loss=0.109]\n",
      "100%|███████████████████████████████████████████| 98/98 [00:22<00:00,  4.44it/s]\n",
      "epoch 2: trn_loss = 0.1091, val_loss = 0.1080, trn_score = 0.4683, val_score = 0.4650\n",
      "lr :  [4.974257968932691e-06, 4.974257968932691e-06, 4.974257968932691e-05]\n",
      "100%|█████████████████████████████| 391/391 [01:46<00:00,  3.68it/s, loss=0.103]\n",
      "100%|███████████████████████████████████████████| 98/98 [00:22<00:00,  4.41it/s]\n",
      "epoch 3: trn_loss = 0.1027, val_loss = 0.1033, trn_score = 0.4541, val_score = 0.4545\n",
      "lr :  [2.3268220525837457e-06, 2.3268220525837457e-06, 2.3268220525837457e-05]\n",
      "100%|████████████████████████████| 391/391 [01:46<00:00,  3.69it/s, loss=0.0974]\n",
      "100%|███████████████████████████████████████████| 98/98 [00:22<00:00,  4.43it/s]\n",
      "epoch 4: trn_loss = 0.0974, val_loss = 0.1051, trn_score = 0.4421, val_score = 0.4588\n",
      "lr :  [5.996867213330993e-07, 5.996867213330993e-07, 5.996867213330992e-06]\n",
      "100%|████████████████████████████| 391/391 [01:45<00:00,  3.70it/s, loss=0.0956]\n",
      "100%|███████████████████████████████████████████| 98/98 [00:22<00:00,  4.39it/s]\n",
      "epoch 5: trn_loss = 0.0956, val_loss = 0.1023, trn_score = 0.4379, val_score = 0.4527\n",
      "\n"
     ]
    }
   ],
   "source": [
    "FOLD = 0\n",
    "INPUT_PATH = '../../input/feedback-prize-english-language-learning/'\n",
    "FOLD_PATH = '../../00_EDA/00_v1_02/result/'\n",
    "MODE = 'train'\n",
    "EPOCHS = 5\n",
    "STOP_EPOCH = 5\n",
    "RESTART = 1\n",
    "NUM_CYCLES = EPOCHS\n",
    "PRETRAIN_PATH = 'none' #f'result/{VERSION}/model_seed{SEED}_fold{FOLD}_epoch{EPOCHS}_pseudo.pth'\n",
    "\n",
    "!python ../$VERSION/train.py --model $MODEL --version $VERSION --fold_path $FOLD_PATH --fold $FOLD --seed $SEED \\\n",
    "--lr $LR --head_lr $HEAD_LR --trn_batch_size $TRN_BS --val_batch_size $VAL_BS \\\n",
    "--epochs $EPOCHS --hidden_drop_prob $HIDDEN_DROP_PROB --p_drop $P_DROP \\\n",
    "--accumulate_grad_batches $ACCUM_STEP --rnn $RNN --warmup_ratio $WARMUP_RATIO --loss $LOSS --aug $AUG --head $HEAD \\\n",
    "--mixup_alpha $MIXUP_ALPHA --p_aug $P_AUG --aug_stop_epoch $AUG_STOP_EPOCH \\\n",
    "--msd $MSD --multi_layers $MULTI_LAYERS --eval_step $EVAL_STEP --stop_epoch $STOP_EPOCH \\\n",
    "--num_labels $NUM_LABELS --num_labels_2 $NUM_LABELS_2 \\\n",
    "--restart_epoch $RESTART --fp16 $FP16 --weight_decay $WD --freeze_layers $FREEZE \\\n",
    "--mt $MULTI_TASK --w_mt $W_MT \\\n",
    "--awp $AWP --awp_lr $AWP_LR --awp_eps $AWP_EPS --awp_start_epoch $AWP_START_EPOCH \\\n",
    "--pretrained_detector_path $PRETRAINED_DETECTOR_PATH --mask_prob $MASK_PROB --mask_ratio $MASK_RATIO \\\n",
    "--scheduler $SCHEDULER --num_cycles $NUM_CYCLES --check_pointing $CP \\\n",
    "--window_size $WINDOW_SIZE --inner_len $INNER_LEN --edge_len $EDGE_LEN \\\n",
    "--gradient_clip_val $GRAD_CLIP \\\n",
    "--input_path $INPUT_PATH --mode $MODE --pretrain_path $PRETRAIN_PATH --max_length $MAX_LEN"
   ]
  },
  {
   "cell_type": "code",
   "execution_count": 3,
   "metadata": {},
   "outputs": [
    {
     "name": "stdout",
     "output_type": "stream",
     "text": [
      "torch 1.10.1\n",
      "args.mode =  train\n",
      "train_df.shape =  (3911, 8)\n",
      "load folds...\n",
      "trn_df.shape =  (3129, 8)\n",
      "val_df.shape =  (782, 8)\n",
      "2022-09-15 09:41:17.489514: W tensorflow/stream_executor/platform/default/dso_loader.cc:59] Could not load dynamic library 'libcudart.so.10.1'; dlerror: libcudart.so.10.1: cannot open shared object file: No such file or directory; LD_LIBRARY_PATH: /usr/local/cuda-10.2/lib64:\n",
      "2022-09-15 09:41:17.489534: I tensorflow/stream_executor/cuda/cudart_stub.cc:29] Ignore above cudart dlerror if you do not have a GPU set up on your machine.\n",
      "self.warmup_ratio =  0.1\n",
      "self.num_train_steps =  1955\n",
      "num_warmup_steps =  195\n",
      "lr :  [0.0, 0.0, 0.0]\n",
      "100%|██████████████████████████████| 391/391 [01:44<00:00,  3.74it/s, loss=0.48]\n",
      "100%|███████████████████████████████████████████| 98/98 [00:21<00:00,  4.51it/s]\n",
      "epoch 1: trn_loss = 0.4796, val_loss = 0.1082, trn_score = 1.2102, val_score = 0.4661\n",
      "lr :  [8.224468037456969e-06, 8.224468037456969e-06, 8.224468037456969e-05]\n",
      "100%|██████████████████████████████| 391/391 [01:45<00:00,  3.71it/s, loss=0.11]\n",
      "100%|███████████████████████████████████████████| 98/98 [00:21<00:00,  4.58it/s]\n",
      "epoch 2: trn_loss = 0.1097, val_loss = 0.1055, trn_score = 0.4695, val_score = 0.4603\n",
      "lr :  [4.974257968932691e-06, 4.974257968932691e-06, 4.974257968932691e-05]\n",
      "100%|█████████████████████████████| 391/391 [01:44<00:00,  3.75it/s, loss=0.103]\n",
      "100%|███████████████████████████████████████████| 98/98 [00:21<00:00,  4.59it/s]\n",
      "epoch 3: trn_loss = 0.1030, val_loss = 0.1054, trn_score = 0.4547, val_score = 0.4600\n",
      "lr :  [2.3268220525837457e-06, 2.3268220525837457e-06, 2.3268220525837457e-05]\n",
      "100%|████████████████████████████| 391/391 [01:43<00:00,  3.76it/s, loss=0.0979]\n",
      "100%|███████████████████████████████████████████| 98/98 [00:21<00:00,  4.61it/s]\n",
      "epoch 4: trn_loss = 0.0979, val_loss = 0.1013, trn_score = 0.4430, val_score = 0.4507\n",
      "lr :  [5.996867213330993e-07, 5.996867213330993e-07, 5.996867213330992e-06]\n",
      "100%|█████████████████████████████| 391/391 [01:43<00:00,  3.78it/s, loss=0.095]\n",
      "100%|███████████████████████████████████████████| 98/98 [00:21<00:00,  4.57it/s]\n",
      "epoch 5: trn_loss = 0.0950, val_loss = 0.1022, trn_score = 0.4362, val_score = 0.4528\n",
      "\n"
     ]
    }
   ],
   "source": [
    "FOLD = 1\n",
    "INPUT_PATH = '../../input/feedback-prize-english-language-learning/'\n",
    "FOLD_PATH = '../../00_EDA/00_v1_02/result/'\n",
    "MODE = 'train'\n",
    "EPOCHS = 5\n",
    "STOP_EPOCH = 5\n",
    "RESTART = 1\n",
    "NUM_CYCLES = EPOCHS\n",
    "PRETRAIN_PATH = 'none' #f'result/{VERSION}/model_seed{SEED}_fold{FOLD}_epoch{EPOCHS}_pseudo.pth'\n",
    "\n",
    "!python ../$VERSION/train.py --model $MODEL --version $VERSION --fold_path $FOLD_PATH --fold $FOLD --seed $SEED \\\n",
    "--lr $LR --head_lr $HEAD_LR --trn_batch_size $TRN_BS --val_batch_size $VAL_BS \\\n",
    "--epochs $EPOCHS --hidden_drop_prob $HIDDEN_DROP_PROB --p_drop $P_DROP \\\n",
    "--accumulate_grad_batches $ACCUM_STEP --rnn $RNN --warmup_ratio $WARMUP_RATIO --loss $LOSS --aug $AUG --head $HEAD \\\n",
    "--mixup_alpha $MIXUP_ALPHA --p_aug $P_AUG --aug_stop_epoch $AUG_STOP_EPOCH \\\n",
    "--msd $MSD --multi_layers $MULTI_LAYERS --eval_step $EVAL_STEP --stop_epoch $STOP_EPOCH \\\n",
    "--num_labels $NUM_LABELS --num_labels_2 $NUM_LABELS_2 \\\n",
    "--restart_epoch $RESTART --fp16 $FP16 --weight_decay $WD --freeze_layers $FREEZE \\\n",
    "--mt $MULTI_TASK --w_mt $W_MT \\\n",
    "--awp $AWP --awp_lr $AWP_LR --awp_eps $AWP_EPS --awp_start_epoch $AWP_START_EPOCH \\\n",
    "--pretrained_detector_path $PRETRAINED_DETECTOR_PATH --mask_prob $MASK_PROB --mask_ratio $MASK_RATIO \\\n",
    "--scheduler $SCHEDULER --num_cycles $NUM_CYCLES --check_pointing $CP \\\n",
    "--window_size $WINDOW_SIZE --inner_len $INNER_LEN --edge_len $EDGE_LEN \\\n",
    "--gradient_clip_val $GRAD_CLIP \\\n",
    "--input_path $INPUT_PATH --mode $MODE --pretrain_path $PRETRAIN_PATH --max_length $MAX_LEN"
   ]
  },
  {
   "cell_type": "code",
   "execution_count": 4,
   "metadata": {},
   "outputs": [
    {
     "name": "stdout",
     "output_type": "stream",
     "text": [
      "torch 1.10.1\n",
      "args.mode =  train\n",
      "train_df.shape =  (3911, 8)\n",
      "load folds...\n",
      "trn_df.shape =  (3129, 8)\n",
      "val_df.shape =  (782, 8)\n",
      "2022-09-15 09:52:06.926796: W tensorflow/stream_executor/platform/default/dso_loader.cc:59] Could not load dynamic library 'libcudart.so.10.1'; dlerror: libcudart.so.10.1: cannot open shared object file: No such file or directory; LD_LIBRARY_PATH: /usr/local/cuda-10.2/lib64:\n",
      "2022-09-15 09:52:06.926818: I tensorflow/stream_executor/cuda/cudart_stub.cc:29] Ignore above cudart dlerror if you do not have a GPU set up on your machine.\n",
      "self.warmup_ratio =  0.1\n",
      "self.num_train_steps =  1955\n",
      "num_warmup_steps =  195\n",
      "lr :  [0.0, 0.0, 0.0]\n",
      "100%|█████████████████████████████| 391/391 [01:44<00:00,  3.73it/s, loss=0.483]\n",
      "100%|███████████████████████████████████████████| 98/98 [00:21<00:00,  4.51it/s]\n",
      "epoch 1: trn_loss = 0.4829, val_loss = 0.1116, trn_score = 1.2161, val_score = 0.4735\n",
      "lr :  [8.224468037456969e-06, 8.224468037456969e-06, 8.224468037456969e-05]\n",
      "100%|█████████████████████████████| 391/391 [01:45<00:00,  3.72it/s, loss=0.111]\n",
      "100%|███████████████████████████████████████████| 98/98 [00:21<00:00,  4.58it/s]\n",
      "epoch 2: trn_loss = 0.1113, val_loss = 0.1027, trn_score = 0.4730, val_score = 0.4541\n",
      "lr :  [4.974257968932691e-06, 4.974257968932691e-06, 4.974257968932691e-05]\n",
      "100%|█████████████████████████████| 391/391 [01:44<00:00,  3.76it/s, loss=0.104]\n",
      "100%|███████████████████████████████████████████| 98/98 [00:21<00:00,  4.61it/s]\n",
      "epoch 3: trn_loss = 0.1043, val_loss = 0.1003, trn_score = 0.4574, val_score = 0.4486\n",
      "lr :  [2.3268220525837457e-06, 2.3268220525837457e-06, 2.3268220525837457e-05]\n",
      "100%|████████████████████████████| 391/391 [01:43<00:00,  3.76it/s, loss=0.0991]\n",
      "100%|███████████████████████████████████████████| 98/98 [00:21<00:00,  4.64it/s]\n",
      "epoch 4: trn_loss = 0.0991, val_loss = 0.1030, trn_score = 0.4458, val_score = 0.4548\n",
      "lr :  [5.996867213330993e-07, 5.996867213330993e-07, 5.996867213330992e-06]\n",
      "100%|████████████████████████████| 391/391 [01:43<00:00,  3.77it/s, loss=0.0964]\n",
      "100%|███████████████████████████████████████████| 98/98 [00:20<00:00,  4.69it/s]\n",
      "epoch 5: trn_loss = 0.0964, val_loss = 0.0992, trn_score = 0.4396, val_score = 0.4461\n",
      "\n"
     ]
    }
   ],
   "source": [
    "FOLD = 2\n",
    "INPUT_PATH = '../../input/feedback-prize-english-language-learning/'\n",
    "FOLD_PATH = '../../00_EDA/00_v1_02/result/'\n",
    "MODE = 'train'\n",
    "EPOCHS = 5\n",
    "STOP_EPOCH = 5\n",
    "RESTART = 1\n",
    "NUM_CYCLES = EPOCHS\n",
    "PRETRAIN_PATH = 'none' #f'result/{VERSION}/model_seed{SEED}_fold{FOLD}_epoch{EPOCHS}_pseudo.pth'\n",
    "\n",
    "!python ../$VERSION/train.py --model $MODEL --version $VERSION --fold_path $FOLD_PATH --fold $FOLD --seed $SEED \\\n",
    "--lr $LR --head_lr $HEAD_LR --trn_batch_size $TRN_BS --val_batch_size $VAL_BS \\\n",
    "--epochs $EPOCHS --hidden_drop_prob $HIDDEN_DROP_PROB --p_drop $P_DROP \\\n",
    "--accumulate_grad_batches $ACCUM_STEP --rnn $RNN --warmup_ratio $WARMUP_RATIO --loss $LOSS --aug $AUG --head $HEAD \\\n",
    "--mixup_alpha $MIXUP_ALPHA --p_aug $P_AUG --aug_stop_epoch $AUG_STOP_EPOCH \\\n",
    "--msd $MSD --multi_layers $MULTI_LAYERS --eval_step $EVAL_STEP --stop_epoch $STOP_EPOCH \\\n",
    "--num_labels $NUM_LABELS --num_labels_2 $NUM_LABELS_2 \\\n",
    "--restart_epoch $RESTART --fp16 $FP16 --weight_decay $WD --freeze_layers $FREEZE \\\n",
    "--mt $MULTI_TASK --w_mt $W_MT \\\n",
    "--awp $AWP --awp_lr $AWP_LR --awp_eps $AWP_EPS --awp_start_epoch $AWP_START_EPOCH \\\n",
    "--pretrained_detector_path $PRETRAINED_DETECTOR_PATH --mask_prob $MASK_PROB --mask_ratio $MASK_RATIO \\\n",
    "--scheduler $SCHEDULER --num_cycles $NUM_CYCLES --check_pointing $CP \\\n",
    "--window_size $WINDOW_SIZE --inner_len $INNER_LEN --edge_len $EDGE_LEN \\\n",
    "--gradient_clip_val $GRAD_CLIP \\\n",
    "--input_path $INPUT_PATH --mode $MODE --pretrain_path $PRETRAIN_PATH --max_length $MAX_LEN"
   ]
  },
  {
   "cell_type": "code",
   "execution_count": 5,
   "metadata": {},
   "outputs": [
    {
     "name": "stdout",
     "output_type": "stream",
     "text": [
      "torch 1.10.1\n",
      "args.mode =  train\n",
      "train_df.shape =  (3911, 8)\n",
      "load folds...\n",
      "trn_df.shape =  (3129, 8)\n",
      "val_df.shape =  (782, 8)\n",
      "2022-09-15 10:02:54.948951: W tensorflow/stream_executor/platform/default/dso_loader.cc:59] Could not load dynamic library 'libcudart.so.10.1'; dlerror: libcudart.so.10.1: cannot open shared object file: No such file or directory; LD_LIBRARY_PATH: /usr/local/cuda-10.2/lib64:\n",
      "2022-09-15 10:02:54.948972: I tensorflow/stream_executor/cuda/cudart_stub.cc:29] Ignore above cudart dlerror if you do not have a GPU set up on your machine.\n",
      "self.warmup_ratio =  0.1\n",
      "self.num_train_steps =  1955\n",
      "num_warmup_steps =  195\n",
      "lr :  [0.0, 0.0, 0.0]\n",
      "100%|█████████████████████████████| 391/391 [01:43<00:00,  3.77it/s, loss=0.489]\n",
      "100%|███████████████████████████████████████████| 98/98 [00:21<00:00,  4.57it/s]\n",
      "epoch 1: trn_loss = 0.4891, val_loss = 0.1131, trn_score = 1.2577, val_score = 0.4766\n",
      "lr :  [8.224468037456969e-06, 8.224468037456969e-06, 8.224468037456969e-05]\n",
      "100%|█████████████████████████████| 391/391 [01:44<00:00,  3.76it/s, loss=0.108]\n",
      "100%|███████████████████████████████████████████| 98/98 [00:21<00:00,  4.64it/s]\n",
      "epoch 2: trn_loss = 0.1085, val_loss = 0.1084, trn_score = 0.4669, val_score = 0.4664\n",
      "lr :  [4.974257968932691e-06, 4.974257968932691e-06, 4.974257968932691e-05]\n",
      "100%|███████████████████████████████| 391/391 [01:42<00:00,  3.80it/s, loss=0.1]\n",
      "100%|███████████████████████████████████████████| 98/98 [00:21<00:00,  4.64it/s]\n",
      "epoch 3: trn_loss = 0.1003, val_loss = 0.1059, trn_score = 0.4484, val_score = 0.4609\n",
      "lr :  [2.3268220525837457e-06, 2.3268220525837457e-06, 2.3268220525837457e-05]\n",
      "100%|████████████████████████████| 391/391 [01:42<00:00,  3.80it/s, loss=0.0958]\n",
      "100%|███████████████████████████████████████████| 98/98 [00:21<00:00,  4.66it/s]\n",
      "epoch 4: trn_loss = 0.0958, val_loss = 0.1057, trn_score = 0.4381, val_score = 0.4604\n",
      "lr :  [5.996867213330993e-07, 5.996867213330993e-07, 5.996867213330992e-06]\n",
      "100%|████████████████████████████| 391/391 [01:42<00:00,  3.81it/s, loss=0.0908]\n",
      "100%|███████████████████████████████████████████| 98/98 [00:21<00:00,  4.65it/s]\n",
      "epoch 5: trn_loss = 0.0908, val_loss = 0.1059, trn_score = 0.4265, val_score = 0.4610\n",
      "\n"
     ]
    }
   ],
   "source": [
    "FOLD = 3\n",
    "INPUT_PATH = '../../input/feedback-prize-english-language-learning/'\n",
    "FOLD_PATH = '../../00_EDA/00_v1_02/result/'\n",
    "MODE = 'train'\n",
    "EPOCHS = 5\n",
    "STOP_EPOCH = 5\n",
    "RESTART = 1\n",
    "NUM_CYCLES = EPOCHS\n",
    "PRETRAIN_PATH = 'none' #f'result/{VERSION}/model_seed{SEED}_fold{FOLD}_epoch{EPOCHS}_pseudo.pth'\n",
    "\n",
    "!python ../$VERSION/train.py --model $MODEL --version $VERSION --fold_path $FOLD_PATH --fold $FOLD --seed $SEED \\\n",
    "--lr $LR --head_lr $HEAD_LR --trn_batch_size $TRN_BS --val_batch_size $VAL_BS \\\n",
    "--epochs $EPOCHS --hidden_drop_prob $HIDDEN_DROP_PROB --p_drop $P_DROP \\\n",
    "--accumulate_grad_batches $ACCUM_STEP --rnn $RNN --warmup_ratio $WARMUP_RATIO --loss $LOSS --aug $AUG --head $HEAD \\\n",
    "--mixup_alpha $MIXUP_ALPHA --p_aug $P_AUG --aug_stop_epoch $AUG_STOP_EPOCH \\\n",
    "--msd $MSD --multi_layers $MULTI_LAYERS --eval_step $EVAL_STEP --stop_epoch $STOP_EPOCH \\\n",
    "--num_labels $NUM_LABELS --num_labels_2 $NUM_LABELS_2 \\\n",
    "--restart_epoch $RESTART --fp16 $FP16 --weight_decay $WD --freeze_layers $FREEZE \\\n",
    "--mt $MULTI_TASK --w_mt $W_MT \\\n",
    "--awp $AWP --awp_lr $AWP_LR --awp_eps $AWP_EPS --awp_start_epoch $AWP_START_EPOCH \\\n",
    "--pretrained_detector_path $PRETRAINED_DETECTOR_PATH --mask_prob $MASK_PROB --mask_ratio $MASK_RATIO \\\n",
    "--scheduler $SCHEDULER --num_cycles $NUM_CYCLES --check_pointing $CP \\\n",
    "--window_size $WINDOW_SIZE --inner_len $INNER_LEN --edge_len $EDGE_LEN \\\n",
    "--gradient_clip_val $GRAD_CLIP \\\n",
    "--input_path $INPUT_PATH --mode $MODE --pretrain_path $PRETRAIN_PATH --max_length $MAX_LEN"
   ]
  },
  {
   "cell_type": "code",
   "execution_count": 6,
   "metadata": {},
   "outputs": [
    {
     "name": "stdout",
     "output_type": "stream",
     "text": [
      "torch 1.10.1\n",
      "args.mode =  train\n",
      "train_df.shape =  (3911, 8)\n",
      "load folds...\n",
      "trn_df.shape =  (3129, 8)\n",
      "val_df.shape =  (782, 8)\n",
      "2022-09-15 10:13:36.868978: W tensorflow/stream_executor/platform/default/dso_loader.cc:59] Could not load dynamic library 'libcudart.so.10.1'; dlerror: libcudart.so.10.1: cannot open shared object file: No such file or directory; LD_LIBRARY_PATH: /usr/local/cuda-10.2/lib64:\n",
      "2022-09-15 10:13:36.868999: I tensorflow/stream_executor/cuda/cudart_stub.cc:29] Ignore above cudart dlerror if you do not have a GPU set up on your machine.\n",
      "self.warmup_ratio =  0.1\n",
      "self.num_train_steps =  1955\n",
      "num_warmup_steps =  195\n",
      "lr :  [0.0, 0.0, 0.0]\n",
      "100%|█████████████████████████████| 391/391 [01:43<00:00,  3.76it/s, loss=0.443]\n",
      "100%|███████████████████████████████████████████| 98/98 [00:21<00:00,  4.54it/s]\n",
      "epoch 1: trn_loss = 0.4432, val_loss = 0.1086, trn_score = 1.1457, val_score = 0.4670\n",
      "lr :  [8.224468037456969e-06, 8.224468037456969e-06, 8.224468037456969e-05]\n",
      "100%|█████████████████████████████| 391/391 [01:44<00:00,  3.75it/s, loss=0.108]\n",
      "100%|███████████████████████████████████████████| 98/98 [00:21<00:00,  4.63it/s]\n",
      "epoch 2: trn_loss = 0.1081, val_loss = 0.1073, trn_score = 0.4657, val_score = 0.4638\n",
      "lr :  [4.974257968932691e-06, 4.974257968932691e-06, 4.974257968932691e-05]\n",
      "100%|█████████████████████████████| 391/391 [01:43<00:00,  3.79it/s, loss=0.102]\n",
      "100%|███████████████████████████████████████████| 98/98 [00:21<00:00,  4.65it/s]\n",
      "epoch 3: trn_loss = 0.1025, val_loss = 0.1077, trn_score = 0.4533, val_score = 0.4652\n",
      "lr :  [2.3268220525837457e-06, 2.3268220525837457e-06, 2.3268220525837457e-05]\n",
      "100%|████████████████████████████| 391/391 [01:42<00:00,  3.80it/s, loss=0.0992]\n",
      "100%|███████████████████████████████████████████| 98/98 [00:21<00:00,  4.66it/s]\n",
      "epoch 4: trn_loss = 0.0992, val_loss = 0.1060, trn_score = 0.4460, val_score = 0.4612\n",
      "lr :  [5.996867213330993e-07, 5.996867213330993e-07, 5.996867213330992e-06]\n",
      "100%|████████████████████████████| 391/391 [01:42<00:00,  3.80it/s, loss=0.0953]\n",
      "100%|███████████████████████████████████████████| 98/98 [00:21<00:00,  4.65it/s]\n",
      "epoch 5: trn_loss = 0.0953, val_loss = 0.1060, trn_score = 0.4370, val_score = 0.4612\n",
      "\n"
     ]
    }
   ],
   "source": [
    "FOLD = 4\n",
    "INPUT_PATH = '../../input/feedback-prize-english-language-learning/'\n",
    "FOLD_PATH = '../../00_EDA/00_v1_02/result/'\n",
    "MODE = 'train'\n",
    "EPOCHS = 5\n",
    "STOP_EPOCH = 5\n",
    "RESTART = 1\n",
    "NUM_CYCLES = EPOCHS\n",
    "PRETRAIN_PATH = 'none' #f'result/{VERSION}/model_seed{SEED}_fold{FOLD}_epoch{EPOCHS}_pseudo.pth'\n",
    "\n",
    "!python ../$VERSION/train.py --model $MODEL --version $VERSION --fold_path $FOLD_PATH --fold $FOLD --seed $SEED \\\n",
    "--lr $LR --head_lr $HEAD_LR --trn_batch_size $TRN_BS --val_batch_size $VAL_BS \\\n",
    "--epochs $EPOCHS --hidden_drop_prob $HIDDEN_DROP_PROB --p_drop $P_DROP \\\n",
    "--accumulate_grad_batches $ACCUM_STEP --rnn $RNN --warmup_ratio $WARMUP_RATIO --loss $LOSS --aug $AUG --head $HEAD \\\n",
    "--mixup_alpha $MIXUP_ALPHA --p_aug $P_AUG --aug_stop_epoch $AUG_STOP_EPOCH \\\n",
    "--msd $MSD --multi_layers $MULTI_LAYERS --eval_step $EVAL_STEP --stop_epoch $STOP_EPOCH \\\n",
    "--num_labels $NUM_LABELS --num_labels_2 $NUM_LABELS_2 \\\n",
    "--restart_epoch $RESTART --fp16 $FP16 --weight_decay $WD --freeze_layers $FREEZE \\\n",
    "--mt $MULTI_TASK --w_mt $W_MT \\\n",
    "--awp $AWP --awp_lr $AWP_LR --awp_eps $AWP_EPS --awp_start_epoch $AWP_START_EPOCH \\\n",
    "--pretrained_detector_path $PRETRAINED_DETECTOR_PATH --mask_prob $MASK_PROB --mask_ratio $MASK_RATIO \\\n",
    "--scheduler $SCHEDULER --num_cycles $NUM_CYCLES --check_pointing $CP \\\n",
    "--window_size $WINDOW_SIZE --inner_len $INNER_LEN --edge_len $EDGE_LEN \\\n",
    "--gradient_clip_val $GRAD_CLIP \\\n",
    "--input_path $INPUT_PATH --mode $MODE --pretrain_path $PRETRAIN_PATH --max_length $MAX_LEN"
   ]
  },
  {
   "cell_type": "markdown",
   "metadata": {},
   "source": [
    "# SWA"
   ]
  },
  {
   "cell_type": "code",
   "execution_count": 7,
   "metadata": {},
   "outputs": [],
   "source": [
    "!python ../$VERSION/swa.py --work_dir ./result/$VERSION/ --fold 0 --seed $SEED --epochs '5'\n",
    "!python ../$VERSION/swa.py --work_dir ./result/$VERSION/ --fold 1 --seed $SEED --epochs '4'\n",
    "!python ../$VERSION/swa.py --work_dir ./result/$VERSION/ --fold 2 --seed $SEED --epochs '5'\n",
    "!python ../$VERSION/swa.py --work_dir ./result/$VERSION/ --fold 3 --seed $SEED --epochs '4'\n",
    "!python ../$VERSION/swa.py --work_dir ./result/$VERSION/ --fold 4 --seed $SEED --epochs '5'"
   ]
  },
  {
   "cell_type": "code",
   "execution_count": 8,
   "metadata": {
    "scrolled": false
   },
   "outputs": [
    {
     "name": "stdout",
     "output_type": "stream",
     "text": [
      "torch 1.10.1\n",
      "2022-09-15 11:08:07.046709: W tensorflow/stream_executor/platform/default/dso_loader.cc:59] Could not load dynamic library 'libcudart.so.10.1'; dlerror: libcudart.so.10.1: cannot open shared object file: No such file or directory; LD_LIBRARY_PATH: /usr/local/cuda-10.2/lib64:\n",
      "2022-09-15 11:08:07.046730: I tensorflow/stream_executor/cuda/cudart_stub.cc:29] Ignore above cudart dlerror if you do not have a GPU set up on your machine.\n",
      "train_df.shape =  (3911, 8)\n",
      "load folds...\n",
      "trn_df.shape =  (3128, 8)\n",
      "val_df.shape =  (783, 8)\n",
      "100%|███████████████████████████████████████████| 98/98 [00:15<00:00,  6.31it/s]\n",
      "val_loss=0.1023, val_score=0.4527\n",
      "essay_ids.shape =  (783,)\n",
      "preds.shape =  (783, 6)\n",
      "labels.shape =  (783, 6)\n",
      "losses.shape =  (783, 6)\n"
     ]
    }
   ],
   "source": [
    "FOLD = 0\n",
    "INPUT_PATH = '../../input/feedback-prize-english-language-learning/'\n",
    "FOLD_PATH = '../../00_EDA/00_v1_02/result/'\n",
    "WEIGHT_PATH = f'./result/{VERSION}/model_seed{SEED}_fold{FOLD}_swa.pth'\n",
    "\n",
    "!python ../$VERSION/validation.py --model $MODEL --version $VERSION \\\n",
    "--fold_path $FOLD_PATH --fold $FOLD --seed $SEED --val_batch_size $VAL_BS \\\n",
    "--rnn $RNN --loss $LOSS --mt $MULTI_TASK --num_labels $NUM_LABELS --loss $LOSS --weight_path $WEIGHT_PATH \\\n",
    "--window_size $WINDOW_SIZE --inner_len $INNER_LEN --edge_len $EDGE_LEN --max_length $MAX_LEN"
   ]
  },
  {
   "cell_type": "code",
   "execution_count": 9,
   "metadata": {},
   "outputs": [
    {
     "name": "stdout",
     "output_type": "stream",
     "text": [
      "torch 1.10.1\n",
      "2022-09-15 11:08:38.973441: W tensorflow/stream_executor/platform/default/dso_loader.cc:59] Could not load dynamic library 'libcudart.so.10.1'; dlerror: libcudart.so.10.1: cannot open shared object file: No such file or directory; LD_LIBRARY_PATH: /usr/local/cuda-10.2/lib64:\n",
      "2022-09-15 11:08:38.973465: I tensorflow/stream_executor/cuda/cudart_stub.cc:29] Ignore above cudart dlerror if you do not have a GPU set up on your machine.\n",
      "train_df.shape =  (3911, 8)\n",
      "load folds...\n",
      "trn_df.shape =  (3129, 8)\n",
      "val_df.shape =  (782, 8)\n",
      "100%|███████████████████████████████████████████| 98/98 [00:15<00:00,  6.34it/s]\n",
      "val_loss=0.1013, val_score=0.4507\n",
      "essay_ids.shape =  (782,)\n",
      "preds.shape =  (782, 6)\n",
      "labels.shape =  (782, 6)\n",
      "losses.shape =  (782, 6)\n"
     ]
    }
   ],
   "source": [
    "FOLD = 1\n",
    "INPUT_PATH = '../../input/feedback-prize-english-language-learning/'\n",
    "FOLD_PATH = '../../00_EDA/00_v1_02/result/'\n",
    "WEIGHT_PATH = f'./result/{VERSION}/model_seed{SEED}_fold{FOLD}_swa.pth'\n",
    "\n",
    "!python ../$VERSION/validation.py --model $MODEL --version $VERSION \\\n",
    "--fold_path $FOLD_PATH --fold $FOLD --seed $SEED --val_batch_size $VAL_BS \\\n",
    "--rnn $RNN --loss $LOSS --mt $MULTI_TASK --num_labels $NUM_LABELS --loss $LOSS --weight_path $WEIGHT_PATH \\\n",
    "--window_size $WINDOW_SIZE --inner_len $INNER_LEN --edge_len $EDGE_LEN --max_length $MAX_LEN"
   ]
  },
  {
   "cell_type": "code",
   "execution_count": 10,
   "metadata": {},
   "outputs": [
    {
     "name": "stdout",
     "output_type": "stream",
     "text": [
      "torch 1.10.1\n",
      "2022-09-15 11:09:10.587902: W tensorflow/stream_executor/platform/default/dso_loader.cc:59] Could not load dynamic library 'libcudart.so.10.1'; dlerror: libcudart.so.10.1: cannot open shared object file: No such file or directory; LD_LIBRARY_PATH: /usr/local/cuda-10.2/lib64:\n",
      "2022-09-15 11:09:10.587925: I tensorflow/stream_executor/cuda/cudart_stub.cc:29] Ignore above cudart dlerror if you do not have a GPU set up on your machine.\n",
      "train_df.shape =  (3911, 8)\n",
      "load folds...\n",
      "trn_df.shape =  (3129, 8)\n",
      "val_df.shape =  (782, 8)\n",
      "100%|███████████████████████████████████████████| 98/98 [00:15<00:00,  6.30it/s]\n",
      "val_loss=0.0992, val_score=0.4461\n",
      "essay_ids.shape =  (782,)\n",
      "preds.shape =  (782, 6)\n",
      "labels.shape =  (782, 6)\n",
      "losses.shape =  (782, 6)\n"
     ]
    }
   ],
   "source": [
    "FOLD = 2\n",
    "INPUT_PATH = '../../input/feedback-prize-english-language-learning/'\n",
    "FOLD_PATH = '../../00_EDA/00_v1_02/result/'\n",
    "WEIGHT_PATH = f'./result/{VERSION}/model_seed{SEED}_fold{FOLD}_swa.pth'\n",
    "\n",
    "!python ../$VERSION/validation.py --model $MODEL --version $VERSION \\\n",
    "--fold_path $FOLD_PATH --fold $FOLD --seed $SEED --val_batch_size $VAL_BS \\\n",
    "--rnn $RNN --loss $LOSS --mt $MULTI_TASK --num_labels $NUM_LABELS --loss $LOSS --weight_path $WEIGHT_PATH \\\n",
    "--window_size $WINDOW_SIZE --inner_len $INNER_LEN --edge_len $EDGE_LEN --max_length $MAX_LEN"
   ]
  },
  {
   "cell_type": "code",
   "execution_count": 11,
   "metadata": {},
   "outputs": [
    {
     "name": "stdout",
     "output_type": "stream",
     "text": [
      "torch 1.10.1\n",
      "2022-09-15 11:09:42.395583: W tensorflow/stream_executor/platform/default/dso_loader.cc:59] Could not load dynamic library 'libcudart.so.10.1'; dlerror: libcudart.so.10.1: cannot open shared object file: No such file or directory; LD_LIBRARY_PATH: /usr/local/cuda-10.2/lib64:\n",
      "2022-09-15 11:09:42.395607: I tensorflow/stream_executor/cuda/cudart_stub.cc:29] Ignore above cudart dlerror if you do not have a GPU set up on your machine.\n",
      "train_df.shape =  (3911, 8)\n",
      "load folds...\n",
      "trn_df.shape =  (3129, 8)\n",
      "val_df.shape =  (782, 8)\n",
      "100%|███████████████████████████████████████████| 98/98 [00:15<00:00,  6.13it/s]\n",
      "val_loss=0.1057, val_score=0.4604\n",
      "essay_ids.shape =  (782,)\n",
      "preds.shape =  (782, 6)\n",
      "labels.shape =  (782, 6)\n",
      "losses.shape =  (782, 6)\n"
     ]
    }
   ],
   "source": [
    "FOLD = 3\n",
    "INPUT_PATH = '../../input/feedback-prize-english-language-learning/'\n",
    "FOLD_PATH = '../../00_EDA/00_v1_02/result/'\n",
    "WEIGHT_PATH = f'./result/{VERSION}/model_seed{SEED}_fold{FOLD}_swa.pth'\n",
    "\n",
    "!python ../$VERSION/validation.py --model $MODEL --version $VERSION \\\n",
    "--fold_path $FOLD_PATH --fold $FOLD --seed $SEED --val_batch_size $VAL_BS \\\n",
    "--rnn $RNN --loss $LOSS --mt $MULTI_TASK --num_labels $NUM_LABELS --loss $LOSS --weight_path $WEIGHT_PATH \\\n",
    "--window_size $WINDOW_SIZE --inner_len $INNER_LEN --edge_len $EDGE_LEN --max_length $MAX_LEN"
   ]
  },
  {
   "cell_type": "code",
   "execution_count": 12,
   "metadata": {},
   "outputs": [
    {
     "name": "stdout",
     "output_type": "stream",
     "text": [
      "torch 1.10.1\n",
      "2022-09-15 11:10:14.744220: W tensorflow/stream_executor/platform/default/dso_loader.cc:59] Could not load dynamic library 'libcudart.so.10.1'; dlerror: libcudart.so.10.1: cannot open shared object file: No such file or directory; LD_LIBRARY_PATH: /usr/local/cuda-10.2/lib64:\n",
      "2022-09-15 11:10:14.744242: I tensorflow/stream_executor/cuda/cudart_stub.cc:29] Ignore above cudart dlerror if you do not have a GPU set up on your machine.\n",
      "train_df.shape =  (3911, 8)\n",
      "load folds...\n",
      "trn_df.shape =  (3129, 8)\n",
      "val_df.shape =  (782, 8)\n",
      "100%|███████████████████████████████████████████| 98/98 [00:15<00:00,  6.29it/s]\n",
      "val_loss=0.1060, val_score=0.4612\n",
      "essay_ids.shape =  (782,)\n",
      "preds.shape =  (782, 6)\n",
      "labels.shape =  (782, 6)\n",
      "losses.shape =  (782, 6)\n"
     ]
    }
   ],
   "source": [
    "FOLD = 4\n",
    "INPUT_PATH = '../../input/feedback-prize-english-language-learning/'\n",
    "FOLD_PATH = '../../00_EDA/00_v1_02/result/'\n",
    "WEIGHT_PATH = f'./result/{VERSION}/model_seed{SEED}_fold{FOLD}_swa.pth'\n",
    "\n",
    "!python ../$VERSION/validation.py --model $MODEL --version $VERSION \\\n",
    "--fold_path $FOLD_PATH --fold $FOLD --seed $SEED --val_batch_size $VAL_BS \\\n",
    "--rnn $RNN --loss $LOSS --mt $MULTI_TASK --num_labels $NUM_LABELS --loss $LOSS --weight_path $WEIGHT_PATH \\\n",
    "--window_size $WINDOW_SIZE --inner_len $INNER_LEN --edge_len $EDGE_LEN --max_length $MAX_LEN"
   ]
  },
  {
   "cell_type": "code",
   "execution_count": 13,
   "metadata": {},
   "outputs": [],
   "source": [
    "import pandas as pd\n",
    "\n",
    "preds = []\n",
    "for fold in range(5):\n",
    "    tmp_df = pd.read_csv(f'./result/{VERSION}/pred_fold{fold}.csv')\n",
    "    preds.append(tmp_df)\n",
    "    \n",
    "pred_df = pd.concat(preds, axis=0).reset_index(drop=True)\n",
    "train_df = pd.read_csv('../../input/feedback-prize-english-language-learning/train.csv')\n",
    "\n",
    "oof_df = train_df[['text_id']].merge(pred_df, on='text_id', how='left')\n",
    "oof_df.to_csv(f'./result/{VERSION}/oof_df.csv', index=False)"
   ]
  },
  {
   "cell_type": "code",
   "execution_count": 14,
   "metadata": {},
   "outputs": [
    {
     "data": {
      "text/plain": [
       "((3911, 13),\n",
       " text_id             0\n",
       " cohesion            0\n",
       " syntax              0\n",
       " vocabulary          0\n",
       " phraseology         0\n",
       " grammar             0\n",
       " conventions         0\n",
       " loss_cohesion       0\n",
       " loss_syntax         0\n",
       " loss_vocabulary     0\n",
       " loss_phraseology    0\n",
       " loss_grammar        0\n",
       " loss_conventions    0\n",
       " dtype: int64)"
      ]
     },
     "execution_count": 14,
     "metadata": {},
     "output_type": "execute_result"
    }
   ],
   "source": [
    "oof_df.shape, oof_df.isnull().sum()"
   ]
  },
  {
   "cell_type": "code",
   "execution_count": null,
   "metadata": {},
   "outputs": [],
   "source": []
  }
 ],
 "metadata": {
  "kernelspec": {
   "display_name": "Python 3",
   "language": "python",
   "name": "python3"
  },
  "language_info": {
   "codemirror_mode": {
    "name": "ipython",
    "version": 3
   },
   "file_extension": ".py",
   "mimetype": "text/x-python",
   "name": "python",
   "nbconvert_exporter": "python",
   "pygments_lexer": "ipython3",
   "version": "3.7.8"
  }
 },
 "nbformat": 4,
 "nbformat_minor": 4
}
