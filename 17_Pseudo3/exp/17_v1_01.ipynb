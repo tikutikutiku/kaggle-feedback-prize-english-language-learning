{
 "cells": [
  {
   "cell_type": "code",
   "execution_count": 1,
   "metadata": {},
   "outputs": [],
   "source": [
    "VERSION = '17_v1_01'\n",
    "MODEL = 'microsoft/deberta-v3-base'\n",
    "#'bert-large-cased'\n",
    "#'bert-large-cased-whole-word-masking'\n",
    "#'albert-large-v2'\n",
    "#'facebook/bart-large'\n",
    "#'xlm-roberta-large'\n",
    "#'deepset/roberta-large-squad2'\n",
    "#'google/electra-large-discriminator'\n",
    "#'sentence-transformeres/paraphrase-mpnet-base-v2'\n",
    "#'funnel-transformer/large-base'\n",
    "#'facebook/bart-base'\n",
    "#'distilroberta-base'\n",
    "#'deepset/roberta-base-squad2'\n",
    "#'microsoft/deberta-v3-base'\n",
    "#'roberta-large'\n",
    "#'roberta-base'\n",
    "#'microsoft/deberta-v3-large'\n",
    "#'microsoft/deberta-base'\n",
    "LR = 2e-5 #8e-6\n",
    "HEAD_LR = 2e-4 #2e-5 #8e-6 \n",
    "SEED = 100\n",
    "TRN_BS = 8\n",
    "VAL_BS = 8\n",
    "ACCUM_STEP = 1\n",
    "HIDDEN_DROP_PROB = 0\n",
    "P_DROP = 0\n",
    "RNN = 'none'\n",
    "WARMUP_RATIO = 0.1\n",
    "HEAD = 'simple'\n",
    "AUG = 'false'\n",
    "MIXUP_ALPHA = 0\n",
    "P_AUG = 0\n",
    "AUG_STOP_EPOCH = 0\n",
    "MSD = 'false'\n",
    "POOLING = 'mean' #'weighted_layer'\n",
    "NUM_POOLING_LAYERS = 4 #1\n",
    "MULTI_LAYERS = 1\n",
    "EVAL_STEP_START_EPOCH = -1\n",
    "EVAL_STEP = -1\n",
    "NUM_LABELS = 1 #6\n",
    "NUM_LABELS_2 = -1\n",
    "FP16 = 'true'\n",
    "WD = 0.01\n",
    "FREEZE = 'false'\n",
    "MULTI_TASK = 'false' \n",
    "W_MT = 0 \n",
    "AWP = 'false'\n",
    "AWP_LR = 0\n",
    "AWP_EPS = 0\n",
    "AWP_START_EPOCH = -1\n",
    "#PRETRAINED_DETECTOR_PATH = f'../../input/tascj/result/deberta_base_fold0.pth'\n",
    "PRETRAINED_DETECTOR_PATH = 'none' #f'../../05_Detection/exp/result/05_v2_09/model_seed100_fold0_swa.pth'\n",
    "MASK_PROB = 0 #0.8\n",
    "MASK_RATIO = 0 #0.3\n",
    "SCHEDULER = 'cosine_hard'\n",
    "CP = 'true' #'false'\n",
    "WINDOW_SIZE = -1 #512\n",
    "INNER_LEN = -1 #384\n",
    "EDGE_LEN = -1 #64\n",
    "MAX_LEN = 512\n",
    "\n",
    "GRAD_CLIP = 1\n",
    "\n",
    "LOSS = 'smoothl1'#'mse'\n",
    "\n",
    "CROP_PROB = 0 #1.0\n",
    "\n",
    "CLASS = 'cohesion'"
   ]
  },
  {
   "cell_type": "markdown",
   "metadata": {},
   "source": [
    "# Train with Pseudo-Label"
   ]
  },
  {
   "cell_type": "code",
   "execution_count": null,
   "metadata": {
    "scrolled": false
   },
   "outputs": [
    {
     "name": "stdout",
     "output_type": "stream",
     "text": [
      "**************************************************\n",
      "cohesion\n",
      "**************************************************\n",
      "--------------------------------------------------\n",
      "FOLD =  0\n",
      "--------------------------------------------------\n",
      "torch 1.10.1\n",
      "args.mode =  pseudo\n",
      "train_df.shape =  (15142, 8)\n",
      "load folds...\n",
      "trn_df.shape =  (12113, 8)\n",
      "val_df.shape =  (3029, 8)\n",
      "2022-10-30 16:38:08.244791: W tensorflow/stream_executor/platform/default/dso_loader.cc:59] Could not load dynamic library 'libcudart.so.10.1'; dlerror: libcudart.so.10.1: cannot open shared object file: No such file or directory; LD_LIBRARY_PATH: /usr/local/cuda-10.2/lib64:\n",
      "2022-10-30 16:38:08.244814: I tensorflow/stream_executor/cuda/cudart_stub.cc:29] Ignore above cudart dlerror if you do not have a GPU set up on your machine.\n",
      "self.warmup_ratio =  0.1\n",
      "self.num_train_steps =  12113\n",
      "num_warmup_steps =  1211\n",
      "lr :  [0.0, 0.0, 0.0]\n",
      "100%|███████████████████████████| 1514/1514 [09:07<00:00,  2.77it/s, loss=0.205]\n",
      "100%|█████████████████████████████████████████| 379/379 [01:26<00:00,  4.39it/s]\n",
      "epoch 1: trn_loss = 0.2053, val_loss = 0.0033, trn_score = 0.9011, val_score = 0.0807\n",
      "model_cohesion (best score) saved\n",
      "lr :  [1.9961905110466195e-05, 1.9961905110466195e-05, 0.00019961905110466193]\n",
      "100%|█████████████████████████| 1514/1514 [09:11<00:00,  2.75it/s, loss=0.00371]\n",
      "100%|█████████████████████████████████████████| 379/379 [01:27<00:00,  4.35it/s]\n",
      "epoch 2: trn_loss = 0.0037, val_loss = 0.0041, trn_score = 0.0861, val_score = 0.0909\n",
      "lr :  [1.866025403784439e-05, 1.866025403784439e-05, 0.00018660254037844388]\n",
      " 62%|████████████████▏         | 945/1514 [05:46<03:26,  2.75it/s, loss=0.00245]"
     ]
    }
   ],
   "source": [
    "MODE = 'pseudo'\n",
    "EPOCHS = 8\n",
    "STOP_EPOCH = 3\n",
    "RESTART = 1\n",
    "NUM_CYCLES = 1\n",
    "\n",
    "for CLASS in [\n",
    "    'cohesion',\n",
    "    #'syntax','vocabulary','phraseology','grammar','conventions'\n",
    "]:\n",
    "    print(\"*\"*50)\n",
    "    print(CLASS)\n",
    "    print(\"*\"*50)\n",
    "    for FOLD in [0]: #[0,1,2,3,4]:\n",
    "        print(\"-\"*50)\n",
    "        print(\"FOLD = \", FOLD)\n",
    "        print(\"-\"*50)\n",
    "        #INPUT_PATH = '../../input/feedback-prize-english-language-learning/'\n",
    "        #FOLD_PATH = '../../00_EDA/00_v1_02/result/'\n",
    "        INPUT_PATH = f'../../99_Ensemble/99_v1_03/result/99_v1_03_03_pseudo_fold{FOLD}.csv'\n",
    "        FOLD_PATH = '../../00_EDA/00_v1_08/result/' # for pseudo-label\n",
    "        PRETRAIN_PATH = 'none'\n",
    "\n",
    "        !python ../$VERSION/train.py --model $MODEL --version $VERSION --fold_path $FOLD_PATH --fold $FOLD --seed $SEED \\\n",
    "        --lr $LR --head_lr $HEAD_LR --trn_batch_size $TRN_BS --val_batch_size $VAL_BS \\\n",
    "        --epochs $EPOCHS --hidden_drop_prob $HIDDEN_DROP_PROB --p_drop $P_DROP \\\n",
    "        --accumulate_grad_batches $ACCUM_STEP --rnn $RNN --warmup_ratio $WARMUP_RATIO --loss $LOSS --aug $AUG --head $HEAD \\\n",
    "        --mixup_alpha $MIXUP_ALPHA --p_aug $P_AUG --aug_stop_epoch $AUG_STOP_EPOCH \\\n",
    "        --msd $MSD --multi_layers $MULTI_LAYERS \\\n",
    "        --eval_step_start_epoch $EVAL_STEP_START_EPOCH --eval_step $EVAL_STEP --stop_epoch $STOP_EPOCH \\\n",
    "        --num_labels $NUM_LABELS --num_labels_2 $NUM_LABELS_2 \\\n",
    "        --restart_epoch $RESTART --fp16 $FP16 --weight_decay $WD --freeze_layers $FREEZE \\\n",
    "        --mt $MULTI_TASK --w_mt $W_MT \\\n",
    "        --awp $AWP --awp_lr $AWP_LR --awp_eps $AWP_EPS --awp_start_epoch $AWP_START_EPOCH \\\n",
    "        --pretrained_detector_path $PRETRAINED_DETECTOR_PATH --mask_prob $MASK_PROB --mask_ratio $MASK_RATIO \\\n",
    "        --scheduler $SCHEDULER --num_cycles $NUM_CYCLES --check_pointing $CP \\\n",
    "        --window_size $WINDOW_SIZE --inner_len $INNER_LEN --edge_len $EDGE_LEN \\\n",
    "        --gradient_clip_val $GRAD_CLIP \\\n",
    "        --input_path $INPUT_PATH --mode $MODE --pretrain_path $PRETRAIN_PATH --max_length $MAX_LEN \\\n",
    "        --crop_prob $CROP_PROB --pooling $POOLING --num_pooling_layers $NUM_POOLING_LAYERS --class_name $CLASS"
   ]
  },
  {
   "cell_type": "markdown",
   "metadata": {},
   "source": [
    "# Finetune"
   ]
  },
  {
   "cell_type": "code",
   "execution_count": null,
   "metadata": {
    "scrolled": true
   },
   "outputs": [],
   "source": [
    "MODE = 'train'\n",
    "EPOCHS = 8\n",
    "STOP_EPOCH = 8\n",
    "RESTART = 4\n",
    "NUM_CYCLES = 1\n",
    "\n",
    "for CLASS in [\n",
    "    'cohesion',\n",
    "    #'syntax','vocabulary','phraseology','grammar','conventions'\n",
    "]:\n",
    "    print(\"*\"*50)\n",
    "    print(CLASS)\n",
    "    print(\"*\"*50)\n",
    "    for FOLD in [0]: #[0,1,2,3,4]:\n",
    "        print(\"-\"*50)\n",
    "        print(\"FOLD = \", FOLD)\n",
    "        print(\"-\"*50)\n",
    "        INPUT_PATH = '../../input/feedback-prize-english-language-learning/'\n",
    "        FOLD_PATH = '../../00_EDA/00_v1_02/result/'\n",
    "        #INPUT_PATH = f'../../99_Ensemble/99_v1_03/result/99_v1_03_03_pseudo_fold{FOLD}.csv'\n",
    "        #FOLD_PATH = '../../00_EDA/00_v1_08/result/' # for pseudo-label\n",
    "        PRETRAIN_PATH = f'result/{VERSION}/model_{CLASS}_seed{SEED}_fold{FOLD}_pseudo.pth'\n",
    "\n",
    "        !python ../$VERSION/train.py --model $MODEL --version $VERSION --fold_path $FOLD_PATH --fold $FOLD --seed $SEED \\\n",
    "        --lr $LR --head_lr $HEAD_LR --trn_batch_size $TRN_BS --val_batch_size $VAL_BS \\\n",
    "        --epochs $EPOCHS --hidden_drop_prob $HIDDEN_DROP_PROB --p_drop $P_DROP \\\n",
    "        --accumulate_grad_batches $ACCUM_STEP --rnn $RNN --warmup_ratio $WARMUP_RATIO --loss $LOSS --aug $AUG --head $HEAD \\\n",
    "        --mixup_alpha $MIXUP_ALPHA --p_aug $P_AUG --aug_stop_epoch $AUG_STOP_EPOCH \\\n",
    "        --msd $MSD --multi_layers $MULTI_LAYERS \\\n",
    "        --eval_step_start_epoch $EVAL_STEP_START_EPOCH --eval_step $EVAL_STEP --stop_epoch $STOP_EPOCH \\\n",
    "        --num_labels $NUM_LABELS --num_labels_2 $NUM_LABELS_2 \\\n",
    "        --restart_epoch $RESTART --fp16 $FP16 --weight_decay $WD --freeze_layers $FREEZE \\\n",
    "        --mt $MULTI_TASK --w_mt $W_MT \\\n",
    "        --awp $AWP --awp_lr $AWP_LR --awp_eps $AWP_EPS --awp_start_epoch $AWP_START_EPOCH \\\n",
    "        --pretrained_detector_path $PRETRAINED_DETECTOR_PATH --mask_prob $MASK_PROB --mask_ratio $MASK_RATIO \\\n",
    "        --scheduler $SCHEDULER --num_cycles $NUM_CYCLES --check_pointing $CP \\\n",
    "        --window_size $WINDOW_SIZE --inner_len $INNER_LEN --edge_len $EDGE_LEN \\\n",
    "        --gradient_clip_val $GRAD_CLIP \\\n",
    "        --input_path $INPUT_PATH --mode $MODE --pretrain_path $PRETRAIN_PATH --max_length $MAX_LEN \\\n",
    "        --crop_prob $CROP_PROB --pooling $POOLING --num_pooling_layers $NUM_POOLING_LAYERS --class_name $CLASS"
   ]
  },
  {
   "cell_type": "markdown",
   "metadata": {},
   "source": [
    "# OOF"
   ]
  },
  {
   "cell_type": "code",
   "execution_count": null,
   "metadata": {
    "scrolled": true
   },
   "outputs": [],
   "source": [
    "INPUT_PATH = '../../input/feedback-prize-english-language-learning/'\n",
    "FOLD_PATH = '../../00_EDA/00_v1_02/result/'"
   ]
  },
  {
   "cell_type": "code",
   "execution_count": null,
   "metadata": {},
   "outputs": [],
   "source": [
    "for CLASS in [\n",
    "    'cohesion',\n",
    "    'syntax','vocabulary','phraseology','grammar','conventions'\n",
    "]:\n",
    "    print(\"*\"*50)\n",
    "    print(CLASS)\n",
    "    print(\"*\"*50)\n",
    "    for FOLD in [0,1,2,3,4]:\n",
    "        print(\"-\"*50)\n",
    "        print(\"FOLD = \", FOLD)\n",
    "        print(\"-\"*50)\n",
    "        WEIGHT_PATH = f'./result/{VERSION}/model_{CLASS}_seed{SEED}_fold{FOLD}.pth'\n",
    "        !python ../$VERSION/validation.py --model $MODEL --version $VERSION \\\n",
    "        --fold_path $FOLD_PATH --fold $FOLD --seed $SEED --val_batch_size $VAL_BS \\\n",
    "        --rnn $RNN --loss $LOSS --mt $MULTI_TASK --num_labels $NUM_LABELS --loss $LOSS --weight_path $WEIGHT_PATH \\\n",
    "        --window_size $WINDOW_SIZE --inner_len $INNER_LEN --edge_len $EDGE_LEN --max_length $MAX_LEN \\\n",
    "        --pooling $POOLING --num_pooling_layers $NUM_POOLING_LAYERS --class_name $CLASS"
   ]
  },
  {
   "cell_type": "code",
   "execution_count": null,
   "metadata": {},
   "outputs": [],
   "source": [
    "import pandas as pd\n",
    "import numpy as np\n",
    "\n",
    "preds = []\n",
    "for CLASS in [\n",
    "    'cohesion',\n",
    "    'syntax','vocabulary','phraseology','grammar','conventions'\n",
    "]:\n",
    "    print(\"*\"*50)\n",
    "    print(CLASS)\n",
    "    print(\"*\"*50)\n",
    "    preds_class = []\n",
    "    for fold in [0,1,2,3,4]:\n",
    "        print(\"-\"*50)\n",
    "        print(\"FOLD = \", fold)\n",
    "        print(\"-\"*50)\n",
    "        tmp_df = pd.read_csv(f'./result/{VERSION}/pred_{CLASS}_fold{fold}.csv')\n",
    "        embeds = np.load(f'./result/{VERSION}/embeds_{CLASS}_fold{fold}.npz')['arr_0']\n",
    "        tmp_df[f'embed_{CLASS}'] = embeds.tolist()\n",
    "        preds_class.append(tmp_df)\n",
    "    pred_df = pd.concat(preds_class, axis=0).reset_index(drop=True)\n",
    "    if len(preds)==0:\n",
    "        preds.append(pred_df)\n",
    "    else:\n",
    "        del pred_df[\"text_id\"]\n",
    "        preds.append(pred_df)\n",
    "    \n",
    "all_pred_df = pd.concat(preds, axis=1)\n",
    "\n",
    "train_df = pd.read_csv('../../input/feedback-prize-english-language-learning/train.csv')\n",
    "oof_df = train_df[['text_id']].merge(all_pred_df, on='text_id', how='left')\n",
    "oof_df.to_csv(f'./result/{VERSION}/oof_df.csv', index=False)"
   ]
  },
  {
   "cell_type": "code",
   "execution_count": null,
   "metadata": {},
   "outputs": [],
   "source": [
    "oof_df.shape, oof_df.isnull().sum()"
   ]
  },
  {
   "cell_type": "code",
   "execution_count": null,
   "metadata": {},
   "outputs": [],
   "source": [
    "cols = ['cohesion','syntax','vocabulary','phraseology','grammar','conventions']\n",
    "oof_df[cols].describe()"
   ]
  },
  {
   "cell_type": "code",
   "execution_count": null,
   "metadata": {},
   "outputs": [],
   "source": [
    "cols = ['cohesion','syntax','vocabulary','phraseology','grammar','conventions']\n",
    "train_df[cols].describe()"
   ]
  },
  {
   "cell_type": "code",
   "execution_count": null,
   "metadata": {},
   "outputs": [],
   "source": []
  },
  {
   "cell_type": "markdown",
   "metadata": {},
   "source": [
    "# Error Analysis - Check Corr"
   ]
  },
  {
   "cell_type": "code",
   "execution_count": null,
   "metadata": {},
   "outputs": [],
   "source": [
    "cols = ['cohesion','syntax','vocabulary','phraseology','grammar','conventions']\n",
    "train_df[cols].corr()"
   ]
  },
  {
   "cell_type": "code",
   "execution_count": null,
   "metadata": {},
   "outputs": [],
   "source": [
    "cols = ['cohesion','syntax','vocabulary','phraseology','grammar','conventions']\n",
    "oof_df[cols].corr()"
   ]
  },
  {
   "cell_type": "code",
   "execution_count": null,
   "metadata": {},
   "outputs": [],
   "source": []
  },
  {
   "cell_type": "code",
   "execution_count": null,
   "metadata": {},
   "outputs": [],
   "source": []
  },
  {
   "cell_type": "code",
   "execution_count": null,
   "metadata": {},
   "outputs": [],
   "source": []
  }
 ],
 "metadata": {
  "kernelspec": {
   "display_name": "Python 3",
   "language": "python",
   "name": "python3"
  },
  "language_info": {
   "codemirror_mode": {
    "name": "ipython",
    "version": 3
   },
   "file_extension": ".py",
   "mimetype": "text/x-python",
   "name": "python",
   "nbconvert_exporter": "python",
   "pygments_lexer": "ipython3",
   "version": "3.7.8"
  }
 },
 "nbformat": 4,
 "nbformat_minor": 4
}
