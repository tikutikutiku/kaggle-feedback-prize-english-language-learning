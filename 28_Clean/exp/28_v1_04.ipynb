{
 "cells": [
  {
   "cell_type": "code",
   "execution_count": 1,
   "metadata": {},
   "outputs": [],
   "source": [
    "VERSION = '28_v1_04'\n",
    "MODEL = 'microsoft/deberta-v3-base'\n",
    "#TEACHER_VERSION = '14_v1_15' # deverta-v2-xlarge\n",
    "#'bert-large-cased'\n",
    "#'bert-large-cased-whole-word-masking'\n",
    "#'albert-large-v2'\n",
    "#'facebook/bart-large'\n",
    "#'xlm-roberta-large'\n",
    "#'deepset/roberta-large-squad2'\n",
    "#'google/electra-large-discriminator'\n",
    "#'sentence-transformeres/paraphrase-mpnet-base-v2'\n",
    "#'funnel-transformer/large-base'\n",
    "#'facebook/bart-base'\n",
    "#'distilroberta-base'\n",
    "#'deepset/roberta-base-squad2'\n",
    "#'microsoft/deberta-v3-base'\n",
    "#'roberta-large'\n",
    "#'roberta-base'\n",
    "#'microsoft/deberta-v3-large'\n",
    "#'microsoft/deberta-base'\n",
    "LR = 2e-5 #8e-6\n",
    "HEAD_LR = 2e-4 #2e-5 #8e-6 \n",
    "SEED = 100\n",
    "TRN_BS = 8\n",
    "VAL_BS = 8\n",
    "ACCUM_STEP = 1\n",
    "HIDDEN_DROP_PROB = 0\n",
    "P_DROP = 0\n",
    "RNN = 'none'\n",
    "WARMUP_RATIO = 0.1\n",
    "HEAD = 'simple'\n",
    "AUG = 'false'\n",
    "MIXUP_ALPHA = 0\n",
    "P_AUG = 0\n",
    "AUG_STOP_EPOCH = 0\n",
    "MSD = 'false'\n",
    "POOLING = 'mean' #'transformer+mean' #'attention' #'weighted_layer'\n",
    "NUM_POOLING_LAYERS = 4 #1\n",
    "MULTI_LAYERS = 1\n",
    "EVAL_STEP_START_EPOCH = -1\n",
    "EVAL_STEP = -1\n",
    "NUM_LABELS = 1 #6\n",
    "NUM_LABELS_2 = -1\n",
    "FP16 = 'true'\n",
    "WD = 0.01\n",
    "FREEZE = 'false'\n",
    "MULTI_TASK = 'false' \n",
    "W_MT = 0 \n",
    "AWP = 'false'\n",
    "AWP_LR = 0\n",
    "AWP_EPS = 0\n",
    "AWP_START_EPOCH = -1\n",
    "#PRETRAINED_DETECTOR_PATH = f'../../input/tascj/result/deberta_base_fold0.pth'\n",
    "PRETRAINED_DETECTOR_PATH = 'none' #f'../../05_Detection/exp/result/05_v2_09/model_seed100_fold0_swa.pth'\n",
    "MASK_PROB = 0 #0.8\n",
    "MASK_RATIO = 0 #0.3\n",
    "SCHEDULER = 'cosine_hard'\n",
    "CP = 'true' #'false'\n",
    "WINDOW_SIZE = -1\n",
    "INNER_LEN = -1\n",
    "EDGE_LEN = -1\n",
    "MAX_LEN = 512\n",
    "\n",
    "GRAD_CLIP = 1\n",
    "\n",
    "LOSS = 'smoothl1'#'mse'\n",
    "\n",
    "CROP_PROB = 0 #1.0\n",
    "\n",
    "USE_STATS = 'false' #'true'\n",
    "USE_SEPARATE_HEAD = 'false'\n",
    "\n",
    "LOW_LOSS_THR = -1 #1 #0.5\n",
    "HIGH_LOSS_THR = 0.0001\n",
    "OOF_DF_PATH = '../../14_Baseline4/exp/result/14_v1_01/oof_df.csv'"
   ]
  },
  {
   "cell_type": "markdown",
   "metadata": {},
   "source": [
    "# Train"
   ]
  },
  {
   "cell_type": "code",
   "execution_count": 2,
   "metadata": {
    "scrolled": false
   },
   "outputs": [
    {
     "name": "stdout",
     "output_type": "stream",
     "text": [
      "**************************************************\n",
      "cohesion\n",
      "**************************************************\n",
      "--------------------------------------------------\n",
      "FOLD =  0\n",
      "--------------------------------------------------\n",
      "torch 1.10.1\n",
      "args.mode =  train\n",
      "train_df.shape =  (3911, 13)\n",
      "load folds...\n",
      "trn_df.shape =  (3128, 13)\n",
      "val_df.shape =  (783, 13)\n",
      "trn_df.shape =  (3030, 13)\n",
      "2022-11-13 18:53:45.020173: W tensorflow/stream_executor/platform/default/dso_loader.cc:59] Could not load dynamic library 'libcudart.so.10.1'; dlerror: libcudart.so.10.1: cannot open shared object file: No such file or directory; LD_LIBRARY_PATH: /usr/local/cuda-10.2/lib64:\n",
      "2022-11-13 18:53:45.020199: I tensorflow/stream_executor/cuda/cudart_stub.cc:29] Ignore above cudart dlerror if you do not have a GPU set up on your machine.\n",
      "target_cols =  ['cohesion']\n",
      "self.warmup_ratio =  0.1\n",
      "self.num_train_steps =  1893\n",
      "num_warmup_steps =  189\n",
      "lr :  [0.0, 0.0, 0.0]\n",
      "100%|█████████████████████████████| 378/378 [02:19<00:00,  2.71it/s, loss=0.383]\n",
      "100%|███████████████████████████████████████████| 98/98 [00:22<00:00,  4.33it/s]\n",
      "epoch 1: trn_loss = 0.3827, val_loss = 0.1238, trn_score = 1.0994, val_score = 0.5008\n",
      "model_cohesion (best score) saved\n",
      "lr :  [8.29378717948994e-06, 8.29378717948994e-06, 8.29378717948994e-05]\n",
      "100%|█████████████████████████████| 378/378 [02:22<00:00,  2.65it/s, loss=0.125]\n",
      "100%|███████████████████████████████████████████| 98/98 [00:23<00:00,  4.25it/s]\n",
      "epoch 2: trn_loss = 0.1250, val_loss = 0.1270, trn_score = 0.5017, val_score = 0.5084\n",
      "lr :  [5.08004402843938e-06, 5.08004402843938e-06, 5.0800440284393804e-05]\n",
      "100%|█████████████████████████████| 378/378 [02:24<00:00,  2.62it/s, loss=0.112]\n",
      "100%|███████████████████████████████████████████| 98/98 [00:23<00:00,  4.23it/s]\n",
      "epoch 3: trn_loss = 0.1119, val_loss = 0.1207, trn_score = 0.4747, val_score = 0.4947\n",
      "model_cohesion (best score) saved\n",
      "lr :  [2.439212469201889e-06, 2.439212469201889e-06, 2.4392124692018893e-05]\n",
      "100%|█████████████████████████████| 378/378 [02:22<00:00,  2.65it/s, loss=0.104]\n",
      "100%|███████████████████████████████████████████| 98/98 [00:22<00:00,  4.34it/s]\n",
      "epoch 4: trn_loss = 0.1045, val_loss = 0.1207, trn_score = 0.4579, val_score = 0.4948\n",
      "lr :  [6.788080610748404e-07, 6.788080610748404e-07, 6.7880806107484045e-06]\n",
      "100%|████████████████████████████| 378/378 [02:22<00:00,  2.65it/s, loss=0.0949]\n",
      "100%|███████████████████████████████████████████| 98/98 [00:22<00:00,  4.32it/s]\n",
      "epoch 5: trn_loss = 0.0949, val_loss = 0.1220, trn_score = 0.4364, val_score = 0.4970\n",
      "\n"
     ]
    }
   ],
   "source": [
    "MODE = 'train'\n",
    "EPOCHS = 5\n",
    "STOP_EPOCH = 5\n",
    "RESTART = 1\n",
    "NUM_CYCLES = EPOCHS\n",
    "EVAL_STEP = -1\n",
    "ADD_FB3 = 'false'\n",
    "FB3_FOLD_PATH = 'none' #'../../00_EDA/00_v1_02/result/'\n",
    "\n",
    "for CLASS in [\n",
    "    'cohesion',\n",
    "    #'syntax','vocabulary','phraseology','grammar','conventions'\n",
    "]:\n",
    "    print(\"*\"*50)\n",
    "    print(CLASS)\n",
    "    print(\"*\"*50)\n",
    "# if True:\n",
    "#     CLASS = 'none'\n",
    "    for FOLD in [0]: #[0,1,2,3,4]:\n",
    "        print(\"-\"*50)\n",
    "        print(\"FOLD = \", FOLD)\n",
    "        print(\"-\"*50)\n",
    "        INPUT_PATH = '../../00_EDA/00_v1_12/result/' #'../../input/feedback-prize-english-language-learning/'\n",
    "        FOLD_PATH = '../../00_EDA/00_v1_02/result/'\n",
    "        #INPUT_PATH = f'../../99_Ensemble/99_v1_03/result/99_v1_03_03_pseudo_fold{FOLD}.csv'\n",
    "        #INPUT_PATH = f'../../99_Ensemble/99_v1_03/result/99_v1_03_03_{TEACHER_VERSION}_pseudo_fold{FOLD}.csv'\n",
    "        #FOLD_PATH = '../../00_EDA/00_v1_08/result/' # for pseudo-label\n",
    "        PRETRAIN_PATH = 'none'\n",
    "        !python ../$VERSION/train.py --model $MODEL --version $VERSION --fold_path $FOLD_PATH --fold $FOLD --seed $SEED \\\n",
    "        --lr $LR --head_lr $HEAD_LR --trn_batch_size $TRN_BS --val_batch_size $VAL_BS \\\n",
    "        --epochs $EPOCHS --hidden_drop_prob $HIDDEN_DROP_PROB --p_drop $P_DROP \\\n",
    "        --accumulate_grad_batches $ACCUM_STEP --rnn $RNN --warmup_ratio $WARMUP_RATIO --loss $LOSS --aug $AUG --head $HEAD \\\n",
    "        --mixup_alpha $MIXUP_ALPHA --p_aug $P_AUG --aug_stop_epoch $AUG_STOP_EPOCH \\\n",
    "        --msd $MSD --multi_layers $MULTI_LAYERS \\\n",
    "        --eval_step_start_epoch $EVAL_STEP_START_EPOCH --eval_step $EVAL_STEP --stop_epoch $STOP_EPOCH \\\n",
    "        --num_labels $NUM_LABELS --num_labels_2 $NUM_LABELS_2 \\\n",
    "        --restart_epoch $RESTART --fp16 $FP16 --weight_decay $WD --freeze_layers $FREEZE \\\n",
    "        --mt $MULTI_TASK --w_mt $W_MT \\\n",
    "        --awp $AWP --awp_lr $AWP_LR --awp_eps $AWP_EPS --awp_start_epoch $AWP_START_EPOCH \\\n",
    "        --pretrained_detector_path $PRETRAINED_DETECTOR_PATH --mask_prob $MASK_PROB --mask_ratio $MASK_RATIO \\\n",
    "        --scheduler $SCHEDULER --num_cycles $NUM_CYCLES --check_pointing $CP \\\n",
    "        --window_size $WINDOW_SIZE --inner_len $INNER_LEN --edge_len $EDGE_LEN \\\n",
    "        --gradient_clip_val $GRAD_CLIP \\\n",
    "        --input_path $INPUT_PATH --mode $MODE --pretrain_path $PRETRAIN_PATH --max_length $MAX_LEN \\\n",
    "        --crop_prob $CROP_PROB --pooling $POOLING --num_pooling_layers $NUM_POOLING_LAYERS --class_name $CLASS \\\n",
    "        --add_fb3 $ADD_FB3 --fb3_fold_path $FB3_FOLD_PATH --use_stats $USE_STATS \\\n",
    "        --use_separate_head $USE_SEPARATE_HEAD --low_loss_thr $LOW_LOSS_THR --high_loss_thr $HIGH_LOSS_THR \\\n",
    "        --oof_df_path $OOF_DF_PATH"
   ]
  },
  {
   "cell_type": "code",
   "execution_count": null,
   "metadata": {},
   "outputs": [],
   "source": []
  },
  {
   "cell_type": "markdown",
   "metadata": {},
   "source": [
    "# OOF"
   ]
  },
  {
   "cell_type": "code",
   "execution_count": null,
   "metadata": {
    "scrolled": true
   },
   "outputs": [],
   "source": [
    "INPUT_PATH = '../../00_EDA/00_v1_12/result/' #'../../input/feedback-prize-english-language-learning/'\n",
    "FOLD_PATH = '../../00_EDA/00_v1_02/result/'"
   ]
  },
  {
   "cell_type": "code",
   "execution_count": null,
   "metadata": {
    "scrolled": false
   },
   "outputs": [],
   "source": [
    "for CLASS in [\n",
    "    'cohesion',\n",
    "    'syntax','vocabulary','phraseology','grammar','conventions'\n",
    "]:\n",
    "    print(\"*\"*50)\n",
    "    print(CLASS)\n",
    "    print(\"*\"*50)\n",
    "# if True:\n",
    "#     CLASS = 'none'\n",
    "    for FOLD in [0,1,2,3,4]:\n",
    "        print(\"-\"*50)\n",
    "        print(\"FOLD = \", FOLD)\n",
    "        print(\"-\"*50)\n",
    "        WEIGHT_PATH = f'./result/{VERSION}/model_seed{SEED}_fold{FOLD}.pth'\n",
    "        #WEIGHT_PATH = f'./result/{VERSION}/model_{CLASS}_seed{SEED}_fold{FOLD}.pth'\n",
    "        #WEIGHT_PATH = f'result/{VERSION}/model_{CLASS}_seed{SEED}_fold{FOLD}_pseudo.pth'\n",
    "        !python ../$VERSION/validation.py --model $MODEL --version $VERSION \\\n",
    "        --fold_path $FOLD_PATH --fold $FOLD --seed $SEED --val_batch_size $VAL_BS \\\n",
    "        --rnn $RNN --loss $LOSS --mt $MULTI_TASK --num_labels $NUM_LABELS --loss $LOSS --weight_path $WEIGHT_PATH \\\n",
    "        --window_size $WINDOW_SIZE --inner_len $INNER_LEN --edge_len $EDGE_LEN --max_length $MAX_LEN \\\n",
    "        --pooling $POOLING --num_pooling_layers $NUM_POOLING_LAYERS \\\n",
    "        --class_name $CLASS --input_path $INPUT_PATH --use_stats $USE_STATS \\\n",
    "        --use_separate_head $USE_SEPARATE_HEAD"
   ]
  },
  {
   "cell_type": "code",
   "execution_count": null,
   "metadata": {},
   "outputs": [],
   "source": [
    "import pandas as pd\n",
    "import numpy as np\n",
    "\n",
    "preds = []\n",
    "for CLASS in [\n",
    "    'cohesion',\n",
    "    'syntax','vocabulary','phraseology','grammar','conventions'\n",
    "]:\n",
    "    print(\"*\"*50)\n",
    "    print(CLASS)\n",
    "    print(\"*\"*50)\n",
    "    preds_class = []\n",
    "#if True:\n",
    "    for fold in [0,1,2,3,4]:\n",
    "        #tmp_df = pd.read_csv(f'./result/{VERSION}/pred_fold{fold}.csv')\n",
    "        tmp_df = pd.read_csv(f'./result/{VERSION}/pred_{CLASS}_fold{fold}.csv')\n",
    "        #embeds = np.load(f'./result/{VERSION}/embeds_{CLASS}_fold{fold}.npz')['arr_0']\n",
    "        #tmp_df[f'embed_{CLASS}'] = embeds.tolist()\n",
    "        preds_class.append(tmp_df)\n",
    "        #preds.append(tmp_df)\n",
    "    pred_df = pd.concat(preds_class, axis=0).reset_index(drop=True)\n",
    "    if len(preds)==0:\n",
    "        preds.append(pred_df)\n",
    "    else:\n",
    "        del pred_df[\"text_id\"]\n",
    "        preds.append(pred_df)\n",
    "    \n",
    "all_pred_df = pd.concat(preds, axis=1)\n",
    "#all_pred_df = pd.concat(preds, axis=0).reset_index(drop=True)\n",
    "\n",
    "train_df = pd.read_csv('../../input/feedback-prize-english-language-learning/train.csv')\n",
    "oof_df = train_df[['text_id']].merge(all_pred_df, on='text_id', how='left')\n",
    "oof_df.to_csv(f'./result/{VERSION}/oof_df.csv', index=False)"
   ]
  },
  {
   "cell_type": "code",
   "execution_count": null,
   "metadata": {},
   "outputs": [],
   "source": [
    "oof_df.shape, oof_df.isnull().sum()"
   ]
  },
  {
   "cell_type": "code",
   "execution_count": null,
   "metadata": {},
   "outputs": [],
   "source": [
    "cols = ['cohesion','syntax','vocabulary','phraseology','grammar','conventions']\n",
    "oof_df[cols].describe()"
   ]
  },
  {
   "cell_type": "code",
   "execution_count": null,
   "metadata": {},
   "outputs": [],
   "source": [
    "cols = ['cohesion','syntax','vocabulary','phraseology','grammar','conventions']\n",
    "train_df[cols].describe()"
   ]
  },
  {
   "cell_type": "code",
   "execution_count": null,
   "metadata": {},
   "outputs": [],
   "source": []
  },
  {
   "cell_type": "markdown",
   "metadata": {},
   "source": [
    "# Error Analysis - Check Corr"
   ]
  },
  {
   "cell_type": "code",
   "execution_count": null,
   "metadata": {},
   "outputs": [],
   "source": [
    "cols = ['cohesion','syntax','vocabulary','phraseology','grammar','conventions']\n",
    "train_df[cols].corr()"
   ]
  },
  {
   "cell_type": "code",
   "execution_count": null,
   "metadata": {},
   "outputs": [],
   "source": [
    "cols = ['cohesion','syntax','vocabulary','phraseology','grammar','conventions']\n",
    "oof_df[cols].corr()"
   ]
  },
  {
   "cell_type": "code",
   "execution_count": null,
   "metadata": {},
   "outputs": [],
   "source": []
  },
  {
   "cell_type": "code",
   "execution_count": null,
   "metadata": {},
   "outputs": [],
   "source": []
  },
  {
   "cell_type": "code",
   "execution_count": null,
   "metadata": {},
   "outputs": [],
   "source": []
  }
 ],
 "metadata": {
  "kernelspec": {
   "display_name": "Python 3",
   "language": "python",
   "name": "python3"
  },
  "language_info": {
   "codemirror_mode": {
    "name": "ipython",
    "version": 3
   },
   "file_extension": ".py",
   "mimetype": "text/x-python",
   "name": "python",
   "nbconvert_exporter": "python",
   "pygments_lexer": "ipython3",
   "version": "3.7.8"
  }
 },
 "nbformat": 4,
 "nbformat_minor": 4
}
