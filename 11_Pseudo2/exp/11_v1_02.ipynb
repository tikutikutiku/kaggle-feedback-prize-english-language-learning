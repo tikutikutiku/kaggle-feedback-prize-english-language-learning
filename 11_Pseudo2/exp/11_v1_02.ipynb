{
 "cells": [
  {
   "cell_type": "code",
   "execution_count": 1,
   "metadata": {},
   "outputs": [],
   "source": [
    "VERSION = '11_v1_02'\n",
    "MODEL = 'microsoft/deberta-v3-base'\n",
    "#'roberta-large'\n",
    "#'roberta-base'\n",
    "#'microsoft/deberta-v3-large'\n",
    "#'microsoft/deberta-base'\n",
    "LR = 2e-5 #8e-6\n",
    "HEAD_LR = 2e-4 #2e-5 #8e-6 \n",
    "SEED = 100\n",
    "TRN_BS = 8\n",
    "VAL_BS = 8\n",
    "ACCUM_STEP = 1\n",
    "HIDDEN_DROP_PROB = 0\n",
    "P_DROP = 0\n",
    "RNN = 'none'\n",
    "WARMUP_RATIO = 0.1\n",
    "HEAD = 'simple'\n",
    "AUG = 'false'\n",
    "MIXUP_ALPHA = 0\n",
    "P_AUG = 0\n",
    "AUG_STOP_EPOCH = 0\n",
    "MSD = 'false'\n",
    "MULTI_LAYERS = 1\n",
    "EVAL_STEP_START_EPOCH = -1\n",
    "EVAL_STEP = -1\n",
    "NUM_LABELS = 6\n",
    "NUM_LABELS_2 = -1\n",
    "FP16 = 'true'\n",
    "WD = 0.01\n",
    "FREEZE = 'false'\n",
    "MULTI_TASK = 'false' \n",
    "W_MT = 0 \n",
    "AWP = 'false'\n",
    "AWP_LR = 0 #1e-4\n",
    "AWP_EPS = 0 #1e-4\n",
    "AWP_START_EPOCH = -1 #3\n",
    "#PRETRAINED_DETECTOR_PATH = f'../../input/tascj/result/deberta_base_fold0.pth'\n",
    "PRETRAINED_DETECTOR_PATH = 'none' #f'../../05_Detection/exp/result/05_v2_09/model_seed100_fold0_swa.pth'\n",
    "MASK_PROB = 0 #0.8\n",
    "MASK_RATIO = 0 #0.15\n",
    "SCHEDULER = 'cosine_hard'\n",
    "CP = 'false'\n",
    "WINDOW_SIZE = -1 #512\n",
    "INNER_LEN = -1 #384\n",
    "EDGE_LEN = -1 #64\n",
    "MAX_LEN = 512\n",
    "\n",
    "GRAD_CLIP = 1\n",
    "\n",
    "LOSS = 'smoothl1'#'mse'\n",
    "\n",
    "CROP_PROB = 0 #1.0"
   ]
  },
  {
   "cell_type": "markdown",
   "metadata": {},
   "source": [
    "# Train with Soft Pseudo-Label"
   ]
  },
  {
   "cell_type": "code",
   "execution_count": 2,
   "metadata": {
    "scrolled": false
   },
   "outputs": [
    {
     "name": "stdout",
     "output_type": "stream",
     "text": [
      "torch 1.10.1\n",
      "args.mode =  pseudo\n",
      "train_df.shape =  (15142, 9)\n",
      "load folds...\n",
      "trn_df.shape =  (12113, 8)\n",
      "val_df.shape =  (3029, 8)\n",
      "2022-10-02 14:31:00.278428: W tensorflow/stream_executor/platform/default/dso_loader.cc:59] Could not load dynamic library 'libcudart.so.10.1'; dlerror: libcudart.so.10.1: cannot open shared object file: No such file or directory; LD_LIBRARY_PATH: /usr/local/cuda-10.2/lib64:\n",
      "2022-10-02 14:31:00.278452: I tensorflow/stream_executor/cuda/cudart_stub.cc:29] Ignore above cudart dlerror if you do not have a GPU set up on your machine.\n",
      "self.warmup_ratio =  0.1\n",
      "self.num_train_steps =  12113\n",
      "num_warmup_steps =  1211\n",
      "lr :  [0.0, 0.0, 0.0]\n",
      "100%|███████████████████████████| 1514/1514 [06:54<00:00,  3.65it/s, loss=0.312]\n",
      "100%|█████████████████████████████████████████| 379/379 [01:26<00:00,  4.37it/s]\n",
      "epoch 1: trn_loss = 0.3121, val_loss = 0.0058, trn_score = 1.0745, val_score = 0.1073\n",
      "model (best score) saved\n",
      "lr :  [1.9961905110466195e-05, 1.9961905110466195e-05, 0.00019961905110466193]\n",
      "100%|█████████████████████████| 1514/1514 [06:55<00:00,  3.64it/s, loss=0.00385]\n",
      "100%|█████████████████████████████████████████| 379/379 [01:26<00:00,  4.37it/s]\n",
      "epoch 2: trn_loss = 0.0038, val_loss = 0.0047, trn_score = 0.0876, val_score = 0.0961\n",
      "model (best score) saved\n",
      "lr :  [1.866025403784439e-05, 1.866025403784439e-05, 0.00018660254037844388]\n",
      "100%|█████████████████████████| 1514/1514 [06:55<00:00,  3.65it/s, loss=0.00239]\n",
      "100%|█████████████████████████████████████████| 379/379 [01:27<00:00,  4.35it/s]\n",
      "epoch 3: trn_loss = 0.0024, val_loss = 0.0041, trn_score = 0.0690, val_score = 0.0891\n",
      "model (best score) saved\n",
      "\n"
     ]
    }
   ],
   "source": [
    "FOLD = 0\n",
    "#INPUT_PATH = f'../../01_Baseline/exp/result/01_v1_27/pseudo_fold{FOLD}.csv'\n",
    "INPUT_PATH = f'../../99_Ensemble/99_v1_01/result/99_v1_01_16_pseudo_fold{FOLD}.csv'\n",
    "FOLD_PATH = '../../00_EDA/00_v1_08/result/' # for pseudo-label\n",
    "MODE = 'pseudo'\n",
    "EPOCHS = 8 #3\n",
    "STOP_EPOCH = 3\n",
    "RESTART = 1\n",
    "NUM_CYCLES = 1 #EPOCHS\n",
    "PRETRAIN_PATH = 'none' #f'result/{VERSION}/model_seed{SEED}_fold{FOLD}_epoch{EPOCHS}_pseudo.pth'\n",
    "\n",
    "!python ../$VERSION/train.py --model $MODEL --version $VERSION --fold_path $FOLD_PATH --fold $FOLD --seed $SEED \\\n",
    "--lr $LR --head_lr $HEAD_LR --trn_batch_size $TRN_BS --val_batch_size $VAL_BS \\\n",
    "--epochs $EPOCHS --hidden_drop_prob $HIDDEN_DROP_PROB --p_drop $P_DROP \\\n",
    "--accumulate_grad_batches $ACCUM_STEP --rnn $RNN --warmup_ratio $WARMUP_RATIO --loss $LOSS --aug $AUG --head $HEAD \\\n",
    "--mixup_alpha $MIXUP_ALPHA --p_aug $P_AUG --aug_stop_epoch $AUG_STOP_EPOCH \\\n",
    "--msd $MSD --multi_layers $MULTI_LAYERS \\\n",
    "--eval_step_start_epoch $EVAL_STEP_START_EPOCH --eval_step $EVAL_STEP --stop_epoch $STOP_EPOCH \\\n",
    "--num_labels $NUM_LABELS --num_labels_2 $NUM_LABELS_2 \\\n",
    "--restart_epoch $RESTART --fp16 $FP16 --weight_decay $WD --freeze_layers $FREEZE \\\n",
    "--mt $MULTI_TASK --w_mt $W_MT \\\n",
    "--awp $AWP --awp_lr $AWP_LR --awp_eps $AWP_EPS --awp_start_epoch $AWP_START_EPOCH \\\n",
    "--pretrained_detector_path $PRETRAINED_DETECTOR_PATH --mask_prob $MASK_PROB --mask_ratio $MASK_RATIO \\\n",
    "--scheduler $SCHEDULER --num_cycles $NUM_CYCLES --check_pointing $CP \\\n",
    "--window_size $WINDOW_SIZE --inner_len $INNER_LEN --edge_len $EDGE_LEN \\\n",
    "--gradient_clip_val $GRAD_CLIP \\\n",
    "--input_path $INPUT_PATH --mode $MODE --pretrain_path $PRETRAIN_PATH --max_length $MAX_LEN \\\n",
    "--crop_prob $CROP_PROB"
   ]
  },
  {
   "cell_type": "markdown",
   "metadata": {},
   "source": [
    "# Finetune"
   ]
  },
  {
   "cell_type": "code",
   "execution_count": 3,
   "metadata": {},
   "outputs": [
    {
     "name": "stdout",
     "output_type": "stream",
     "text": [
      "torch 1.10.1\n",
      "args.mode =  train\n",
      "train_df.shape =  (3911, 8)\n",
      "load folds...\n",
      "trn_df.shape =  (3128, 8)\n",
      "val_df.shape =  (783, 8)\n",
      "2022-10-02 14:56:26.487354: W tensorflow/stream_executor/platform/default/dso_loader.cc:59] Could not load dynamic library 'libcudart.so.10.1'; dlerror: libcudart.so.10.1: cannot open shared object file: No such file or directory; LD_LIBRARY_PATH: /usr/local/cuda-10.2/lib64:\n",
      "2022-10-02 14:56:26.487383: I tensorflow/stream_executor/cuda/cudart_stub.cc:29] Ignore above cudart dlerror if you do not have a GPU set up on your machine.\n",
      "self.warmup_ratio =  0.1\n",
      "self.num_train_steps =  3128\n",
      "num_warmup_steps =  312\n",
      "epoch =  1\n",
      "100%|████████████████████████████████████████| 391/391 [00:02<00:00, 186.84it/s]\n",
      "epoch =  2\n",
      "100%|████████████████████████████████████████| 391/391 [00:02<00:00, 188.28it/s]\n",
      "epoch =  3\n",
      "100%|████████████████████████████████████████| 391/391 [00:02<00:00, 193.51it/s]\n",
      "lr :  [1.5730686237931992e-05, 1.5730686237931992e-05, 0.0001573068623793199]\n",
      "100%|█████████████████████████████| 391/391 [01:48<00:00,  3.60it/s, loss=0.101]\n",
      "100%|███████████████████████████████████████████| 98/98 [00:22<00:00,  4.30it/s]\n",
      "epoch 4: trn_loss = 0.1014, val_loss = 0.1062, trn_score = 0.4510, val_score = 0.4618\n",
      "model (best score) saved\n",
      "lr :  [1.1731598569722642e-05, 1.1731598569722642e-05, 0.00011731598569722642]\n",
      "100%|████████████████████████████| 391/391 [01:49<00:00,  3.56it/s, loss=0.0977]\n",
      "100%|███████████████████████████████████████████| 98/98 [00:22<00:00,  4.35it/s]\n",
      "epoch 5: trn_loss = 0.0977, val_loss = 0.1024, trn_score = 0.4426, val_score = 0.4530\n",
      "model (best score) saved\n",
      "lr :  [7.4082176997517e-06, 7.4082176997517e-06, 7.4082176997517e-05]\n",
      "100%|████████████████████████████| 391/391 [01:48<00:00,  3.59it/s, loss=0.0955]\n",
      "100%|███████████████████████████████████████████| 98/98 [00:22<00:00,  4.40it/s]\n",
      "epoch 6: trn_loss = 0.0955, val_loss = 0.1024, trn_score = 0.4376, val_score = 0.4529\n",
      "model (best score) saved\n",
      "lr :  [3.570224953282828e-06, 3.570224953282828e-06, 3.570224953282828e-05]\n",
      "100%|████████████████████████████| 391/391 [01:48<00:00,  3.60it/s, loss=0.0944]\n",
      "100%|███████████████████████████████████████████| 98/98 [00:22<00:00,  4.37it/s]\n",
      "epoch 7: trn_loss = 0.0944, val_loss = 0.1016, trn_score = 0.4349, val_score = 0.4510\n",
      "model (best score) saved\n",
      "lr :  [9.363983299360579e-07, 9.363983299360579e-07, 9.363983299360579e-06]\n",
      "100%|████████████████████████████| 391/391 [01:48<00:00,  3.60it/s, loss=0.0932]\n",
      "100%|███████████████████████████████████████████| 98/98 [00:22<00:00,  4.37it/s]\n",
      "epoch 8: trn_loss = 0.0932, val_loss = 0.1016, trn_score = 0.4320, val_score = 0.4511\n",
      "\n"
     ]
    }
   ],
   "source": [
    "FOLD = 0\n",
    "INPUT_PATH = '../../input/feedback-prize-english-language-learning/'\n",
    "FOLD_PATH = '../../00_EDA/00_v1_02/result/'\n",
    "MODE = 'train'\n",
    "EPOCHS = 8 #5\n",
    "STOP_EPOCH = 8 #5\n",
    "RESTART = 4 #1\n",
    "NUM_CYCLES = 1 #EPOCHS\n",
    "PRETRAIN_PATH = f'result/{VERSION}/model_seed{SEED}_fold{FOLD}_pseudo.pth'\n",
    "\n",
    "!python ../$VERSION/train.py --model $MODEL --version $VERSION --fold_path $FOLD_PATH --fold $FOLD --seed $SEED \\\n",
    "--lr $LR --head_lr $HEAD_LR --trn_batch_size $TRN_BS --val_batch_size $VAL_BS \\\n",
    "--epochs $EPOCHS --hidden_drop_prob $HIDDEN_DROP_PROB --p_drop $P_DROP \\\n",
    "--accumulate_grad_batches $ACCUM_STEP --rnn $RNN --warmup_ratio $WARMUP_RATIO --loss $LOSS --aug $AUG --head $HEAD \\\n",
    "--mixup_alpha $MIXUP_ALPHA --p_aug $P_AUG --aug_stop_epoch $AUG_STOP_EPOCH \\\n",
    "--msd $MSD --multi_layers $MULTI_LAYERS \\\n",
    "--eval_step_start_epoch $EVAL_STEP_START_EPOCH --eval_step $EVAL_STEP --stop_epoch $STOP_EPOCH \\\n",
    "--num_labels $NUM_LABELS --num_labels_2 $NUM_LABELS_2 \\\n",
    "--restart_epoch $RESTART --fp16 $FP16 --weight_decay $WD --freeze_layers $FREEZE \\\n",
    "--mt $MULTI_TASK --w_mt $W_MT \\\n",
    "--awp $AWP --awp_lr $AWP_LR --awp_eps $AWP_EPS --awp_start_epoch $AWP_START_EPOCH \\\n",
    "--pretrained_detector_path $PRETRAINED_DETECTOR_PATH --mask_prob $MASK_PROB --mask_ratio $MASK_RATIO \\\n",
    "--scheduler $SCHEDULER --num_cycles $NUM_CYCLES --check_pointing $CP \\\n",
    "--window_size $WINDOW_SIZE --inner_len $INNER_LEN --edge_len $EDGE_LEN \\\n",
    "--gradient_clip_val $GRAD_CLIP \\\n",
    "--input_path $INPUT_PATH --mode $MODE --pretrain_path $PRETRAIN_PATH --max_length $MAX_LEN \\\n",
    "--crop_prob $CROP_PROB"
   ]
  },
  {
   "cell_type": "markdown",
   "metadata": {},
   "source": [
    "# OOF"
   ]
  },
  {
   "cell_type": "code",
   "execution_count": null,
   "metadata": {
    "scrolled": true
   },
   "outputs": [],
   "source": [
    "FOLD = 0\n",
    "INPUT_PATH = '../../input/feedback-prize-english-language-learning/'\n",
    "FOLD_PATH = '../../00_EDA/00_v1_02/result/'\n",
    "WEIGHT_PATH = f'./result/{VERSION}/model_seed{SEED}_fold{FOLD}.pth'\n",
    "\n",
    "!python ../$VERSION/validation.py --model $MODEL --version $VERSION \\\n",
    "--fold_path $FOLD_PATH --fold $FOLD --seed $SEED --val_batch_size $VAL_BS \\\n",
    "--rnn $RNN --loss $LOSS --mt $MULTI_TASK --num_labels $NUM_LABELS --loss $LOSS --weight_path $WEIGHT_PATH \\\n",
    "--window_size $WINDOW_SIZE --inner_len $INNER_LEN --edge_len $EDGE_LEN --max_length $MAX_LEN"
   ]
  },
  {
   "cell_type": "code",
   "execution_count": null,
   "metadata": {},
   "outputs": [],
   "source": [
    "import pandas as pd\n",
    "\n",
    "num_fold = 5\n",
    "\n",
    "preds = []\n",
    "for fold in range(num_fold):\n",
    "    tmp_df = pd.read_csv(f'./result/{VERSION}/pred_fold{fold}.csv')\n",
    "    preds.append(tmp_df)\n",
    "    \n",
    "pred_df = pd.concat(preds, axis=0).reset_index(drop=True)\n",
    "train_df = pd.read_csv('../../input/feedback-prize-english-language-learning/train.csv')\n",
    "\n",
    "oof_df = train_df[['text_id']].merge(pred_df, on='text_id', how='left')\n",
    "oof_df.to_csv(f'./result/{VERSION}/oof_df.csv', index=False)"
   ]
  },
  {
   "cell_type": "code",
   "execution_count": null,
   "metadata": {},
   "outputs": [],
   "source": [
    "oof_df.shape, oof_df.isnull().sum()"
   ]
  },
  {
   "cell_type": "code",
   "execution_count": null,
   "metadata": {},
   "outputs": [],
   "source": []
  }
 ],
 "metadata": {
  "kernelspec": {
   "display_name": "Python 3",
   "language": "python",
   "name": "python3"
  },
  "language_info": {
   "codemirror_mode": {
    "name": "ipython",
    "version": 3
   },
   "file_extension": ".py",
   "mimetype": "text/x-python",
   "name": "python",
   "nbconvert_exporter": "python",
   "pygments_lexer": "ipython3",
   "version": "3.7.8"
  }
 },
 "nbformat": 4,
 "nbformat_minor": 4
}
