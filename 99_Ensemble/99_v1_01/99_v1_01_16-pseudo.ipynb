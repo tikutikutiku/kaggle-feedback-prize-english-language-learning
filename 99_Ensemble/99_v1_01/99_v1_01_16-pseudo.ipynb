{
 "cells": [
  {
   "cell_type": "code",
   "execution_count": 1,
   "metadata": {},
   "outputs": [
    {
     "name": "stdout",
     "output_type": "stream",
     "text": [
      "(15142, 6)\n",
      "(15142, 6)\n",
      "(15142, 6)\n",
      "(15142, 6)\n",
      "(15142, 6)\n"
     ]
    }
   ],
   "source": [
    "import pickle\n",
    "import pandas as pd\n",
    "import numpy as np\n",
    "from tqdm import tqdm\n",
    "import os\n",
    "\n",
    "VERSION = '99_v1_01_16'\n",
    "os.makedirs('result', exist_ok=True)\n",
    "\n",
    "fold_list = [0,1,2,3,4]\n",
    "\n",
    "for fold in fold_list:\n",
    "    model_path_list = [\n",
    "        f'../../01_Baseline/exp/result/01_v1_27/pseudo_fold{fold}.csv', # deberta-v3-base\n",
    "        f'../../01_Baseline/exp/result/01_v1_43/pseudo_fold{fold}.csv', # deberta-v3-large\n",
    "        f'../../07_Embeddings/exp/result/07_v1_01/pseudo_df_fold{fold}.csv', # deberta-v3-large\n",
    "    ]\n",
    "\n",
    "    df_list = [\n",
    "        pd.read_csv(model_path) for model_path in model_path_list\n",
    "    ]\n",
    "\n",
    "    base_df = df_list[0]\n",
    "    if 'text_id' not in base_df.columns:\n",
    "        base_df['text_id'] = base_df['id'].values\n",
    "\n",
    "    for df in df_list[1:]:\n",
    "        try:\n",
    "            df = base_df[['text_id']].merge(df, how='left', on='text_id')\n",
    "        except:\n",
    "            df['text_id'] = df['id'].values\n",
    "            df = base_df[['text_id']].merge(df, how='left', on='text_id')\n",
    "\n",
    "\n",
    "    num_models = len(model_path_list)\n",
    "\n",
    "    TARGET_COLS = ['cohesion','syntax','vocabulary','phraseology','grammar','conventions']\n",
    "\n",
    "    preds = 0\n",
    "    for df in df_list:\n",
    "        preds += df[TARGET_COLS].values / num_models\n",
    "\n",
    "    preds = []\n",
    "    for df in df_list:\n",
    "        preds.append(df[TARGET_COLS].values)\n",
    "\n",
    "    preds = np.stack(preds, axis=0)\n",
    "    preds = preds.mean(axis=0)\n",
    "    print(preds.shape)\n",
    "\n",
    "    for i,col in enumerate(TARGET_COLS):\n",
    "        base_df[col] = preds[:,i]\n",
    "    \n",
    "    base_df.to_csv(f'result/{VERSION}_pseudo_fold{fold}.csv', index=False)"
   ]
  },
  {
   "cell_type": "code",
   "execution_count": null,
   "metadata": {},
   "outputs": [],
   "source": []
  },
  {
   "cell_type": "code",
   "execution_count": null,
   "metadata": {},
   "outputs": [],
   "source": []
  }
 ],
 "metadata": {
  "kernelspec": {
   "display_name": "Python 3",
   "language": "python",
   "name": "python3"
  },
  "language_info": {
   "codemirror_mode": {
    "name": "ipython",
    "version": 3
   },
   "file_extension": ".py",
   "mimetype": "text/x-python",
   "name": "python",
   "nbconvert_exporter": "python",
   "pygments_lexer": "ipython3",
   "version": "3.7.8"
  },
  "vscode": {
   "interpreter": {
    "hash": "31f2aee4e71d21fbe5cf8b01ff0e069b9275f58929596ceb00d14d90e3e16cd6"
   }
  }
 },
 "nbformat": 4,
 "nbformat_minor": 5
}
