{
 "cells": [
  {
   "cell_type": "code",
   "execution_count": 1,
   "metadata": {},
   "outputs": [],
   "source": [
    "import pickle\n",
    "import pandas as pd\n",
    "import numpy as np\n",
    "from tqdm import tqdm"
   ]
  },
  {
   "cell_type": "code",
   "execution_count": 2,
   "metadata": {},
   "outputs": [
    {
     "data": {
      "text/html": [
       "<div>\n",
       "<style scoped>\n",
       "    .dataframe tbody tr th:only-of-type {\n",
       "        vertical-align: middle;\n",
       "    }\n",
       "\n",
       "    .dataframe tbody tr th {\n",
       "        vertical-align: top;\n",
       "    }\n",
       "\n",
       "    .dataframe thead th {\n",
       "        text-align: right;\n",
       "    }\n",
       "</style>\n",
       "<table border=\"1\" class=\"dataframe\">\n",
       "  <thead>\n",
       "    <tr style=\"text-align: right;\">\n",
       "      <th></th>\n",
       "      <th>text_id</th>\n",
       "      <th>full_text</th>\n",
       "      <th>cohesion</th>\n",
       "      <th>syntax</th>\n",
       "      <th>vocabulary</th>\n",
       "      <th>phraseology</th>\n",
       "      <th>grammar</th>\n",
       "      <th>conventions</th>\n",
       "    </tr>\n",
       "  </thead>\n",
       "  <tbody>\n",
       "    <tr>\n",
       "      <th>0</th>\n",
       "      <td>0016926B079C</td>\n",
       "      <td>I think that students would benefit from learn...</td>\n",
       "      <td>3.5</td>\n",
       "      <td>3.5</td>\n",
       "      <td>3.0</td>\n",
       "      <td>3.0</td>\n",
       "      <td>4.0</td>\n",
       "      <td>3.0</td>\n",
       "    </tr>\n",
       "    <tr>\n",
       "      <th>1</th>\n",
       "      <td>0022683E9EA5</td>\n",
       "      <td>When a problem is a change you have to let it ...</td>\n",
       "      <td>2.5</td>\n",
       "      <td>2.5</td>\n",
       "      <td>3.0</td>\n",
       "      <td>2.0</td>\n",
       "      <td>2.0</td>\n",
       "      <td>2.5</td>\n",
       "    </tr>\n",
       "  </tbody>\n",
       "</table>\n",
       "</div>"
      ],
      "text/plain": [
       "        text_id                                          full_text  cohesion  \\\n",
       "0  0016926B079C  I think that students would benefit from learn...       3.5   \n",
       "1  0022683E9EA5  When a problem is a change you have to let it ...       2.5   \n",
       "\n",
       "   syntax  vocabulary  phraseology  grammar  conventions  \n",
       "0     3.5         3.0          3.0      4.0          3.0  \n",
       "1     2.5         3.0          2.0      2.0          2.5  "
      ]
     },
     "execution_count": 2,
     "metadata": {},
     "output_type": "execute_result"
    }
   ],
   "source": [
    "train_df = pd.read_csv(\"../../input/feedback-prize-english-language-learning/train.csv\")\n",
    "train_df.head(2)"
   ]
  },
  {
   "cell_type": "code",
   "execution_count": 3,
   "metadata": {},
   "outputs": [],
   "source": [
    "model_path_list = [\n",
    "    #'../../01_Baseline/exp/result/01_v1_24/oof_df.csv', # deberta-base\n",
    "    #'../../01_Baseline/exp/result/01_v1_25/oof_df.csv', # deberta-large\n",
    "    #'../../01_Baseline/exp/result/01_v1_27/oof_df.csv', # deberta-v3-base\n",
    "\n",
    "    #'../../01_Baseline/exp/result/01_v1_43/oof_df.csv', # deberta-v3-large\n",
    "    #'../../01_Baseline/exp/result/01_v1_44/oof_df.csv', # roberta-base\n",
    "    '../../01_Baseline/exp/result/01_v1_45/oof_df.csv', # roberta-large\n",
    "    \n",
    "    #'../../01_Baseline/exp/result/01_v1_47/oof_df.csv', # electra-base\n",
    "    #'../../01_Baseline/exp/result/01_v1_49/oof_df.csv', # deepset/roberta-base-squad2\n",
    "    #'../../01_Baseline/exp/result/01_v1_50/oof_df.csv', # distilroberta-base\n",
    "    \n",
    "    #'../../01_Baseline/exp/result/01_v1_54/oof_df.csv', # electra-large\n",
    "    #'../../01_Baseline/exp/result/01_v1_55/oof_df.csv', # deepset/roberta-large-squad2\n",
    "    #'../../01_Baseline/exp/result/01_v1_56/oof_df.csv', # xlm-roberta-large\n",
    "    #'../../01_Baseline/exp/result/01_v1_59/oof_df.csv', # bert-large-cased-whole-word-masking\n",
    "    #'../../01_Baseline/exp/result/01_v1_60/oof_df.csv', # bert-large-cased\n",
    "    '../../07_Embeddings/exp/result/07_v1_01/oof_df_svr_notebook_v03.csv', # svr\n",
    "    \n",
    "    '../../11_Pseudo2/exp/result/11_v1_02/oof_df.csv', # deberta-v3-base\n",
    "    '../../11_Pseudo2/exp/result/11_v1_03/oof_df.csv', # deberta-v3-large\n",
    "    \n",
    "]\n",
    "\n",
    "oof_df_list = [\n",
    "    pd.read_csv(model_path) for model_path in model_path_list\n",
    "]\n",
    "\n",
    "for oof_df in oof_df_list:\n",
    "    oof_df = train_df[['text_id']].merge(oof_df, how='left', on='text_id')\n",
    "    \n",
    "num_models = len(model_path_list)\n",
    "\n",
    "TARGET_COLS = ['cohesion','syntax','vocabulary','phraseology','grammar','conventions']\n",
    "\n",
    "preds = 0\n",
    "for oof_df in oof_df_list:\n",
    "    preds += oof_df[TARGET_COLS].values / num_models\n",
    "\n",
    "oofs = []\n",
    "for oof_df in oof_df_list:\n",
    "    oofs.append(oof_df[TARGET_COLS].values)"
   ]
  },
  {
   "cell_type": "code",
   "execution_count": 22,
   "metadata": {},
   "outputs": [],
   "source": [
    "def postprocessing(x):\n",
    "    for v in [1, 1.5, 2, 2.5, 3, 3.5, 4, 4.5, 5]:\n",
    "        if v-0.05 < x and x < v + 0.05:\n",
    "            return v\n",
    "    return x"
   ]
  },
  {
   "cell_type": "code",
   "execution_count": 23,
   "metadata": {},
   "outputs": [],
   "source": [
    "oof_df = oof_df_list[0].copy()\n",
    "for i,col in enumerate(TARGET_COLS):\n",
    "    oof_df[col] = [postprocessing(v) for v in preds[:,i]]"
   ]
  },
  {
   "cell_type": "code",
   "execution_count": 24,
   "metadata": {},
   "outputs": [],
   "source": [
    "import numpy as np\n",
    "\n",
    "def calc_metric(pred, gt):\n",
    "    '''\n",
    "    pred : (num_data, num_labels)\n",
    "    gt : (num_data, num_labels)\n",
    "    '''\n",
    "    score = np.sqrt(np.mean((pred - gt)**2, axis=0))\n",
    "    score = score.mean()\n",
    "    return score"
   ]
  },
  {
   "cell_type": "code",
   "execution_count": 25,
   "metadata": {},
   "outputs": [
    {
     "name": "stdout",
     "output_type": "stream",
     "text": [
      "CV=0.4460\n"
     ]
    }
   ],
   "source": [
    "score = calc_metric(pred=oof_df[TARGET_COLS].values, gt=train_df[TARGET_COLS].values)\n",
    "print('CV={:.4f}'.format(score))"
   ]
  },
  {
   "cell_type": "code",
   "execution_count": 26,
   "metadata": {},
   "outputs": [
    {
     "name": "stdout",
     "output_type": "stream",
     "text": [
      "CV=0.4460\n"
     ]
    }
   ],
   "source": [
    "score = calc_metric(pred=oof_df[TARGET_COLS].values.clip(1,5), gt=train_df[TARGET_COLS].values)\n",
    "print('CV={:.4f}'.format(score))"
   ]
  },
  {
   "cell_type": "code",
   "execution_count": null,
   "metadata": {},
   "outputs": [],
   "source": []
  },
  {
   "cell_type": "code",
   "execution_count": null,
   "metadata": {},
   "outputs": [],
   "source": []
  },
  {
   "cell_type": "code",
   "execution_count": null,
   "metadata": {},
   "outputs": [],
   "source": []
  },
  {
   "cell_type": "code",
   "execution_count": null,
   "metadata": {},
   "outputs": [],
   "source": [
    "ensemble_predictions=np.stack(oofs)"
   ]
  },
  {
   "cell_type": "code",
   "execution_count": null,
   "metadata": {},
   "outputs": [],
   "source": [
    "def ensemble_score(weights,return_pred=False):\n",
    "    weights=np.array(weights)\n",
    "    weights=weights.reshape(-1,1,1)/weights.sum()\n",
    "    p=weights.reshape(-1,1,1)*ensemble_predictions\n",
    "    p=p.sum(0)\n",
    "    score=calc_metric(p, train_df[TARGET_COLS])\n",
    "    if return_pred:\n",
    "        return score,p\n",
    "    else:\n",
    "        return score   "
   ]
  },
  {
   "cell_type": "code",
   "execution_count": null,
   "metadata": {
    "scrolled": true
   },
   "outputs": [],
   "source": [
    "from skopt import gp_minimize\n",
    "\n",
    "results=gp_minimize(ensemble_score, np.array([[0.1,1] for i in range(len(ensemble_predictions))]),\n",
    "                    verbose=True,random_state=2022)"
   ]
  },
  {
   "cell_type": "code",
   "execution_count": null,
   "metadata": {
    "scrolled": true
   },
   "outputs": [],
   "source": [
    "best_weights=np.array(results['x'])/sum(results['x'])\n",
    "print(best_weights)"
   ]
  },
  {
   "cell_type": "code",
   "execution_count": null,
   "metadata": {},
   "outputs": [],
   "source": [
    "# smaller is better for this metric\n",
    "score,ensemble_pred=ensemble_score(best_weights,True)\n",
    "score"
   ]
  },
  {
   "cell_type": "code",
   "execution_count": null,
   "metadata": {},
   "outputs": [],
   "source": [
    "print('CV={:.4f}'.format(score))"
   ]
  },
  {
   "cell_type": "code",
   "execution_count": null,
   "metadata": {},
   "outputs": [],
   "source": []
  },
  {
   "cell_type": "code",
   "execution_count": null,
   "metadata": {},
   "outputs": [],
   "source": []
  }
 ],
 "metadata": {
  "kernelspec": {
   "display_name": "Python 3",
   "language": "python",
   "name": "python3"
  },
  "language_info": {
   "codemirror_mode": {
    "name": "ipython",
    "version": 3
   },
   "file_extension": ".py",
   "mimetype": "text/x-python",
   "name": "python",
   "nbconvert_exporter": "python",
   "pygments_lexer": "ipython3",
   "version": "3.7.8"
  },
  "vscode": {
   "interpreter": {
    "hash": "31f2aee4e71d21fbe5cf8b01ff0e069b9275f58929596ceb00d14d90e3e16cd6"
   }
  }
 },
 "nbformat": 4,
 "nbformat_minor": 5
}
