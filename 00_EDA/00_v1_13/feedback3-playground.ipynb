{
 "cells": [
  {
   "cell_type": "markdown",
   "metadata": {
    "papermill": {
     "duration": 0.003591,
     "end_time": "2022-08-31T02:20:16.514559",
     "exception": false,
     "start_time": "2022-08-31T02:20:16.510968",
     "status": "completed"
    },
    "tags": []
   },
   "source": [
    "# Import Libraries and Data"
   ]
  },
  {
   "cell_type": "code",
   "execution_count": 1,
   "metadata": {
    "_cell_guid": "b1076dfc-b9ad-4769-8c92-a6c4dae69d19",
    "_uuid": "8f2839f25d086af736a60e9eeb907d3b93b6e0e5",
    "execution": {
     "iopub.execute_input": "2022-08-31T02:20:16.523488Z",
     "iopub.status.busy": "2022-08-31T02:20:16.522943Z",
     "iopub.status.idle": "2022-08-31T02:20:16.539860Z",
     "shell.execute_reply": "2022-08-31T02:20:16.538702Z"
    },
    "papermill": {
     "duration": 0.02457,
     "end_time": "2022-08-31T02:20:16.542635",
     "exception": false,
     "start_time": "2022-08-31T02:20:16.518065",
     "status": "completed"
    },
    "tags": []
   },
   "outputs": [],
   "source": [
    "import numpy as np\n",
    "import pandas as pd\n",
    "pd.get_option(\"display.max_columns\")\n",
    "pd.set_option('display.max_columns', 300)\n",
    "pd.get_option(\"display.max_rows\")\n",
    "pd.set_option('display.max_rows', 300)\n",
    "\n",
    "import matplotlib.pyplot as plt\n",
    "%matplotlib inline\n",
    "\n",
    "import os\n",
    "from os.path import join as opj\n",
    "import gc\n",
    "\n",
    "INPUT_PATH = '../../input/feedback-prize-english-language-learning/'"
   ]
  },
  {
   "cell_type": "code",
   "execution_count": 2,
   "metadata": {
    "execution": {
     "iopub.execute_input": "2022-08-31T02:20:16.551414Z",
     "iopub.status.busy": "2022-08-31T02:20:16.551017Z",
     "iopub.status.idle": "2022-08-31T02:20:16.772536Z",
     "shell.execute_reply": "2022-08-31T02:20:16.771274Z"
    },
    "papermill": {
     "duration": 0.2292,
     "end_time": "2022-08-31T02:20:16.775378",
     "exception": false,
     "start_time": "2022-08-31T02:20:16.546178",
     "status": "completed"
    },
    "tags": []
   },
   "outputs": [
    {
     "name": "stdout",
     "output_type": "stream",
     "text": [
      "train_df.shape =  (3911, 8)\n",
      "test_df.shape =  (3, 2)\n",
      "sub_df.shape =  (3, 7)\n"
     ]
    }
   ],
   "source": [
    "train_df = pd.read_csv(opj(INPUT_PATH, 'train.csv'))\n",
    "test_df = pd.read_csv(opj(INPUT_PATH, 'test.csv'))\n",
    "sub_df = pd.read_csv(opj(INPUT_PATH, 'sample_submission.csv'))\n",
    "\n",
    "print('train_df.shape = ', train_df.shape)\n",
    "print('test_df.shape = ', test_df.shape)\n",
    "print('sub_df.shape = ', sub_df.shape)"
   ]
  },
  {
   "cell_type": "markdown",
   "metadata": {
    "papermill": {
     "duration": 0.00346,
     "end_time": "2022-08-31T02:20:16.827521",
     "exception": false,
     "start_time": "2022-08-31T02:20:16.824061",
     "status": "completed"
    },
    "tags": []
   },
   "source": [
    "# EDA"
   ]
  },
  {
   "cell_type": "code",
   "execution_count": 3,
   "metadata": {},
   "outputs": [],
   "source": [
    "import numpy as np\n",
    "sigma = 0.05\n",
    "np.random.seed(42)\n",
    "\n",
    "cols = [\"cohesion\", \"syntax\", \"vocabulary\", \"phraseology\", \"grammar\", \"conventions\"]\n",
    "for col in cols:\n",
    "    train_df[col] = train_df[col].values + sigma * np.random.randn(len(train_df))\n",
    "    \n",
    "import os\n",
    "os.makedirs(\"result\", exist_ok=True)\n",
    "train_df.to_csv(\"result/train.csv\", index=False)"
   ]
  },
  {
   "cell_type": "code",
   "execution_count": 4,
   "metadata": {},
   "outputs": [
    {
     "data": {
      "image/png": "[encoded data removed]",
      "text/plain": [
       "<Figure size 432x288 with 1 Axes>"
      ]
     },
     "metadata": {
      "needs_background": "light"
     },
     "output_type": "display_data"
    }
   ],
   "source": [
    "plt.hist(train_df[col].values, bins=100)\n",
    "plt.yscale(\"log\");"
   ]
  },
  {
   "cell_type": "code",
   "execution_count": 5,
   "metadata": {},
   "outputs": [
    {
     "data": {
      "text/plain": [
       "count    3911.000000\n",
       "mean        3.080469\n",
       "std         0.673686\n",
       "min         0.872523\n",
       "25%         2.526526\n",
       "50%         3.016584\n",
       "75%         3.514713\n",
       "max         5.083832\n",
       "Name: conventions, dtype: float64"
      ]
     },
     "execution_count": 5,
     "metadata": {},
     "output_type": "execute_result"
    }
   ],
   "source": [
    "train_df[col].describe()"
   ]
  },
  {
   "cell_type": "code",
   "execution_count": null,
   "metadata": {},
   "outputs": [],
   "source": []
  },
  {
   "cell_type": "code",
   "execution_count": null,
   "metadata": {},
   "outputs": [],
   "source": []
  },
  {
   "cell_type": "code",
   "execution_count": null,
   "metadata": {},
   "outputs": [],
   "source": []
  }
 ],
 "metadata": {
  "kernelspec": {
   "display_name": "Python 3",
   "language": "python",
   "name": "python3"
  },
  "language_info": {
   "codemirror_mode": {
    "name": "ipython",
    "version": 3
   },
   "file_extension": ".py",
   "mimetype": "text/x-python",
   "name": "python",
   "nbconvert_exporter": "python",
   "pygments_lexer": "ipython3",
   "version": "3.7.8"
  },
  "papermill": {
   "default_parameters": {},
   "duration": 16.074921,
   "end_time": "2022-08-31T02:20:21.461125",
   "environment_variables": {},
   "exception": null,
   "input_path": "__notebook__.ipynb",
   "output_path": "__notebook__.ipynb",
   "parameters": {},
   "start_time": "2022-08-31T02:20:05.386204",
   "version": "2.3.4"
  }
 },
 "nbformat": 4,
 "nbformat_minor": 5
}
