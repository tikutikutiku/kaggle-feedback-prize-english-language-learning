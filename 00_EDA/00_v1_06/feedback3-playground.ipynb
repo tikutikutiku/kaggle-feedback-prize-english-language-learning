{
 "cells": [
  {
   "cell_type": "markdown",
   "metadata": {
    "papermill": {
     "duration": 0.003591,
     "end_time": "2022-08-31T02:20:16.514559",
     "exception": false,
     "start_time": "2022-08-31T02:20:16.510968",
     "status": "completed"
    },
    "tags": []
   },
   "source": [
    "# Import Libraries and Data"
   ]
  },
  {
   "cell_type": "code",
   "execution_count": 1,
   "metadata": {
    "_cell_guid": "b1076dfc-b9ad-4769-8c92-a6c4dae69d19",
    "_uuid": "8f2839f25d086af736a60e9eeb907d3b93b6e0e5",
    "execution": {
     "iopub.execute_input": "2022-08-31T02:20:16.523488Z",
     "iopub.status.busy": "2022-08-31T02:20:16.522943Z",
     "iopub.status.idle": "2022-08-31T02:20:16.539860Z",
     "shell.execute_reply": "2022-08-31T02:20:16.538702Z"
    },
    "papermill": {
     "duration": 0.02457,
     "end_time": "2022-08-31T02:20:16.542635",
     "exception": false,
     "start_time": "2022-08-31T02:20:16.518065",
     "status": "completed"
    },
    "tags": []
   },
   "outputs": [],
   "source": [
    "import numpy as np\n",
    "import pandas as pd\n",
    "pd.get_option(\"display.max_columns\")\n",
    "pd.set_option('display.max_columns', 300)\n",
    "pd.get_option(\"display.max_rows\")\n",
    "pd.set_option('display.max_rows', 300)\n",
    "\n",
    "import matplotlib.pyplot as plt\n",
    "%matplotlib inline\n",
    "\n",
    "import os\n",
    "from os.path import join as opj\n",
    "import gc\n",
    "\n",
    "#INPUT_PATH = '../../input/feedback-prize-english-language-learning/'\n",
    "INPUT_PATH = '../../00_EDA/00_v1_05/result/similar_df.csv'"
   ]
  },
  {
   "cell_type": "code",
   "execution_count": 2,
   "metadata": {
    "execution": {
     "iopub.execute_input": "2022-08-31T02:20:16.551414Z",
     "iopub.status.busy": "2022-08-31T02:20:16.551017Z",
     "iopub.status.idle": "2022-08-31T02:20:16.772536Z",
     "shell.execute_reply": "2022-08-31T02:20:16.771274Z"
    },
    "papermill": {
     "duration": 0.2292,
     "end_time": "2022-08-31T02:20:16.775378",
     "exception": false,
     "start_time": "2022-08-31T02:20:16.546178",
     "status": "completed"
    },
    "tags": []
   },
   "outputs": [
    {
     "name": "stdout",
     "output_type": "stream",
     "text": [
      "train_df.shape =  (3351, 2)\n"
     ]
    }
   ],
   "source": [
    "#train_df = pd.read_csv(opj(INPUT_PATH, 'train.csv'))\n",
    "train_df = pd.read_csv(INPUT_PATH)\n",
    "print('train_df.shape = ', train_df.shape)"
   ]
  },
  {
   "cell_type": "markdown",
   "metadata": {
    "papermill": {
     "duration": 0.00339,
     "end_time": "2022-08-31T02:20:16.782521",
     "exception": false,
     "start_time": "2022-08-31T02:20:16.779131",
     "status": "completed"
    },
    "tags": []
   },
   "source": [
    "# Look at Data"
   ]
  },
  {
   "cell_type": "code",
   "execution_count": 3,
   "metadata": {},
   "outputs": [
    {
     "data": {
      "text/html": [
       "<div>\n",
       "<style scoped>\n",
       "    .dataframe tbody tr th:only-of-type {\n",
       "        vertical-align: middle;\n",
       "    }\n",
       "\n",
       "    .dataframe tbody tr th {\n",
       "        vertical-align: top;\n",
       "    }\n",
       "\n",
       "    .dataframe thead th {\n",
       "        text-align: right;\n",
       "    }\n",
       "</style>\n",
       "<table border=\"1\" class=\"dataframe\">\n",
       "  <thead>\n",
       "    <tr style=\"text-align: right;\">\n",
       "      <th></th>\n",
       "      <th>id</th>\n",
       "      <th>full_text</th>\n",
       "    </tr>\n",
       "  </thead>\n",
       "  <tbody>\n",
       "    <tr>\n",
       "      <th>0</th>\n",
       "      <td>000E6DE9E817</td>\n",
       "      <td>Dear: Principal\\n\\nI am arguing against the po...</td>\n",
       "    </tr>\n",
       "    <tr>\n",
       "      <th>1</th>\n",
       "      <td>0056F3D261D5</td>\n",
       "      <td>Millions of students from various cultures and...</td>\n",
       "    </tr>\n",
       "    <tr>\n",
       "      <th>2</th>\n",
       "      <td>005D28D3FEC2</td>\n",
       "      <td>Dear principal,\\n\\nI think that it is wrong fo...</td>\n",
       "    </tr>\n",
       "    <tr>\n",
       "      <th>3</th>\n",
       "      <td>007812CC14B2</td>\n",
       "      <td>School isn't the funneist things that kids wan...</td>\n",
       "    </tr>\n",
       "    <tr>\n",
       "      <th>4</th>\n",
       "      <td>008015604AA0</td>\n",
       "      <td>Distance learning provides an opportunity for ...</td>\n",
       "    </tr>\n",
       "  </tbody>\n",
       "</table>\n",
       "</div>"
      ],
      "text/plain": [
       "             id                                          full_text\n",
       "0  000E6DE9E817  Dear: Principal\\n\\nI am arguing against the po...\n",
       "1  0056F3D261D5  Millions of students from various cultures and...\n",
       "2  005D28D3FEC2  Dear principal,\\n\\nI think that it is wrong fo...\n",
       "3  007812CC14B2  School isn't the funneist things that kids wan...\n",
       "4  008015604AA0  Distance learning provides an opportunity for ..."
      ]
     },
     "execution_count": 3,
     "metadata": {},
     "output_type": "execute_result"
    }
   ],
   "source": [
    "train_df.head()"
   ]
  },
  {
   "cell_type": "markdown",
   "metadata": {
    "papermill": {
     "duration": 0.00346,
     "end_time": "2022-08-31T02:20:16.827521",
     "exception": false,
     "start_time": "2022-08-31T02:20:16.824061",
     "status": "completed"
    },
    "tags": []
   },
   "source": [
    "# EDA"
   ]
  },
  {
   "cell_type": "markdown",
   "metadata": {
    "papermill": {
     "duration": 0.004674,
     "end_time": "2022-08-31T02:20:20.733846",
     "exception": false,
     "start_time": "2022-08-31T02:20:20.729172",
     "status": "completed"
    },
    "tags": []
   },
   "source": [
    "# Crate Folds"
   ]
  },
  {
   "cell_type": "code",
   "execution_count": 4,
   "metadata": {},
   "outputs": [],
   "source": [
    "import numpy as np\n",
    "#from iterstrat.ml_stratifiers import MultilabelStratifiedKFold\n",
    "from sklearn.model_selection import KFold\n",
    "\n",
    "def get_fold_ids_list(n_folds, ids, seed):\n",
    "    kfold = KFold(n_splits=n_folds,\n",
    "                  shuffle=True,\n",
    "                  random_state=seed)\n",
    "    trn_ids_list = []\n",
    "    val_ids_list = []\n",
    "    for trn_idx, val_idx in kfold.split(ids,ids):\n",
    "        trn_ids_list.append(ids[np.array(trn_idx)])\n",
    "        val_ids_list.append(ids[np.array(val_idx)])\n",
    "    return trn_ids_list, val_ids_list"
   ]
  },
  {
   "cell_type": "code",
   "execution_count": 5,
   "metadata": {},
   "outputs": [],
   "source": [
    "N_FOLDS = 5\n",
    "SEED = 100\n",
    "\n",
    "trn_ids_list, val_ids_list = get_fold_ids_list(n_folds=N_FOLDS,\n",
    "                                               ids=train_df['id'].values,\n",
    "                                               seed=SEED)"
   ]
  },
  {
   "cell_type": "code",
   "execution_count": 6,
   "metadata": {},
   "outputs": [
    {
     "data": {
      "text/plain": [
       "['./result/val_ids_list.joblib']"
      ]
     },
     "execution_count": 6,
     "metadata": {},
     "output_type": "execute_result"
    }
   ],
   "source": [
    "import joblib\n",
    "import os\n",
    "\n",
    "os.makedirs('./result', exist_ok=True)\n",
    "joblib.dump(trn_ids_list, './result/trn_ids_list.joblib')\n",
    "joblib.dump(val_ids_list, './result/val_ids_list.joblib')"
   ]
  },
  {
   "cell_type": "code",
   "execution_count": 7,
   "metadata": {},
   "outputs": [
    {
     "name": "stdout",
     "output_type": "stream",
     "text": [
      "2680 671\n",
      "2681 670\n",
      "2681 670\n",
      "2681 670\n",
      "2681 670\n"
     ]
    }
   ],
   "source": [
    "for fold in range(N_FOLDS):\n",
    "    print(len(trn_ids_list[fold]), len(val_ids_list[fold]))"
   ]
  },
  {
   "cell_type": "code",
   "execution_count": null,
   "metadata": {},
   "outputs": [],
   "source": []
  }
 ],
 "metadata": {
  "kernelspec": {
   "display_name": "Python 3",
   "language": "python",
   "name": "python3"
  },
  "language_info": {
   "codemirror_mode": {
    "name": "ipython",
    "version": 3
   },
   "file_extension": ".py",
   "mimetype": "text/x-python",
   "name": "python",
   "nbconvert_exporter": "python",
   "pygments_lexer": "ipython3",
   "version": "3.7.8"
  },
  "papermill": {
   "default_parameters": {},
   "duration": 16.074921,
   "end_time": "2022-08-31T02:20:21.461125",
   "environment_variables": {},
   "exception": null,
   "input_path": "__notebook__.ipynb",
   "output_path": "__notebook__.ipynb",
   "parameters": {},
   "start_time": "2022-08-31T02:20:05.386204",
   "version": "2.3.4"
  }
 },
 "nbformat": 4,
 "nbformat_minor": 5
}
