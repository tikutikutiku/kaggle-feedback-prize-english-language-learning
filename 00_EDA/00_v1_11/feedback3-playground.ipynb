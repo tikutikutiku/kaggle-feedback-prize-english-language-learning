{
 "cells": [
  {
   "cell_type": "markdown",
   "metadata": {
    "papermill": {
     "duration": 0.003591,
     "end_time": "2022-08-31T02:20:16.514559",
     "exception": false,
     "start_time": "2022-08-31T02:20:16.510968",
     "status": "completed"
    },
    "tags": []
   },
   "source": [
    "# Import Libraries and Data"
   ]
  },
  {
   "cell_type": "code",
   "execution_count": 1,
   "metadata": {
    "_cell_guid": "b1076dfc-b9ad-4769-8c92-a6c4dae69d19",
    "_uuid": "8f2839f25d086af736a60e9eeb907d3b93b6e0e5",
    "execution": {
     "iopub.execute_input": "2022-08-31T02:20:16.523488Z",
     "iopub.status.busy": "2022-08-31T02:20:16.522943Z",
     "iopub.status.idle": "2022-08-31T02:20:16.539860Z",
     "shell.execute_reply": "2022-08-31T02:20:16.538702Z"
    },
    "papermill": {
     "duration": 0.02457,
     "end_time": "2022-08-31T02:20:16.542635",
     "exception": false,
     "start_time": "2022-08-31T02:20:16.518065",
     "status": "completed"
    },
    "tags": []
   },
   "outputs": [],
   "source": [
    "import numpy as np\n",
    "import pandas as pd\n",
    "pd.get_option(\"display.max_columns\")\n",
    "pd.set_option('display.max_columns', 300)\n",
    "pd.get_option(\"display.max_rows\")\n",
    "pd.set_option('display.max_rows', 300)\n",
    "\n",
    "import matplotlib.pyplot as plt\n",
    "%matplotlib inline\n",
    "\n",
    "import os\n",
    "from os.path import join as opj\n",
    "import gc\n",
    "\n",
    "INPUT_PATH = '../../input/feedback-prize-english-language-learning/'"
   ]
  },
  {
   "cell_type": "code",
   "execution_count": 2,
   "metadata": {
    "execution": {
     "iopub.execute_input": "2022-08-31T02:20:16.551414Z",
     "iopub.status.busy": "2022-08-31T02:20:16.551017Z",
     "iopub.status.idle": "2022-08-31T02:20:16.772536Z",
     "shell.execute_reply": "2022-08-31T02:20:16.771274Z"
    },
    "papermill": {
     "duration": 0.2292,
     "end_time": "2022-08-31T02:20:16.775378",
     "exception": false,
     "start_time": "2022-08-31T02:20:16.546178",
     "status": "completed"
    },
    "tags": []
   },
   "outputs": [
    {
     "name": "stdout",
     "output_type": "stream",
     "text": [
      "train_df.shape =  (3911, 8)\n",
      "test_df.shape =  (3, 2)\n",
      "sub_df.shape =  (3, 7)\n"
     ]
    }
   ],
   "source": [
    "train_df = pd.read_csv(opj(INPUT_PATH, 'train.csv'))\n",
    "test_df = pd.read_csv(opj(INPUT_PATH, 'test.csv'))\n",
    "sub_df = pd.read_csv(opj(INPUT_PATH, 'sample_submission.csv'))\n",
    "\n",
    "print('train_df.shape = ', train_df.shape)\n",
    "print('test_df.shape = ', test_df.shape)\n",
    "print('sub_df.shape = ', sub_df.shape)"
   ]
  },
  {
   "cell_type": "markdown",
   "metadata": {
    "papermill": {
     "duration": 0.00339,
     "end_time": "2022-08-31T02:20:16.782521",
     "exception": false,
     "start_time": "2022-08-31T02:20:16.779131",
     "status": "completed"
    },
    "tags": []
   },
   "source": [
    "# Look at Data"
   ]
  },
  {
   "cell_type": "code",
   "execution_count": 3,
   "metadata": {
    "execution": {
     "iopub.execute_input": "2022-08-31T02:20:16.791142Z",
     "iopub.status.busy": "2022-08-31T02:20:16.790727Z",
     "iopub.status.idle": "2022-08-31T02:20:16.817750Z",
     "shell.execute_reply": "2022-08-31T02:20:16.816417Z"
    },
    "papermill": {
     "duration": 0.034025,
     "end_time": "2022-08-31T02:20:16.820065",
     "exception": false,
     "start_time": "2022-08-31T02:20:16.786040",
     "status": "completed"
    },
    "tags": []
   },
   "outputs": [
    {
     "data": {
      "text/html": [
       "<div>\n",
       "<style scoped>\n",
       "    .dataframe tbody tr th:only-of-type {\n",
       "        vertical-align: middle;\n",
       "    }\n",
       "\n",
       "    .dataframe tbody tr th {\n",
       "        vertical-align: top;\n",
       "    }\n",
       "\n",
       "    .dataframe thead th {\n",
       "        text-align: right;\n",
       "    }\n",
       "</style>\n",
       "<table border=\"1\" class=\"dataframe\">\n",
       "  <thead>\n",
       "    <tr style=\"text-align: right;\">\n",
       "      <th></th>\n",
       "      <th>text_id</th>\n",
       "      <th>full_text</th>\n",
       "      <th>cohesion</th>\n",
       "      <th>syntax</th>\n",
       "      <th>vocabulary</th>\n",
       "      <th>phraseology</th>\n",
       "      <th>grammar</th>\n",
       "      <th>conventions</th>\n",
       "    </tr>\n",
       "  </thead>\n",
       "  <tbody>\n",
       "    <tr>\n",
       "      <th>0</th>\n",
       "      <td>0016926B079C</td>\n",
       "      <td>I think that students would benefit from learn...</td>\n",
       "      <td>3.5</td>\n",
       "      <td>3.5</td>\n",
       "      <td>3.0</td>\n",
       "      <td>3.0</td>\n",
       "      <td>4.0</td>\n",
       "      <td>3.0</td>\n",
       "    </tr>\n",
       "    <tr>\n",
       "      <th>1</th>\n",
       "      <td>0022683E9EA5</td>\n",
       "      <td>When a problem is a change you have to let it ...</td>\n",
       "      <td>2.5</td>\n",
       "      <td>2.5</td>\n",
       "      <td>3.0</td>\n",
       "      <td>2.0</td>\n",
       "      <td>2.0</td>\n",
       "      <td>2.5</td>\n",
       "    </tr>\n",
       "    <tr>\n",
       "      <th>2</th>\n",
       "      <td>00299B378633</td>\n",
       "      <td>Dear, Principal\\n\\nIf u change the school poli...</td>\n",
       "      <td>3.0</td>\n",
       "      <td>3.5</td>\n",
       "      <td>3.0</td>\n",
       "      <td>3.0</td>\n",
       "      <td>3.0</td>\n",
       "      <td>2.5</td>\n",
       "    </tr>\n",
       "    <tr>\n",
       "      <th>3</th>\n",
       "      <td>003885A45F42</td>\n",
       "      <td>The best time in life is when you become yours...</td>\n",
       "      <td>4.5</td>\n",
       "      <td>4.5</td>\n",
       "      <td>4.5</td>\n",
       "      <td>4.5</td>\n",
       "      <td>4.0</td>\n",
       "      <td>5.0</td>\n",
       "    </tr>\n",
       "    <tr>\n",
       "      <th>4</th>\n",
       "      <td>0049B1DF5CCC</td>\n",
       "      <td>Small act of kindness can impact in other peop...</td>\n",
       "      <td>2.5</td>\n",
       "      <td>3.0</td>\n",
       "      <td>3.0</td>\n",
       "      <td>3.0</td>\n",
       "      <td>2.5</td>\n",
       "      <td>2.5</td>\n",
       "    </tr>\n",
       "  </tbody>\n",
       "</table>\n",
       "</div>"
      ],
      "text/plain": [
       "        text_id                                          full_text  cohesion  \\\n",
       "0  0016926B079C  I think that students would benefit from learn...       3.5   \n",
       "1  0022683E9EA5  When a problem is a change you have to let it ...       2.5   \n",
       "2  00299B378633  Dear, Principal\\n\\nIf u change the school poli...       3.0   \n",
       "3  003885A45F42  The best time in life is when you become yours...       4.5   \n",
       "4  0049B1DF5CCC  Small act of kindness can impact in other peop...       2.5   \n",
       "\n",
       "   syntax  vocabulary  phraseology  grammar  conventions  \n",
       "0     3.5         3.0          3.0      4.0          3.0  \n",
       "1     2.5         3.0          2.0      2.0          2.5  \n",
       "2     3.5         3.0          3.0      3.0          2.5  \n",
       "3     4.5         4.5          4.5      4.0          5.0  \n",
       "4     3.0         3.0          3.0      2.5          2.5  "
      ]
     },
     "execution_count": 3,
     "metadata": {},
     "output_type": "execute_result"
    }
   ],
   "source": [
    "train_df.head()"
   ]
  },
  {
   "cell_type": "markdown",
   "metadata": {
    "papermill": {
     "duration": 0.00346,
     "end_time": "2022-08-31T02:20:16.827521",
     "exception": false,
     "start_time": "2022-08-31T02:20:16.824061",
     "status": "completed"
    },
    "tags": []
   },
   "source": [
    "# EDA"
   ]
  },
  {
   "cell_type": "code",
   "execution_count": 4,
   "metadata": {
    "execution": {
     "iopub.execute_input": "2022-08-31T02:20:16.837107Z",
     "iopub.status.busy": "2022-08-31T02:20:16.836235Z",
     "iopub.status.idle": "2022-08-31T02:20:18.845049Z",
     "shell.execute_reply": "2022-08-31T02:20:18.843925Z"
    },
    "papermill": {
     "duration": 2.0163,
     "end_time": "2022-08-31T02:20:18.847505",
     "exception": false,
     "start_time": "2022-08-31T02:20:16.831205",
     "status": "completed"
    },
    "tags": []
   },
   "outputs": [
    {
     "data": {
      "image/png": "[encoded data removed]",
      "text/plain": [
       "<Figure size 1440x2160 with 6 Axes>"
      ]
     },
     "metadata": {
      "needs_background": "light"
     },
     "output_type": "display_data"
    }
   ],
   "source": [
    "cols = ['cohesion','syntax','vocabulary','phraseology','grammar','conventions']\n",
    "\n",
    "plt.figure(figsize=(20,30))\n",
    "for i,col in enumerate(cols):\n",
    "    plt.subplot(6,2,i+1)\n",
    "    plt.hist(train_df[col], bins=100)\n",
    "    plt.title(col)\n",
    "    plt.grid()\n",
    "plt.show()"
   ]
  },
  {
   "cell_type": "markdown",
   "metadata": {
    "papermill": {
     "duration": 0.004538,
     "end_time": "2022-08-31T02:20:18.856659",
     "exception": false,
     "start_time": "2022-08-31T02:20:18.852121",
     "status": "completed"
    },
    "tags": []
   },
   "source": [
    "# Check Corr for Sampled Batches"
   ]
  },
  {
   "cell_type": "code",
   "execution_count": 5,
   "metadata": {},
   "outputs": [
    {
     "data": {
      "text/html": [
       "<div>\n",
       "<style scoped>\n",
       "    .dataframe tbody tr th:only-of-type {\n",
       "        vertical-align: middle;\n",
       "    }\n",
       "\n",
       "    .dataframe tbody tr th {\n",
       "        vertical-align: top;\n",
       "    }\n",
       "\n",
       "    .dataframe thead th {\n",
       "        text-align: right;\n",
       "    }\n",
       "</style>\n",
       "<table border=\"1\" class=\"dataframe\">\n",
       "  <thead>\n",
       "    <tr style=\"text-align: right;\">\n",
       "      <th></th>\n",
       "      <th>cohesion</th>\n",
       "      <th>syntax</th>\n",
       "      <th>vocabulary</th>\n",
       "      <th>phraseology</th>\n",
       "      <th>grammar</th>\n",
       "      <th>conventions</th>\n",
       "    </tr>\n",
       "  </thead>\n",
       "  <tbody>\n",
       "    <tr>\n",
       "      <th>cohesion</th>\n",
       "      <td>1.000000</td>\n",
       "      <td>0.695459</td>\n",
       "      <td>0.666151</td>\n",
       "      <td>0.690058</td>\n",
       "      <td>0.638689</td>\n",
       "      <td>0.666151</td>\n",
       "    </tr>\n",
       "    <tr>\n",
       "      <th>syntax</th>\n",
       "      <td>0.695459</td>\n",
       "      <td>1.000000</td>\n",
       "      <td>0.680562</td>\n",
       "      <td>0.725467</td>\n",
       "      <td>0.709525</td>\n",
       "      <td>0.700025</td>\n",
       "    </tr>\n",
       "    <tr>\n",
       "      <th>vocabulary</th>\n",
       "      <td>0.666151</td>\n",
       "      <td>0.680562</td>\n",
       "      <td>1.000000</td>\n",
       "      <td>0.735261</td>\n",
       "      <td>0.654852</td>\n",
       "      <td>0.664292</td>\n",
       "    </tr>\n",
       "    <tr>\n",
       "      <th>phraseology</th>\n",
       "      <td>0.690058</td>\n",
       "      <td>0.725467</td>\n",
       "      <td>0.735261</td>\n",
       "      <td>1.000000</td>\n",
       "      <td>0.719746</td>\n",
       "      <td>0.666842</td>\n",
       "    </tr>\n",
       "    <tr>\n",
       "      <th>grammar</th>\n",
       "      <td>0.638689</td>\n",
       "      <td>0.709525</td>\n",
       "      <td>0.654852</td>\n",
       "      <td>0.719746</td>\n",
       "      <td>1.000000</td>\n",
       "      <td>0.673301</td>\n",
       "    </tr>\n",
       "    <tr>\n",
       "      <th>conventions</th>\n",
       "      <td>0.666151</td>\n",
       "      <td>0.700025</td>\n",
       "      <td>0.664292</td>\n",
       "      <td>0.666842</td>\n",
       "      <td>0.673301</td>\n",
       "      <td>1.000000</td>\n",
       "    </tr>\n",
       "  </tbody>\n",
       "</table>\n",
       "</div>"
      ],
      "text/plain": [
       "             cohesion    syntax  vocabulary  phraseology   grammar  \\\n",
       "cohesion     1.000000  0.695459    0.666151     0.690058  0.638689   \n",
       "syntax       0.695459  1.000000    0.680562     0.725467  0.709525   \n",
       "vocabulary   0.666151  0.680562    1.000000     0.735261  0.654852   \n",
       "phraseology  0.690058  0.725467    0.735261     1.000000  0.719746   \n",
       "grammar      0.638689  0.709525    0.654852     0.719746  1.000000   \n",
       "conventions  0.666151  0.700025    0.664292     0.666842  0.673301   \n",
       "\n",
       "             conventions  \n",
       "cohesion        0.666151  \n",
       "syntax          0.700025  \n",
       "vocabulary      0.664292  \n",
       "phraseology     0.666842  \n",
       "grammar         0.673301  \n",
       "conventions     1.000000  "
      ]
     },
     "execution_count": 5,
     "metadata": {},
     "output_type": "execute_result"
    }
   ],
   "source": [
    "cols = ['cohesion','syntax','vocabulary','phraseology','grammar','conventions']\n",
    "train_df[cols].corr()"
   ]
  },
  {
   "cell_type": "code",
   "execution_count": 13,
   "metadata": {},
   "outputs": [
    {
     "data": {
      "text/html": [
       "<div>\n",
       "<style scoped>\n",
       "    .dataframe tbody tr th:only-of-type {\n",
       "        vertical-align: middle;\n",
       "    }\n",
       "\n",
       "    .dataframe tbody tr th {\n",
       "        vertical-align: top;\n",
       "    }\n",
       "\n",
       "    .dataframe thead th {\n",
       "        text-align: right;\n",
       "    }\n",
       "</style>\n",
       "<table border=\"1\" class=\"dataframe\">\n",
       "  <thead>\n",
       "    <tr style=\"text-align: right;\">\n",
       "      <th></th>\n",
       "      <th>cohesion</th>\n",
       "      <th>syntax</th>\n",
       "      <th>vocabulary</th>\n",
       "      <th>phraseology</th>\n",
       "      <th>grammar</th>\n",
       "      <th>conventions</th>\n",
       "    </tr>\n",
       "  </thead>\n",
       "  <tbody>\n",
       "    <tr>\n",
       "      <th>cohesion</th>\n",
       "      <td>1.000000</td>\n",
       "      <td>0.663969</td>\n",
       "      <td>0.565583</td>\n",
       "      <td>0.677649</td>\n",
       "      <td>0.573328</td>\n",
       "      <td>0.795747</td>\n",
       "    </tr>\n",
       "    <tr>\n",
       "      <th>syntax</th>\n",
       "      <td>0.663969</td>\n",
       "      <td>1.000000</td>\n",
       "      <td>0.494967</td>\n",
       "      <td>0.694139</td>\n",
       "      <td>0.646548</td>\n",
       "      <td>0.609624</td>\n",
       "    </tr>\n",
       "    <tr>\n",
       "      <th>vocabulary</th>\n",
       "      <td>0.565583</td>\n",
       "      <td>0.494967</td>\n",
       "      <td>1.000000</td>\n",
       "      <td>0.678641</td>\n",
       "      <td>0.471710</td>\n",
       "      <td>0.510894</td>\n",
       "    </tr>\n",
       "    <tr>\n",
       "      <th>phraseology</th>\n",
       "      <td>0.677649</td>\n",
       "      <td>0.694139</td>\n",
       "      <td>0.678641</td>\n",
       "      <td>1.000000</td>\n",
       "      <td>0.624424</td>\n",
       "      <td>0.655099</td>\n",
       "    </tr>\n",
       "    <tr>\n",
       "      <th>grammar</th>\n",
       "      <td>0.573328</td>\n",
       "      <td>0.646548</td>\n",
       "      <td>0.471710</td>\n",
       "      <td>0.624424</td>\n",
       "      <td>1.000000</td>\n",
       "      <td>0.652412</td>\n",
       "    </tr>\n",
       "    <tr>\n",
       "      <th>conventions</th>\n",
       "      <td>0.795747</td>\n",
       "      <td>0.609624</td>\n",
       "      <td>0.510894</td>\n",
       "      <td>0.655099</td>\n",
       "      <td>0.652412</td>\n",
       "      <td>1.000000</td>\n",
       "    </tr>\n",
       "  </tbody>\n",
       "</table>\n",
       "</div>"
      ],
      "text/plain": [
       "             cohesion    syntax  vocabulary  phraseology   grammar  \\\n",
       "cohesion     1.000000  0.663969    0.565583     0.677649  0.573328   \n",
       "syntax       0.663969  1.000000    0.494967     0.694139  0.646548   \n",
       "vocabulary   0.565583  0.494967    1.000000     0.678641  0.471710   \n",
       "phraseology  0.677649  0.694139    0.678641     1.000000  0.624424   \n",
       "grammar      0.573328  0.646548    0.471710     0.624424  1.000000   \n",
       "conventions  0.795747  0.609624    0.510894     0.655099  0.652412   \n",
       "\n",
       "             conventions  \n",
       "cohesion        0.795747  \n",
       "syntax          0.609624  \n",
       "vocabulary      0.510894  \n",
       "phraseology     0.655099  \n",
       "grammar         0.652412  \n",
       "conventions     1.000000  "
      ]
     },
     "execution_count": 13,
     "metadata": {},
     "output_type": "execute_result"
    }
   ],
   "source": [
    "BATCH_SIZE = 16\n",
    "N_ITE = 3\n",
    "\n",
    "corr = 0\n",
    "for i in range(N_ITE):\n",
    "    corr += train_df.sample(BATCH_SIZE, random_state=i, replace=False)[cols].corr() / N_ITE\n",
    "corr"
   ]
  },
  {
   "cell_type": "code",
   "execution_count": null,
   "metadata": {},
   "outputs": [],
   "source": []
  },
  {
   "cell_type": "code",
   "execution_count": null,
   "metadata": {},
   "outputs": [],
   "source": []
  },
  {
   "cell_type": "code",
   "execution_count": null,
   "metadata": {},
   "outputs": [],
   "source": []
  },
  {
   "cell_type": "code",
   "execution_count": null,
   "metadata": {},
   "outputs": [],
   "source": []
  },
  {
   "cell_type": "code",
   "execution_count": null,
   "metadata": {},
   "outputs": [],
   "source": []
  },
  {
   "cell_type": "code",
   "execution_count": null,
   "metadata": {},
   "outputs": [],
   "source": []
  }
 ],
 "metadata": {
  "kernelspec": {
   "display_name": "Python 3",
   "language": "python",
   "name": "python3"
  },
  "language_info": {
   "codemirror_mode": {
    "name": "ipython",
    "version": 3
   },
   "file_extension": ".py",
   "mimetype": "text/x-python",
   "name": "python",
   "nbconvert_exporter": "python",
   "pygments_lexer": "ipython3",
   "version": "3.7.8"
  },
  "papermill": {
   "default_parameters": {},
   "duration": 16.074921,
   "end_time": "2022-08-31T02:20:21.461125",
   "environment_variables": {},
   "exception": null,
   "input_path": "__notebook__.ipynb",
   "output_path": "__notebook__.ipynb",
   "parameters": {},
   "start_time": "2022-08-31T02:20:05.386204",
   "version": "2.3.4"
  }
 },
 "nbformat": 4,
 "nbformat_minor": 5
}
