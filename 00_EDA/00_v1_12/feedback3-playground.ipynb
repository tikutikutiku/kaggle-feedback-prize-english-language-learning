{
 "cells": [
  {
   "cell_type": "markdown",
   "metadata": {
    "papermill": {
     "duration": 0.003591,
     "end_time": "2022-08-31T02:20:16.514559",
     "exception": false,
     "start_time": "2022-08-31T02:20:16.510968",
     "status": "completed"
    },
    "tags": []
   },
   "source": [
    "# Import Libraries and Data"
   ]
  },
  {
   "cell_type": "code",
   "execution_count": 1,
   "metadata": {
    "_cell_guid": "b1076dfc-b9ad-4769-8c92-a6c4dae69d19",
    "_uuid": "8f2839f25d086af736a60e9eeb907d3b93b6e0e5",
    "execution": {
     "iopub.execute_input": "2022-08-31T02:20:16.523488Z",
     "iopub.status.busy": "2022-08-31T02:20:16.522943Z",
     "iopub.status.idle": "2022-08-31T02:20:16.539860Z",
     "shell.execute_reply": "2022-08-31T02:20:16.538702Z"
    },
    "papermill": {
     "duration": 0.02457,
     "end_time": "2022-08-31T02:20:16.542635",
     "exception": false,
     "start_time": "2022-08-31T02:20:16.518065",
     "status": "completed"
    },
    "tags": []
   },
   "outputs": [],
   "source": [
    "import numpy as np\n",
    "import pandas as pd\n",
    "pd.get_option(\"display.max_columns\")\n",
    "pd.set_option('display.max_columns', 300)\n",
    "pd.get_option(\"display.max_rows\")\n",
    "pd.set_option('display.max_rows', 300)\n",
    "\n",
    "import matplotlib.pyplot as plt\n",
    "%matplotlib inline\n",
    "\n",
    "import os\n",
    "from os.path import join as opj\n",
    "import gc\n",
    "\n",
    "INPUT_PATH = '../../input/feedback-prize-english-language-learning/'"
   ]
  },
  {
   "cell_type": "code",
   "execution_count": 2,
   "metadata": {
    "execution": {
     "iopub.execute_input": "2022-08-31T02:20:16.551414Z",
     "iopub.status.busy": "2022-08-31T02:20:16.551017Z",
     "iopub.status.idle": "2022-08-31T02:20:16.772536Z",
     "shell.execute_reply": "2022-08-31T02:20:16.771274Z"
    },
    "papermill": {
     "duration": 0.2292,
     "end_time": "2022-08-31T02:20:16.775378",
     "exception": false,
     "start_time": "2022-08-31T02:20:16.546178",
     "status": "completed"
    },
    "tags": []
   },
   "outputs": [
    {
     "name": "stdout",
     "output_type": "stream",
     "text": [
      "train_df.shape =  (3911, 8)\n",
      "test_df.shape =  (3, 2)\n",
      "sub_df.shape =  (3, 7)\n"
     ]
    }
   ],
   "source": [
    "train_df = pd.read_csv(opj(INPUT_PATH, 'train.csv'))\n",
    "test_df = pd.read_csv(opj(INPUT_PATH, 'test.csv'))\n",
    "sub_df = pd.read_csv(opj(INPUT_PATH, 'sample_submission.csv'))\n",
    "\n",
    "print('train_df.shape = ', train_df.shape)\n",
    "print('test_df.shape = ', test_df.shape)\n",
    "print('sub_df.shape = ', sub_df.shape)"
   ]
  },
  {
   "cell_type": "markdown",
   "metadata": {
    "papermill": {
     "duration": 0.00346,
     "end_time": "2022-08-31T02:20:16.827521",
     "exception": false,
     "start_time": "2022-08-31T02:20:16.824061",
     "status": "completed"
    },
    "tags": []
   },
   "source": [
    "# EDA"
   ]
  },
  {
   "cell_type": "code",
   "execution_count": 3,
   "metadata": {},
   "outputs": [],
   "source": [
    "all_texts = train_df['full_text'].values"
   ]
  },
  {
   "cell_type": "code",
   "execution_count": 4,
   "metadata": {},
   "outputs": [
    {
     "data": {
      "text/plain": [
       "3911"
      ]
     },
     "execution_count": 4,
     "metadata": {},
     "output_type": "execute_result"
    }
   ],
   "source": [
    "len(all_texts)"
   ]
  },
  {
   "cell_type": "code",
   "execution_count": 5,
   "metadata": {},
   "outputs": [
    {
     "name": "stderr",
     "output_type": "stream",
     "text": [
      "Special tokens have been added in the vocabulary, make sure the associated word embeddings are fine-tuned or trained.\n",
      "Special tokens have been added in the vocabulary, make sure the associated word embeddings are fine-tuned or trained.\n"
     ]
    }
   ],
   "source": [
    "from transformers.models.deberta_v2 import DebertaV2TokenizerFast\n",
    "model_name = 'microsoft/deberta-v3-base'\n",
    "tokenizer = DebertaV2TokenizerFast.from_pretrained(model_name, trim_offsets=False)\n",
    "special_tokens_dict = {'additional_special_tokens': ['\\n\\n']}\n",
    "_ = tokenizer.add_special_tokens(special_tokens_dict)"
   ]
  },
  {
   "cell_type": "code",
   "execution_count": 6,
   "metadata": {},
   "outputs": [],
   "source": [
    "# number of tokens\n",
    "token_num_list = []\n",
    "for idx in range(len(all_texts)):\n",
    "    text = all_texts[idx]\n",
    "    token_num = len(tokenizer(text)['input_ids'])\n",
    "    token_num_list.append(token_num)"
   ]
  },
  {
   "cell_type": "code",
   "execution_count": 7,
   "metadata": {},
   "outputs": [
    {
     "data": {
      "image/png": "[encoded data removed]",
      "text/plain": [
       "<Figure size 432x288 with 1 Axes>"
      ]
     },
     "metadata": {
      "needs_background": "light"
     },
     "output_type": "display_data"
    }
   ],
   "source": [
    "plt.hist(token_num_list, bins=100)\n",
    "plt.grid();"
   ]
  },
  {
   "cell_type": "code",
   "execution_count": 8,
   "metadata": {},
   "outputs": [],
   "source": [
    "# unique number of tokens\n",
    "unique_token_num_list = []\n",
    "for idx in range(len(all_texts)):\n",
    "    text = all_texts[idx]\n",
    "    unique_token_num = len(np.unique(tokenizer(text)['input_ids']))\n",
    "    unique_token_num_list.append(unique_token_num)"
   ]
  },
  {
   "cell_type": "code",
   "execution_count": 9,
   "metadata": {},
   "outputs": [
    {
     "data": {
      "image/png": "[encoded data removed]",
      "text/plain": [
       "<Figure size 432x288 with 1 Axes>"
      ]
     },
     "metadata": {
      "needs_background": "light"
     },
     "output_type": "display_data"
    }
   ],
   "source": [
    "plt.hist(unique_token_num_list, bins=100)\n",
    "plt.grid();"
   ]
  },
  {
   "cell_type": "code",
   "execution_count": 10,
   "metadata": {},
   "outputs": [
    {
     "data": {
      "text/html": [
       "<div>\n",
       "<style scoped>\n",
       "    .dataframe tbody tr th:only-of-type {\n",
       "        vertical-align: middle;\n",
       "    }\n",
       "\n",
       "    .dataframe tbody tr th {\n",
       "        vertical-align: top;\n",
       "    }\n",
       "\n",
       "    .dataframe thead th {\n",
       "        text-align: right;\n",
       "    }\n",
       "</style>\n",
       "<table border=\"1\" class=\"dataframe\">\n",
       "  <thead>\n",
       "    <tr style=\"text-align: right;\">\n",
       "      <th></th>\n",
       "      <th>token_num</th>\n",
       "      <th>unique_token_num</th>\n",
       "    </tr>\n",
       "  </thead>\n",
       "  <tbody>\n",
       "    <tr>\n",
       "      <th>token_num</th>\n",
       "      <td>1.0000</td>\n",
       "      <td>0.8688</td>\n",
       "    </tr>\n",
       "    <tr>\n",
       "      <th>unique_token_num</th>\n",
       "      <td>0.8688</td>\n",
       "      <td>1.0000</td>\n",
       "    </tr>\n",
       "  </tbody>\n",
       "</table>\n",
       "</div>"
      ],
      "text/plain": [
       "                  token_num  unique_token_num\n",
       "token_num            1.0000            0.8688\n",
       "unique_token_num     0.8688            1.0000"
      ]
     },
     "execution_count": 10,
     "metadata": {},
     "output_type": "execute_result"
    }
   ],
   "source": [
    "pd.DataFrame({\"token_num\":token_num_list, \"unique_token_num\":unique_token_num_list}).corr()"
   ]
  },
  {
   "cell_type": "code",
   "execution_count": 11,
   "metadata": {},
   "outputs": [],
   "source": [
    "from enchant.checker import SpellChecker\n",
    "import enchant\n",
    "\n",
    "def get_error_count(text):\n",
    "    chkr = SpellChecker(\"en_US\")\n",
    "    chkr.set_text(text)\n",
    "    count = 0\n",
    "    for err in chkr:\n",
    "        count += 1\n",
    "    return count\n",
    "\n",
    "def get_word_count(text):\n",
    "    return len([word for word,pos in enchant.tokenize.en.tokenize(text)])\n",
    "\n",
    "def get_unique_word_count(text):\n",
    "    return len(np.unique([word for word,pos in enchant.tokenize.en.tokenize(text)]))\n",
    "\n",
    "# train_df[\"error_count\"] = train_df[\"full_text\"].apply(lambda x: get_error_count(x))\n",
    "# train_df[\"word_count\"] = train_df[\"full_text\"].apply(lambda x: get_word_count(x))\n",
    "# train_df[\"error_ratio\"] = train_df[\"error_count\"] / train_df[\"word_count\"]\n",
    "# train_df[\"unique_word_count\"] = train_df[\"full_text\"].apply(lambda x: get_unique_word_count(x))\n",
    "# train_df[\"unique_ratio\"] = train_df[\"unique_word_count\"] / train_df[\"word_count\"]"
   ]
  },
  {
   "cell_type": "code",
   "execution_count": 15,
   "metadata": {},
   "outputs": [
    {
     "name": "stdout",
     "output_type": "stream",
     "text": [
      "CPU times: user 1min 15s, sys: 2.79 s, total: 1min 18s\n",
      "Wall time: 1min 18s\n"
     ]
    },
    {
     "data": {
      "text/plain": [
       "array([ 4,  3,  0, ..., 12,  2,  1])"
      ]
     },
     "execution_count": 15,
     "metadata": {},
     "output_type": "execute_result"
    }
   ],
   "source": [
    "%%time\n",
    "np.vectorize(get_error_count)(train_df[\"full_text\"])"
   ]
  },
  {
   "cell_type": "code",
   "execution_count": 16,
   "metadata": {},
   "outputs": [
    {
     "name": "stdout",
     "output_type": "stream",
     "text": [
      "CPU times: user 1min 16s, sys: 2.69 s, total: 1min 19s\n",
      "Wall time: 1min 19s\n"
     ]
    },
    {
     "data": {
      "text/plain": [
       "0        4\n",
       "1        3\n",
       "2        0\n",
       "3        0\n",
       "4       10\n",
       "        ..\n",
       "3906    14\n",
       "3907    14\n",
       "3908    12\n",
       "3909     2\n",
       "3910     1\n",
       "Name: full_text, Length: 3911, dtype: int64"
      ]
     },
     "execution_count": 16,
     "metadata": {},
     "output_type": "execute_result"
    }
   ],
   "source": [
    "%%time \n",
    "train_df[\"full_text\"].apply(lambda x: get_error_count(x))"
   ]
  },
  {
   "cell_type": "code",
   "execution_count": 21,
   "metadata": {},
   "outputs": [
    {
     "name": "stderr",
     "output_type": "stream",
     "text": [
      "100%|██████████| 3911/3911 [00:18<00:00, 212.25it/s]\n",
      "100%|██████████| 3911/3911 [00:00<00:00, 5215.66it/s]\n",
      "100%|██████████| 3911/3911 [00:00<00:00, 4551.41it/s]\n"
     ]
    },
    {
     "name": "stdout",
     "output_type": "stream",
     "text": [
      "CPU times: user 2.28 s, sys: 196 ms, total: 2.48 s\n",
      "Wall time: 21.1 s\n"
     ]
    }
   ],
   "source": [
    "%%time\n",
    "from tqdm import tqdm\n",
    "from joblib import Parallel, delayed\n",
    "\n",
    "train_df[\"error_count\"] = Parallel(n_jobs=-1)(delayed(get_error_count)(x) for x in tqdm(train_df[\"full_text\"].values))\n",
    "train_df[\"word_count\"] = Parallel(n_jobs=-1)(delayed(get_word_count)(x) for x in tqdm(train_df[\"full_text\"].values))\n",
    "train_df[\"error_ratio\"] = train_df[\"error_count\"] / train_df[\"word_count\"]\n",
    "train_df[\"unique_word_count\"] = Parallel(n_jobs=-1)(delayed(get_unique_word_count)(x) for x in tqdm(train_df[\"full_text\"].values))\n",
    "train_df[\"unique_ratio\"] = train_df[\"unique_word_count\"] / train_df[\"word_count\"]"
   ]
  },
  {
   "cell_type": "code",
   "execution_count": null,
   "metadata": {},
   "outputs": [],
   "source": [
    "# train_df[\"error_count\"] = train_df[\"full_text\"].apply(lambda x: get_error_count(x))\n",
    "# train_df[\"word_count\"] = train_df[\"full_text\"].apply(lambda x: get_word_count(x))\n",
    "# train_df[\"error_ratio\"] = train_df[\"error_count\"] / train_df[\"word_count\"]\n",
    "# train_df[\"unique_word_count\"] = train_df[\"full_text\"].apply(lambda x: get_unique_word_count(x))\n",
    "# train_df[\"unique_ratio\"] = train_df[\"unique_word_count\"] / train_df[\"word_count\"]"
   ]
  },
  {
   "cell_type": "code",
   "execution_count": 22,
   "metadata": {},
   "outputs": [
    {
     "data": {
      "text/html": [
       "<div>\n",
       "<style scoped>\n",
       "    .dataframe tbody tr th:only-of-type {\n",
       "        vertical-align: middle;\n",
       "    }\n",
       "\n",
       "    .dataframe tbody tr th {\n",
       "        vertical-align: top;\n",
       "    }\n",
       "\n",
       "    .dataframe thead th {\n",
       "        text-align: right;\n",
       "    }\n",
       "</style>\n",
       "<table border=\"1\" class=\"dataframe\">\n",
       "  <thead>\n",
       "    <tr style=\"text-align: right;\">\n",
       "      <th></th>\n",
       "      <th>text_id</th>\n",
       "      <th>full_text</th>\n",
       "      <th>cohesion</th>\n",
       "      <th>syntax</th>\n",
       "      <th>vocabulary</th>\n",
       "      <th>phraseology</th>\n",
       "      <th>grammar</th>\n",
       "      <th>conventions</th>\n",
       "      <th>error_count</th>\n",
       "      <th>word_count</th>\n",
       "      <th>error_ratio</th>\n",
       "      <th>unique_word_count</th>\n",
       "      <th>unique_ratio</th>\n",
       "    </tr>\n",
       "  </thead>\n",
       "  <tbody>\n",
       "    <tr>\n",
       "      <th>0</th>\n",
       "      <td>0016926B079C</td>\n",
       "      <td>I think that students would benefit from learn...</td>\n",
       "      <td>3.5</td>\n",
       "      <td>3.5</td>\n",
       "      <td>3.0</td>\n",
       "      <td>3.0</td>\n",
       "      <td>4.0</td>\n",
       "      <td>3.0</td>\n",
       "      <td>4</td>\n",
       "      <td>262</td>\n",
       "      <td>0.015267</td>\n",
       "      <td>134</td>\n",
       "      <td>0.511450</td>\n",
       "    </tr>\n",
       "    <tr>\n",
       "      <th>1</th>\n",
       "      <td>0022683E9EA5</td>\n",
       "      <td>When a problem is a change you have to let it ...</td>\n",
       "      <td>2.5</td>\n",
       "      <td>2.5</td>\n",
       "      <td>3.0</td>\n",
       "      <td>2.0</td>\n",
       "      <td>2.0</td>\n",
       "      <td>2.5</td>\n",
       "      <td>3</td>\n",
       "      <td>533</td>\n",
       "      <td>0.005629</td>\n",
       "      <td>141</td>\n",
       "      <td>0.264540</td>\n",
       "    </tr>\n",
       "    <tr>\n",
       "      <th>2</th>\n",
       "      <td>00299B378633</td>\n",
       "      <td>Dear, Principal\\n\\nIf u change the school poli...</td>\n",
       "      <td>3.0</td>\n",
       "      <td>3.5</td>\n",
       "      <td>3.0</td>\n",
       "      <td>3.0</td>\n",
       "      <td>3.0</td>\n",
       "      <td>2.5</td>\n",
       "      <td>0</td>\n",
       "      <td>320</td>\n",
       "      <td>0.000000</td>\n",
       "      <td>122</td>\n",
       "      <td>0.381250</td>\n",
       "    </tr>\n",
       "    <tr>\n",
       "      <th>3</th>\n",
       "      <td>003885A45F42</td>\n",
       "      <td>The best time in life is when you become yours...</td>\n",
       "      <td>4.5</td>\n",
       "      <td>4.5</td>\n",
       "      <td>4.5</td>\n",
       "      <td>4.5</td>\n",
       "      <td>4.0</td>\n",
       "      <td>5.0</td>\n",
       "      <td>0</td>\n",
       "      <td>727</td>\n",
       "      <td>0.000000</td>\n",
       "      <td>221</td>\n",
       "      <td>0.303989</td>\n",
       "    </tr>\n",
       "    <tr>\n",
       "      <th>4</th>\n",
       "      <td>0049B1DF5CCC</td>\n",
       "      <td>Small act of kindness can impact in other peop...</td>\n",
       "      <td>2.5</td>\n",
       "      <td>3.0</td>\n",
       "      <td>3.0</td>\n",
       "      <td>3.0</td>\n",
       "      <td>2.5</td>\n",
       "      <td>2.5</td>\n",
       "      <td>10</td>\n",
       "      <td>234</td>\n",
       "      <td>0.042735</td>\n",
       "      <td>105</td>\n",
       "      <td>0.448718</td>\n",
       "    </tr>\n",
       "  </tbody>\n",
       "</table>\n",
       "</div>"
      ],
      "text/plain": [
       "        text_id                                          full_text  cohesion  \\\n",
       "0  0016926B079C  I think that students would benefit from learn...       3.5   \n",
       "1  0022683E9EA5  When a problem is a change you have to let it ...       2.5   \n",
       "2  00299B378633  Dear, Principal\\n\\nIf u change the school poli...       3.0   \n",
       "3  003885A45F42  The best time in life is when you become yours...       4.5   \n",
       "4  0049B1DF5CCC  Small act of kindness can impact in other peop...       2.5   \n",
       "\n",
       "   syntax  vocabulary  phraseology  grammar  conventions  error_count  \\\n",
       "0     3.5         3.0          3.0      4.0          3.0            4   \n",
       "1     2.5         3.0          2.0      2.0          2.5            3   \n",
       "2     3.5         3.0          3.0      3.0          2.5            0   \n",
       "3     4.5         4.5          4.5      4.0          5.0            0   \n",
       "4     3.0         3.0          3.0      2.5          2.5           10   \n",
       "\n",
       "   word_count  error_ratio  unique_word_count  unique_ratio  \n",
       "0         262     0.015267                134      0.511450  \n",
       "1         533     0.005629                141      0.264540  \n",
       "2         320     0.000000                122      0.381250  \n",
       "3         727     0.000000                221      0.303989  \n",
       "4         234     0.042735                105      0.448718  "
      ]
     },
     "execution_count": 22,
     "metadata": {},
     "output_type": "execute_result"
    }
   ],
   "source": [
    "train_df.head()"
   ]
  },
  {
   "cell_type": "code",
   "execution_count": 23,
   "metadata": {},
   "outputs": [
    {
     "data": {
      "image/png": "[encoded data removed]",
      "text/plain": [
       "<Figure size 432x288 with 1 Axes>"
      ]
     },
     "metadata": {
      "needs_background": "light"
     },
     "output_type": "display_data"
    }
   ],
   "source": [
    "plt.hist(train_df[\"error_count\"], bins=100)\n",
    "plt.grid();"
   ]
  },
  {
   "cell_type": "code",
   "execution_count": 24,
   "metadata": {},
   "outputs": [
    {
     "data": {
      "image/png": "[encoded data removed]",
      "text/plain": [
       "<Figure size 432x288 with 1 Axes>"
      ]
     },
     "metadata": {
      "needs_background": "light"
     },
     "output_type": "display_data"
    }
   ],
   "source": [
    "plt.hist(train_df[\"word_count\"], bins=100)\n",
    "plt.grid();"
   ]
  },
  {
   "cell_type": "code",
   "execution_count": 25,
   "metadata": {},
   "outputs": [
    {
     "data": {
      "image/png": "[encoded data removed]",
      "text/plain": [
       "<Figure size 432x288 with 1 Axes>"
      ]
     },
     "metadata": {
      "needs_background": "light"
     },
     "output_type": "display_data"
    }
   ],
   "source": [
    "plt.hist(train_df[\"unique_word_count\"], bins=100)\n",
    "plt.grid();"
   ]
  },
  {
   "cell_type": "code",
   "execution_count": 26,
   "metadata": {},
   "outputs": [
    {
     "data": {
      "image/png": "[encoded data removed]",
      "text/plain": [
       "<Figure size 432x288 with 1 Axes>"
      ]
     },
     "metadata": {
      "needs_background": "light"
     },
     "output_type": "display_data"
    }
   ],
   "source": [
    "plt.hist(train_df[\"unique_ratio\"], bins=100)\n",
    "plt.grid();"
   ]
  },
  {
   "cell_type": "code",
   "execution_count": 27,
   "metadata": {},
   "outputs": [
    {
     "data": {
      "image/png": "[encoded data removed]",
      "text/plain": [
       "<Figure size 432x288 with 1 Axes>"
      ]
     },
     "metadata": {
      "needs_background": "light"
     },
     "output_type": "display_data"
    }
   ],
   "source": [
    "plt.hist(train_df[\"error_ratio\"], bins=100)\n",
    "plt.grid();"
   ]
  },
  {
   "cell_type": "code",
   "execution_count": 28,
   "metadata": {},
   "outputs": [
    {
     "data": {
      "text/html": [
       "<div>\n",
       "<style scoped>\n",
       "    .dataframe tbody tr th:only-of-type {\n",
       "        vertical-align: middle;\n",
       "    }\n",
       "\n",
       "    .dataframe tbody tr th {\n",
       "        vertical-align: top;\n",
       "    }\n",
       "\n",
       "    .dataframe thead th {\n",
       "        text-align: right;\n",
       "    }\n",
       "</style>\n",
       "<table border=\"1\" class=\"dataframe\">\n",
       "  <thead>\n",
       "    <tr style=\"text-align: right;\">\n",
       "      <th></th>\n",
       "      <th>text_id</th>\n",
       "      <th>full_text</th>\n",
       "      <th>cohesion</th>\n",
       "      <th>syntax</th>\n",
       "      <th>vocabulary</th>\n",
       "      <th>phraseology</th>\n",
       "      <th>grammar</th>\n",
       "      <th>conventions</th>\n",
       "      <th>error_count</th>\n",
       "      <th>word_count</th>\n",
       "      <th>error_ratio</th>\n",
       "      <th>unique_word_count</th>\n",
       "      <th>unique_ratio</th>\n",
       "    </tr>\n",
       "  </thead>\n",
       "  <tbody>\n",
       "    <tr>\n",
       "      <th>0</th>\n",
       "      <td>0016926B079C</td>\n",
       "      <td>I think that students would benefit from learn...</td>\n",
       "      <td>3.5</td>\n",
       "      <td>3.5</td>\n",
       "      <td>3.0</td>\n",
       "      <td>3.0</td>\n",
       "      <td>4.0</td>\n",
       "      <td>3.0</td>\n",
       "      <td>0.015094</td>\n",
       "      <td>0.211120</td>\n",
       "      <td>0.031577</td>\n",
       "      <td>0.319809</td>\n",
       "      <td>0.554071</td>\n",
       "    </tr>\n",
       "    <tr>\n",
       "      <th>1</th>\n",
       "      <td>0022683E9EA5</td>\n",
       "      <td>When a problem is a change you have to let it ...</td>\n",
       "      <td>2.5</td>\n",
       "      <td>2.5</td>\n",
       "      <td>3.0</td>\n",
       "      <td>2.0</td>\n",
       "      <td>2.0</td>\n",
       "      <td>2.5</td>\n",
       "      <td>0.011321</td>\n",
       "      <td>0.429492</td>\n",
       "      <td>0.011641</td>\n",
       "      <td>0.336516</td>\n",
       "      <td>0.286585</td>\n",
       "    </tr>\n",
       "    <tr>\n",
       "      <th>2</th>\n",
       "      <td>00299B378633</td>\n",
       "      <td>Dear, Principal\\n\\nIf u change the school poli...</td>\n",
       "      <td>3.0</td>\n",
       "      <td>3.5</td>\n",
       "      <td>3.0</td>\n",
       "      <td>3.0</td>\n",
       "      <td>3.0</td>\n",
       "      <td>2.5</td>\n",
       "      <td>0.000000</td>\n",
       "      <td>0.257857</td>\n",
       "      <td>0.000000</td>\n",
       "      <td>0.291169</td>\n",
       "      <td>0.413021</td>\n",
       "    </tr>\n",
       "    <tr>\n",
       "      <th>3</th>\n",
       "      <td>003885A45F42</td>\n",
       "      <td>The best time in life is when you become yours...</td>\n",
       "      <td>4.5</td>\n",
       "      <td>4.5</td>\n",
       "      <td>4.5</td>\n",
       "      <td>4.5</td>\n",
       "      <td>4.0</td>\n",
       "      <td>5.0</td>\n",
       "      <td>0.000000</td>\n",
       "      <td>0.585818</td>\n",
       "      <td>0.000000</td>\n",
       "      <td>0.527446</td>\n",
       "      <td>0.329321</td>\n",
       "    </tr>\n",
       "    <tr>\n",
       "      <th>4</th>\n",
       "      <td>0049B1DF5CCC</td>\n",
       "      <td>Small act of kindness can impact in other peop...</td>\n",
       "      <td>2.5</td>\n",
       "      <td>3.0</td>\n",
       "      <td>3.0</td>\n",
       "      <td>3.0</td>\n",
       "      <td>2.5</td>\n",
       "      <td>2.5</td>\n",
       "      <td>0.037736</td>\n",
       "      <td>0.188558</td>\n",
       "      <td>0.088389</td>\n",
       "      <td>0.250597</td>\n",
       "      <td>0.486111</td>\n",
       "    </tr>\n",
       "  </tbody>\n",
       "</table>\n",
       "</div>"
      ],
      "text/plain": [
       "        text_id                                          full_text  cohesion  \\\n",
       "0  0016926B079C  I think that students would benefit from learn...       3.5   \n",
       "1  0022683E9EA5  When a problem is a change you have to let it ...       2.5   \n",
       "2  00299B378633  Dear, Principal\\n\\nIf u change the school poli...       3.0   \n",
       "3  003885A45F42  The best time in life is when you become yours...       4.5   \n",
       "4  0049B1DF5CCC  Small act of kindness can impact in other peop...       2.5   \n",
       "\n",
       "   syntax  vocabulary  phraseology  grammar  conventions  error_count  \\\n",
       "0     3.5         3.0          3.0      4.0          3.0     0.015094   \n",
       "1     2.5         3.0          2.0      2.0          2.5     0.011321   \n",
       "2     3.5         3.0          3.0      3.0          2.5     0.000000   \n",
       "3     4.5         4.5          4.5      4.0          5.0     0.000000   \n",
       "4     3.0         3.0          3.0      2.5          2.5     0.037736   \n",
       "\n",
       "   word_count  error_ratio  unique_word_count  unique_ratio  \n",
       "0    0.211120     0.031577           0.319809      0.554071  \n",
       "1    0.429492     0.011641           0.336516      0.286585  \n",
       "2    0.257857     0.000000           0.291169      0.413021  \n",
       "3    0.585818     0.000000           0.527446      0.329321  \n",
       "4    0.188558     0.088389           0.250597      0.486111  "
      ]
     },
     "execution_count": 28,
     "metadata": {},
     "output_type": "execute_result"
    }
   ],
   "source": [
    "train_df[\"error_count\"] = train_df[\"error_count\"] / train_df[\"error_count\"].max()\n",
    "train_df[\"word_count\"] = train_df[\"word_count\"] / train_df[\"word_count\"].max()\n",
    "train_df[\"error_ratio\"] = train_df[\"error_ratio\"] / train_df[\"error_ratio\"].max()\n",
    "train_df[\"unique_word_count\"] = train_df[\"unique_word_count\"] / train_df[\"unique_word_count\"].max()\n",
    "train_df[\"unique_ratio\"] = train_df[\"unique_ratio\"] / train_df[\"unique_ratio\"].max()\n",
    "\n",
    "import os\n",
    "os.makedirs(\"./result\", exist_ok=True)\n",
    "train_df.to_csv(\"./result/train.csv\", index=False)\n",
    "\n",
    "train_df.head()"
   ]
  },
  {
   "cell_type": "code",
   "execution_count": null,
   "metadata": {},
   "outputs": [],
   "source": []
  },
  {
   "cell_type": "code",
   "execution_count": null,
   "metadata": {},
   "outputs": [],
   "source": []
  },
  {
   "cell_type": "code",
   "execution_count": null,
   "metadata": {},
   "outputs": [],
   "source": []
  }
 ],
 "metadata": {
  "kernelspec": {
   "display_name": "Python 3",
   "language": "python",
   "name": "python3"
  },
  "language_info": {
   "codemirror_mode": {
    "name": "ipython",
    "version": 3
   },
   "file_extension": ".py",
   "mimetype": "text/x-python",
   "name": "python",
   "nbconvert_exporter": "python",
   "pygments_lexer": "ipython3",
   "version": "3.7.8"
  },
  "papermill": {
   "default_parameters": {},
   "duration": 16.074921,
   "end_time": "2022-08-31T02:20:21.461125",
   "environment_variables": {},
   "exception": null,
   "input_path": "__notebook__.ipynb",
   "output_path": "__notebook__.ipynb",
   "parameters": {},
   "start_time": "2022-08-31T02:20:05.386204",
   "version": "2.3.4"
  }
 },
 "nbformat": 4,
 "nbformat_minor": 5
}
